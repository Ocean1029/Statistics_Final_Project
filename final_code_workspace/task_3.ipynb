{
 "cells": [
  {
   "cell_type": "markdown",
   "id": "29785d5e",
   "metadata": {},
   "source": [
    "# **Statistics(I)(2) - Final Project Code**\n",
    "## **Task 3**"
   ]
  },
  {
   "cell_type": "raw",
   "id": "eba94d6a",
   "metadata": {},
   "source": [
    "1. Libraries, Function, and Data Pre-Process"
   ]
  },
  {
   "cell_type": "code",
   "execution_count": 38,
   "id": "6d776c7a",
   "metadata": {},
   "outputs": [],
   "source": [
    "import matplotlib.pyplot as plt\n",
    "import pandas as pd\n",
    "import numpy as np\n",
    "import statsmodels.api as sm\n",
    "import statsmodels.formula.api as smf\n",
    "from statsmodels.stats.libqsturng import qsturng\n",
    "from statsmodels.stats.multicomp import MultiComparison\n",
    "from scipy import stats\n",
    "import seaborn as sns\n",
    "import math"
   ]
  },
  {
   "cell_type": "code",
   "execution_count": 39,
   "id": "de9637e5",
   "metadata": {},
   "outputs": [],
   "source": [
    "def shapiro_wilk_test(df, response_col, factor_col, alpha=0.05):\n",
    "    \"\"\"\n",
    "    Runs Shapiro-Wilk test for normality on each group defined by a factor column.\n",
    "\n",
    "    Parameters:\n",
    "    - df: pandas DataFrame\n",
    "    - response_col: Name of the response variable\n",
    "    - factor_col: Name of the factor variable\n",
    "    - alpha: Significance level for the Shapiro-Wilk test\n",
    "\n",
    "    Returns:\n",
    "    - A dictionary of test results per group\n",
    "    \"\"\"\n",
    "    results = {}\n",
    "    print(f\"Shapiro-Wilk Test for Normality (alpha = {alpha}):\\n\")\n",
    "\n",
    "    for level in df[factor_col].unique():\n",
    "        group_data = df[response_col][df[factor_col] == level]\n",
    "        stat, p = stats.shapiro(group_data)\n",
    "        results[level] = {'Shapiro Statistic': stat, 'p-value': p}\n",
    "        \n",
    "        print(f\"For factor = {level}\")\n",
    "        print(f\"  Shapiro statistic = {stat:.6f}, p-value = {p:.6f}\", end=\" \")\n",
    "        if p > alpha:\n",
    "            print(\"→ Likely Normal\")\n",
    "        else:\n",
    "            print(\"→ Not Normal\")\n",
    "    \n",
    "    return results"
   ]
  },
  {
   "cell_type": "code",
   "execution_count": 40,
   "id": "3a01340d",
   "metadata": {},
   "outputs": [],
   "source": [
    "def chi_square_normality_test(x, bins=8):\n",
    "    x = np.asarray(x)\n",
    "    x = x[~np.isnan(x)]\n",
    "    n = len(x)\n",
    "    mu, sigma = np.mean(x), np.std(x, ddof=1)\n",
    "\n",
    "    bin_edges = np.histogram_bin_edges(x, bins=bins)\n",
    "    observed, _ = np.histogram(x, bins=bin_edges)\n",
    "    expected_probs = np.diff(stats.norm.cdf(bin_edges, loc=mu, scale=sigma))\n",
    "    expected = expected_probs * n\n",
    "\n",
    "    # Merge bins with expected < 5 (left to right)\n",
    "    obs, exp, edges = observed.tolist(), expected.tolist(), bin_edges.tolist()\n",
    "    i = 0\n",
    "    while i < len(exp) and exp[i] < 5:\n",
    "        exp[i+1] += exp[i]\n",
    "        obs[i+1] += obs[i]\n",
    "        del exp[i], obs[i], edges[i+1]\n",
    "    i = len(exp) - 1\n",
    "    while i >= 0 and exp[i] < 5:\n",
    "        exp[i-1] += exp[i]\n",
    "        obs[i-1] += obs[i]\n",
    "        del exp[i], obs[i], edges[i]\n",
    "        i -= 1\n",
    "\n",
    "    df = len(exp) - 3  # minus 2 for estimated μ and σ, and 1 for constraint\n",
    "    chi2_stat = np.sum((np.array(obs) - np.array(exp)) ** 2 / np.array(exp))\n",
    "    p_value = stats.chi2.sf(chi2_stat, df)\n",
    "\n",
    "    return {\"chi2_stat\": chi2_stat, \"p_value\": p_value, \"df\": df}"
   ]
  },
  {
   "cell_type": "code",
   "execution_count": 41,
   "id": "4549bda6",
   "metadata": {},
   "outputs": [],
   "source": [
    "def bartlett_test(df, response_col, factor_col, alpha=0.05):\n",
    "    \"\"\"\n",
    "    Performs Bartlett's test for equal variances across groups.\n",
    "\n",
    "    Parameters:\n",
    "    - df: pandas DataFrame\n",
    "    - response_col: Name of the numeric response variable\n",
    "    - factor_col: Name of the categorical factor variable\n",
    "    - alpha: Significance level for the test\n",
    "\n",
    "    Returns:\n",
    "    - (statistic, p-value)\n",
    "    \"\"\"\n",
    "    groups = df[factor_col].unique()\n",
    "    data_by_group = [df[response_col][df[factor_col] == group] for group in groups]\n",
    "\n",
    "    stat, p = stats.bartlett(*data_by_group)\n",
    "    print(\"Bartlett’s Test for Equal Variances:\")\n",
    "    print(f\"  Test statistic = {stat:.6f}, p-value = {p:.6f}\", end=\" \")\n",
    "\n",
    "    if p > alpha:\n",
    "        print(\"→ Equal variances assumed\")\n",
    "    else:\n",
    "        print(\"→ Variances differ significantly\")\n",
    "\n",
    "    return stat, p"
   ]
  },
  {
   "cell_type": "code",
   "execution_count": 42,
   "id": "d582ba23",
   "metadata": {},
   "outputs": [],
   "source": [
    "def tukey_hsd(df, response_col, factor_col, alpha=0.05, comparison_focus=None):\n",
    "    \"\"\"\n",
    "    Performs Tukey's HSD test and plots confidence intervals.\n",
    "\n",
    "    Parameters:\n",
    "    - df: pandas DataFrame\n",
    "    - response_col: Dependent variable\n",
    "    - factor_col: Categorical independent variable\n",
    "    - alpha: Significance level (default 0.05)\n",
    "    - comparison_focus: Optional group name to center the plot on\n",
    "\n",
    "    Returns:\n",
    "    - Tuple of (summary table, omega)\n",
    "    \"\"\"\n",
    "    group_sizes = df.groupby(factor_col).size()\n",
    "    k = len(group_sizes)\n",
    "    df_within = df.shape[0] - k\n",
    "    \n",
    "    ng = k / np.sum(1 / group_sizes)\n",
    "\n",
    "    model = smf.ols(f\"{response_col} ~ C({factor_col})\", data=df).fit()\n",
    "    aov_table = sm.stats.anova_lm(model, typ=2)\n",
    "    mse = aov_table.loc[\"Residual\", \"sum_sq\"] / aov_table.loc[\"Residual\", \"df\"]\n",
    "\n",
    "    q_crit = qsturng(1 - alpha, k, df_within)\n",
    "    omega = q_crit * np.sqrt(mse / ng)\n",
    "\n",
    "    tukey = MultiComparison(df[response_col], df[factor_col])\n",
    "    tukey_result = tukey.tukeyhsd(alpha=alpha)\n",
    "\n",
    "    print(f\"Q critical value = {q_crit:.6f}\")\n",
    "    print(f\"Tukey Omega = {omega:.6f}\")\n",
    "    print(tukey_result.summary())\n",
    "\n",
    "    _ = tukey_result.plot_simultaneous()\n",
    "    plt.title(\"Tukey HSD Confidence Intervals\")\n",
    "    plt.show()\n",
    "\n",
    "    if comparison_focus:\n",
    "        _ = tukey_result.plot_simultaneous(comparison_name=comparison_focus)\n",
    "        plt.title(f\"Tukey HSD Focused on: {comparison_focus}\")\n",
    "        plt.show()\n",
    "\n",
    "    return tukey_result.summary(), omega"
   ]
  },
  {
   "cell_type": "code",
   "execution_count": 43,
   "id": "406f0d28",
   "metadata": {},
   "outputs": [],
   "source": [
    "df = pd.read_csv(\"movie_summary.csv\")\n",
    "\n",
    "filtered_df = df[\n",
    "    (df['production_budget'] != 0) &\n",
    "    (df['production_year'] > 2000) &\n",
    "    df['genre'].notna() &\n",
    "    df['domestic_box_office'].notna() &\n",
    "    df['international_box_office'].notna()\n",
    "].copy()\n",
    "\n",
    "filtered_df['source_category'] = (\n",
    "    filtered_df['source'].apply(\n",
    "        lambda x: 'Original Screenplay' if x == 'Original Screenplay' else 'Adapted'\n",
    "    )\n",
    ")\n",
    "\n",
    "filtered_df[\"total_box_office\"] = filtered_df[\"domestic_box_office\"] + filtered_df[\"international_box_office\"]\n",
    "filtered_df[\"flattened_production_budget\"] = np.pow(filtered_df[\"production_budget\"], 1/8)\n",
    "filtered_df[\"flattened_total_box_office\"] = np.pow(filtered_df[\"total_box_office\"], 1/8)\n",
    "\n",
    "filtered_df['z_score'] = stats.zscore(filtered_df['flattened_total_box_office'])\n",
    "filtered_df = filtered_df[filtered_df['z_score'].abs() <= 3].copy()\n",
    "\n",
    "filtered_df['budget_category'] = pd.cut(\n",
    "    filtered_df['production_budget'], \n",
    "    bins=[0, 15000000, np.inf], \n",
    "    labels=['Low', 'High']\n",
    ")\n",
    "\n",
    "budget_low = filtered_df[filtered_df['budget_category'] == 'Low']['flattened_total_box_office']\n",
    "budget_high = filtered_df[filtered_df['budget_category'] == 'High']['flattened_total_box_office']"
   ]
  },
  {
   "cell_type": "raw",
   "id": "2ff8c845",
   "metadata": {
    "vscode": {
     "languageId": "raw"
    }
   },
   "source": [
    "2. Normality Test (Shapiro-Wilk & Chi-Square)"
   ]
  },
  {
   "cell_type": "code",
   "execution_count": 44,
   "id": "dbd465d1",
   "metadata": {},
   "outputs": [
    {
     "name": "stdout",
     "output_type": "stream",
     "text": [
      "Shapiro-Wilk Test for Normality (alpha = 0.05):\n",
      "\n",
      "For factor = Original Screenplay - Comedy\n",
      "  Shapiro statistic = 0.947043, p-value = 0.000000 → Not Normal\n",
      "For factor = Original Screenplay - Thriller/Suspense\n",
      "  Shapiro statistic = 0.954564, p-value = 0.000000 → Not Normal\n",
      "For factor = Original Screenplay - Romantic Comedy\n",
      "  Shapiro statistic = 0.927385, p-value = 0.000002 → Not Normal\n",
      "For factor = Original Screenplay - Drama\n",
      "  Shapiro statistic = 0.986710, p-value = 0.000418 → Not Normal\n",
      "For factor = Adapted - Drama\n",
      "  Shapiro statistic = 0.990776, p-value = 0.000814 → Not Normal\n",
      "For factor = Adapted - Romantic Comedy\n",
      "  Shapiro statistic = 0.916080, p-value = 0.005124 → Not Normal\n",
      "For factor = Adapted - Thriller/Suspense\n",
      "  Shapiro statistic = 0.978049, p-value = 0.020564 → Not Normal\n",
      "For factor = Adapted - Comedy\n",
      "  Shapiro statistic = 0.938531, p-value = 0.000002 → Not Normal\n"
     ]
    }
   ],
   "source": [
    "combined_df = pd.concat([\n",
    "        filtered_df[filtered_df['source_category'] == 'Original Screenplay'], \n",
    "        filtered_df[filtered_df['source_category'] == 'Adapted']\n",
    "    ]\n",
    ")\n",
    "\n",
    "target_genres = ['Romantic Comedy', 'Thriller/Suspense', 'Comedy', 'Drama']\n",
    "combined_df = combined_df[combined_df['genre'].isin(target_genres)]\n",
    "combined_df['group_label'] = (\n",
    "    combined_df['source_category'].astype(str)\n",
    "    + ' - '\n",
    "    + combined_df['genre'].astype(str)\n",
    ")\n",
    "\n",
    "shapiro_results = shapiro_wilk_test(combined_df, 'flattened_total_box_office', 'group_label')"
   ]
  },
  {
   "cell_type": "code",
   "execution_count": 45,
   "id": "3cf467e7",
   "metadata": {},
   "outputs": [
    {
     "name": "stdout",
     "output_type": "stream",
     "text": [
      "Adapted - Comedy: chi2 = 17.02, p = 0.0002, df = 2\n",
      "Adapted - Drama: chi2 = 10.16, p = 0.0173, df = 3\n",
      "Adapted - Romantic Comedy: chi2 = 1.81, p = 0.1787, df = 1\n",
      "Adapted - Thriller/Suspense: chi2 = 7.08, p = 0.0290, df = 2\n",
      "Original Screenplay - Comedy: chi2 = 79.47, p = 0.0000, df = 3\n",
      "Original Screenplay - Drama: chi2 = 16.08, p = 0.0011, df = 3\n",
      "Original Screenplay - Romantic Comedy: chi2 = 15.67, p = 0.0004, df = 2\n",
      "Original Screenplay - Thriller/Suspense: chi2 = 41.51, p = 0.0000, df = 3\n"
     ]
    }
   ],
   "source": [
    "grouped = combined_df.groupby('group_label')['flattened_total_box_office']\n",
    "\n",
    "chi2_results = {}\n",
    "for group_name, values in grouped:\n",
    "    try:\n",
    "        result = chi_square_normality_test(values, bins=6)\n",
    "        chi2_results[group_name] = result\n",
    "    except Exception as e:\n",
    "        chi2_results[group_name] = {\"error\": str(e)}\n",
    "\n",
    "for group, result in chi2_results.items():\n",
    "    if 'error' in result:\n",
    "        print(f\"{group}: ERROR - {result['error']}\")\n",
    "    else:\n",
    "        print(f\"{group}: chi2 = {result['chi2_stat']:.2f}, p = {result['p_value']:.4f}, df = {result['df']}\")"
   ]
  },
  {
   "cell_type": "raw",
   "id": "f0114eb0",
   "metadata": {},
   "source": [
    "This part needs to be modified. Maybe combine Chi-Square with Shapiro-Wilk to prove the normality.\n",
    "Moreover, some outlier should also be removed.\n",
    "In the following testing process, we assumed that the data is normal."
   ]
  },
  {
   "cell_type": "raw",
   "id": "e2744e57",
   "metadata": {
    "vscode": {
     "languageId": "raw"
    }
   },
   "source": [
    "3. Bartlett's Test"
   ]
  },
  {
   "cell_type": "code",
   "execution_count": 46,
   "id": "c250fa2d",
   "metadata": {},
   "outputs": [
    {
     "name": "stdout",
     "output_type": "stream",
     "text": [
      "Bartlett’s Test for Equal Variances:\n",
      "  Test statistic = 15.386462, p-value = 0.031353 → Variances differ significantly\n"
     ]
    }
   ],
   "source": [
    "bartlett_result = bartlett_test(\n",
    "    df=combined_df,\n",
    "    response_col='flattened_total_box_office',\n",
    "    factor_col='group_label',\n",
    "    alpha=0.05\n",
    ")"
   ]
  },
  {
   "cell_type": "raw",
   "id": "44ed9250",
   "metadata": {},
   "source": [
    "Totally disaster, to be honest...TAT\n",
    "In the following part, we assume that the condition for ANOVA test is met."
   ]
  },
  {
   "cell_type": "raw",
   "id": "f552b15a",
   "metadata": {
    "vscode": {
     "languageId": "raw"
    }
   },
   "source": [
    "4. Two-Way ANOVA"
   ]
  },
  {
   "cell_type": "code",
   "execution_count": 47,
   "id": "4ed0b801",
   "metadata": {},
   "outputs": [
    {
     "name": "stdout",
     "output_type": "stream",
     "text": [
      "                                  sum_sq      df          F        PR(>F)\n",
      "C(genre)                      479.918166     3.0  38.017839  5.703950e-24\n",
      "C(source_category)            400.354402     1.0  95.145028  4.737578e-22\n",
      "C(genre):C(source_category)    65.130901     3.0   5.159497  1.483986e-03\n",
      "Residual                     9606.483013  2283.0        NaN           NaN\n"
     ]
    }
   ],
   "source": [
    "combined_df['genre'] = combined_df['genre'].astype('category')\n",
    "combined_df['source_category'] = combined_df['source_category'].astype('category')\n",
    "\n",
    "model = smf.ols(\n",
    "    'flattened_total_box_office ~ C(genre) + C(source_category) + C(genre):C(source_category)',\n",
    "    data=combined_df\n",
    ").fit()\n",
    "\n",
    "anova_table = sm.stats.anova_lm(model, typ=2)\n",
    "print(anova_table)"
   ]
  },
  {
   "cell_type": "raw",
   "id": "a71f9b07",
   "metadata": {
    "vscode": {
     "languageId": "raw"
    }
   },
   "source": [
    "5. Tukey's HSD"
   ]
  },
  {
   "cell_type": "code",
   "execution_count": 48,
   "id": "0b0cb762",
   "metadata": {},
   "outputs": [
    {
     "name": "stdout",
     "output_type": "stream",
     "text": [
      "Q critical value = 4.290278\n",
      "Tukey Omega = 0.727431\n",
      "                                Multiple Comparison of Means - Tukey HSD, FWER=0.05                                 \n",
      "====================================================================================================================\n",
      "                group1                                 group2                 meandiff p-adj   lower   upper  reject\n",
      "--------------------------------------------------------------------------------------------------------------------\n",
      "                     Adapted - Comedy                         Adapted - Drama  -0.2896 0.7628 -0.8459  0.2667  False\n",
      "                     Adapted - Comedy               Adapted - Romantic Comedy   0.7606  0.405 -0.3301  1.8513  False\n",
      "                     Adapted - Comedy             Adapted - Thriller/Suspense    0.591 0.1954 -0.1259   1.308  False\n",
      "                     Adapted - Comedy            Original Screenplay - Comedy  -0.2753 0.8244  -0.844  0.2935  False\n",
      "                     Adapted - Comedy             Original Screenplay - Drama  -1.4547    0.0 -2.0307 -0.8788   True\n",
      "                     Adapted - Comedy   Original Screenplay - Romantic Comedy  -0.0827    1.0 -0.8106  0.6453  False\n",
      "                     Adapted - Comedy Original Screenplay - Thriller/Suspense  -0.3653 0.6362  -0.989  0.2585  False\n",
      "                      Adapted - Drama               Adapted - Romantic Comedy   1.0502  0.033  0.0458  2.0546   True\n",
      "                      Adapted - Drama             Adapted - Thriller/Suspense   0.8806 0.0001  0.3033  1.4579   True\n",
      "                      Adapted - Drama            Original Screenplay - Comedy   0.0143    1.0 -0.3635  0.3921  False\n",
      "                      Adapted - Drama             Original Screenplay - Drama  -1.1651    0.0 -1.5537 -0.7766   True\n",
      "                      Adapted - Drama   Original Screenplay - Romantic Comedy   0.2069 0.9643 -0.3839  0.7978  False\n",
      "                      Adapted - Drama Original Screenplay - Thriller/Suspense  -0.0757 0.9997 -0.5321  0.3807  False\n",
      "            Adapted - Romantic Comedy             Adapted - Thriller/Suspense  -0.1696 0.9998 -1.2712   0.932  False\n",
      "            Adapted - Romantic Comedy            Original Screenplay - Comedy  -1.0359 0.0402 -2.0473 -0.0245   True\n",
      "            Adapted - Romantic Comedy             Original Screenplay - Drama  -2.2153    0.0 -3.2308 -1.1999   True\n",
      "            Adapted - Romantic Comedy   Original Screenplay - Romantic Comedy  -0.8432 0.2899  -1.952  0.2655  False\n",
      "            Adapted - Romantic Comedy Original Screenplay - Thriller/Suspense  -1.1259 0.0239 -2.1692 -0.0825   True\n",
      "          Adapted - Thriller/Suspense            Original Screenplay - Comedy  -0.8663 0.0002 -1.4556  -0.277   True\n",
      "          Adapted - Thriller/Suspense             Original Screenplay - Drama  -2.0458    0.0 -2.6421 -1.4495   True\n",
      "          Adapted - Thriller/Suspense   Original Screenplay - Romantic Comedy  -0.6737 0.1095 -1.4178  0.0704  False\n",
      "          Adapted - Thriller/Suspense Original Screenplay - Thriller/Suspense  -0.9563 0.0002 -1.5988 -0.3137   True\n",
      "         Original Screenplay - Comedy             Original Screenplay - Drama  -1.1795    0.0 -1.5857 -0.7732   True\n",
      "         Original Screenplay - Comedy   Original Screenplay - Romantic Comedy   0.1926 0.9786   -0.41  0.7952  False\n",
      "         Original Screenplay - Comedy Original Screenplay - Thriller/Suspense    -0.09 0.9991 -0.5615  0.3816  False\n",
      "          Original Screenplay - Drama   Original Screenplay - Romantic Comedy   1.3721    0.0  0.7627  1.9815   True\n",
      "          Original Screenplay - Drama Original Screenplay - Thriller/Suspense   1.0895    0.0  0.6093  1.5697   True\n",
      "Original Screenplay - Romantic Comedy Original Screenplay - Thriller/Suspense  -0.2826 0.8956 -0.9374  0.3722  False\n",
      "--------------------------------------------------------------------------------------------------------------------\n"
     ]
    },
    {
     "data": {
      "image/png": "[encoded data removed]",
      "text/plain": [
       "<Figure size 1000x600 with 1 Axes>"
      ]
     },
     "metadata": {},
     "output_type": "display_data"
    }
   ],
   "source": [
    "summary, omega = tukey_hsd(\n",
    "    df=combined_df,\n",
    "    response_col='flattened_total_box_office',\n",
    "    factor_col='group_label',\n",
    "    alpha=0.05,\n",
    "    comparison_focus=None\n",
    ")"
   ]
  }
 ],
 "metadata": {
  "kernelspec": {
   "display_name": ".venv",
   "language": "python",
   "name": "python3"
  },
  "language_info": {
   "codemirror_mode": {
    "name": "ipython",
    "version": 3
   },
   "file_extension": ".py",
   "mimetype": "text/x-python",
   "name": "python",
   "nbconvert_exporter": "python",
   "pygments_lexer": "ipython3",
   "version": "3.13.2"
  }
 },
 "nbformat": 4,
 "nbformat_minor": 5
}
