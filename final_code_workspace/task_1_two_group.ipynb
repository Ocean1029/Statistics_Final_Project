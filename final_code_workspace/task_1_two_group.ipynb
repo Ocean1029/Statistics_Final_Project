{
 "cells": [
  {
   "cell_type": "markdown",
   "id": "750f72b8",
   "metadata": {},
   "source": [
    "# **Statistics(I)(2) - Final Project Code**\n",
    "## **Task 1**"
   ]
  },
  {
   "cell_type": "raw",
   "id": "abe9133d",
   "metadata": {
    "vscode": {
     "languageId": "raw"
    }
   },
   "source": [
    "1. Libraries, Function, and Data Pre-Process"
   ]
  },
  {
   "cell_type": "code",
   "execution_count": 72,
   "id": "4a6c03b8",
   "metadata": {},
   "outputs": [],
   "source": [
    "import matplotlib.pyplot as plt\n",
    "import pandas as pd\n",
    "import numpy as np\n",
    "import statsmodels.formula.api as sm\n",
    "import statsmodels.stats.api as sms\n",
    "from scipy import stats\n",
    "import seaborn as sns\n",
    "import math"
   ]
  },
  {
   "cell_type": "code",
   "execution_count": 73,
   "id": "cc1c5281",
   "metadata": {},
   "outputs": [],
   "source": [
    "def f_test_variances(x1, x2, sides, alpha):\n",
    "    a1 = np.array(x1)\n",
    "    a2 = np.array(x2)\n",
    "\n",
    "    result = np.full((7, 2), None, dtype=float)\n",
    "    \n",
    "    result[0] = [np.mean(a1), np.mean(a2)]                    # Means\n",
    "    result[1] = [np.std(a1, ddof=1), np.std(a2, ddof=1)]      # Sample standard deviations\n",
    "    result[2] = [a1.size, a2.size]                            # Sample sizes\n",
    "\n",
    "    dfn, dfd = a1.size - 1, a2.size - 1\n",
    "    result[3] = [dfn, dfd]\n",
    "\n",
    "    # F-statistic: ratio of sample variances\n",
    "    f_stat = np.var(a1, ddof=1) / np.var(a2, ddof=1)\n",
    "    result[4, 0] = f_stat\n",
    "\n",
    "    # Critical F-values\n",
    "    if sides > 1:\n",
    "        result[5] = [\n",
    "            stats.f.isf(alpha / 2, dfn, dfd),  # Upper critical value\n",
    "            stats.f.ppf(alpha / 2, dfn, dfd)   # Lower critical value\n",
    "        ]\n",
    "    else:\n",
    "        result[5] = [\n",
    "            stats.f.isf(alpha, dfn, dfd),      # One-sided critical value\n",
    "            stats.f.ppf(alpha, dfn, dfd)\n",
    "        ]\n",
    "\n",
    "    if f_stat > 1:\n",
    "        p_value = 1 - stats.f.cdf(f_stat, dfn, dfd)\n",
    "    else:\n",
    "        p_value = stats.f.cdf(f_stat, dfn, dfd)\n",
    "    if sides > 1:\n",
    "        p_value *= 2\n",
    "    result[6, 0] = p_value\n",
    "\n",
    "    labels = ['Mean', 'Std Dev', 'Size', 'Degrees of Freedom', 'F-statistic', 'F-critical', 'p-value']\n",
    "    df = pd.DataFrame(result, index=labels)\n",
    "\n",
    "    return df"
   ]
  },
  {
   "cell_type": "code",
   "execution_count": 74,
   "id": "3ef226e5",
   "metadata": {},
   "outputs": [],
   "source": [
    "def t_test_summary(x1, x2, usevar='pooled', alpha=0.05):\n",
    "    \"\"\"\n",
    "    Runs a t-test using statsmodels' CompareMeans and prints a summary.\n",
    "\n",
    "    Parameters:\n",
    "    - df: DataFrame containing the columns\n",
    "    - col1, col2: Column names to compare\n",
    "    - usevar: 'pooled' (equal variances) or 'unequal' (Welch)\n",
    "    - alpha: Significance level\n",
    "    \"\"\"\n",
    "    group1 = sms.DescrStatsW(x1)\n",
    "    group2 = sms.DescrStatsW(x2)\n",
    "    t_test = sms.CompareMeans(group1, group2)\n",
    "    \n",
    "    return t_test.summary(usevar=usevar, alpha=alpha)"
   ]
  },
  {
   "cell_type": "code",
   "execution_count": 75,
   "id": "c9cd9d9c",
   "metadata": {},
   "outputs": [],
   "source": [
    "df = pd.read_csv(\"movie_summary.csv\")\n",
    "\n",
    "filtered_df = df[\n",
    "    (df['production_budget'] != 0) &\n",
    "    (df['production_year'] > 2000) &\n",
    "    df['genre'].notna() &\n",
    "    df['domestic_box_office'].notna() &\n",
    "    df['international_box_office'].notna()\n",
    "].copy()\n",
    "\n",
    "filtered_df[\"total_box_office\"] = filtered_df[\"domestic_box_office\"] + filtered_df[\"international_box_office\"]\n",
    "filtered_df[\"flattened_production_budget\"] = np.pow(filtered_df[\"production_budget\"], 1/8)\n",
    "filtered_df[\"flattened_total_box_office\"] = np.pow(filtered_df[\"total_box_office\"], 1/8)\n",
    "\n",
    "filtered_df['z_score'] = stats.zscore(filtered_df['flattened_total_box_office'])\n",
    "filtered_df = filtered_df[filtered_df['z_score'].abs() <= 3].copy()\n",
    "\n",
    "filtered_df['budget_category'] = pd.cut(\n",
    "    filtered_df['production_budget'], \n",
    "    bins=[0, 15000000, np.inf], \n",
    "    labels=['Low', 'High']\n",
    ")\n",
    "\n",
    "budget_low = filtered_df[filtered_df['budget_category'] == 'Low']['flattened_total_box_office']\n",
    "budget_high = filtered_df[filtered_df['budget_category'] == 'High']['flattened_total_box_office']"
   ]
  },
  {
   "cell_type": "raw",
   "id": "f1755dda",
   "metadata": {
    "vscode": {
     "languageId": "raw"
    }
   },
   "source": [
    "2. Normality Test (Assume Normal)"
   ]
  },
  {
   "cell_type": "raw",
   "id": "ee410811",
   "metadata": {
    "vscode": {
     "languageId": "raw"
    }
   },
   "source": [
    "3. Bartlett's Test"
   ]
  },
  {
   "cell_type": "code",
   "execution_count": 76,
   "id": "80290a5e",
   "metadata": {},
   "outputs": [
    {
     "data": {
      "text/html": [
       "<div>\n",
       "<style scoped>\n",
       "    .dataframe tbody tr th:only-of-type {\n",
       "        vertical-align: middle;\n",
       "    }\n",
       "\n",
       "    .dataframe tbody tr th {\n",
       "        vertical-align: top;\n",
       "    }\n",
       "\n",
       "    .dataframe thead th {\n",
       "        text-align: right;\n",
       "    }\n",
       "</style>\n",
       "<table border=\"1\" class=\"dataframe\">\n",
       "  <thead>\n",
       "    <tr style=\"text-align: right;\">\n",
       "      <th></th>\n",
       "      <th>0</th>\n",
       "      <th>1</th>\n",
       "    </tr>\n",
       "  </thead>\n",
       "  <tbody>\n",
       "    <tr>\n",
       "      <th>Mean</th>\n",
       "      <td>6.873283e+00</td>\n",
       "      <td>9.823617</td>\n",
       "    </tr>\n",
       "    <tr>\n",
       "      <th>Std Dev</th>\n",
       "      <td>2.046081e+00</td>\n",
       "      <td>1.699519</td>\n",
       "    </tr>\n",
       "    <tr>\n",
       "      <th>Size</th>\n",
       "      <td>1.520000e+03</td>\n",
       "      <td>2184.000000</td>\n",
       "    </tr>\n",
       "    <tr>\n",
       "      <th>Degrees of Freedom</th>\n",
       "      <td>1.519000e+03</td>\n",
       "      <td>2183.000000</td>\n",
       "    </tr>\n",
       "    <tr>\n",
       "      <th>F-statistic</th>\n",
       "      <td>1.449417e+00</td>\n",
       "      <td>NaN</td>\n",
       "    </tr>\n",
       "    <tr>\n",
       "      <th>F-critical</th>\n",
       "      <td>1.096643e+00</td>\n",
       "      <td>0.911162</td>\n",
       "    </tr>\n",
       "    <tr>\n",
       "      <th>p-value</th>\n",
       "      <td>2.442491e-15</td>\n",
       "      <td>NaN</td>\n",
       "    </tr>\n",
       "  </tbody>\n",
       "</table>\n",
       "</div>"
      ],
      "text/plain": [
       "                               0            1\n",
       "Mean                6.873283e+00     9.823617\n",
       "Std Dev             2.046081e+00     1.699519\n",
       "Size                1.520000e+03  2184.000000\n",
       "Degrees of Freedom  1.519000e+03  2183.000000\n",
       "F-statistic         1.449417e+00          NaN\n",
       "F-critical          1.096643e+00     0.911162\n",
       "p-value             2.442491e-15          NaN"
      ]
     },
     "execution_count": 76,
     "metadata": {},
     "output_type": "execute_result"
    }
   ],
   "source": [
    "f_test_variances(budget_low, budget_high, sides=2, alpha=0.05)"
   ]
  },
  {
   "cell_type": "raw",
   "id": "91ff08de",
   "metadata": {
    "vscode": {
     "languageId": "raw"
    }
   },
   "source": [
    "Normality test and f-test passed. We move on to the t-test."
   ]
  },
  {
   "cell_type": "raw",
   "id": "535927d6",
   "metadata": {
    "vscode": {
     "languageId": "raw"
    }
   },
   "source": [
    "4. T-test for Mean Difference"
   ]
  },
  {
   "cell_type": "code",
   "execution_count": 77,
   "id": "ec672ccc",
   "metadata": {},
   "outputs": [
    {
     "data": {
      "text/html": [
       "<table class=\"simpletable\">\n",
       "<caption>Test for equality of means</caption>\n",
       "<tr>\n",
       "      <td></td>         <th>coef</th>     <th>std err</th>      <th>t</th>      <th>P>|t|</th>  <th>[0.025</th>    <th>0.975]</th>  \n",
       "</tr>\n",
       "<tr>\n",
       "  <th>subset #1</th> <td>   -2.9503</td> <td>    0.064</td> <td>  -46.208</td> <td> 0.000</td> <td>   -3.076</td> <td>   -2.825</td>\n",
       "</tr>\n",
       "</table>"
      ],
      "text/latex": [
       "\\begin{center}\n",
       "\\begin{tabular}{lcccccc}\n",
       "\\toprule\n",
       "                    & \\textbf{coef} & \\textbf{std err} & \\textbf{t} & \\textbf{P$> |$t$|$} & \\textbf{[0.025} & \\textbf{0.975]}  \\\\\n",
       "\\midrule\n",
       "\\textbf{subset \\#1} &      -2.9503  &        0.064     &   -46.208  &         0.000        &       -3.076    &       -2.825     \\\\\n",
       "\\bottomrule\n",
       "\\end{tabular}\n",
       "%\\caption{Test for equality of means}\n",
       "\\end{center}"
      ],
      "text/plain": [
       "<class 'statsmodels.iolib.table.SimpleTable'>"
      ]
     },
     "execution_count": 77,
     "metadata": {},
     "output_type": "execute_result"
    }
   ],
   "source": [
    "t_test_summary(budget_low, budget_high, usevar='unequal', alpha=0.05)"
   ]
  },
  {
   "cell_type": "raw",
   "id": "caa66dc1",
   "metadata": {
    "vscode": {
     "languageId": "raw"
    }
   },
   "source": [
    "There is strong evidence that:\n",
    "The movie with higher production budget has higher total box office."
   ]
  }
 ],
 "metadata": {
  "kernelspec": {
   "display_name": ".venv",
   "language": "python",
   "name": "python3"
  },
  "language_info": {
   "codemirror_mode": {
    "name": "ipython",
    "version": 3
   },
   "file_extension": ".py",
   "mimetype": "text/x-python",
   "name": "python",
   "nbconvert_exporter": "python",
   "pygments_lexer": "ipython3",
   "version": "3.13.2"
  }
 },
 "nbformat": 4,
 "nbformat_minor": 5
}
