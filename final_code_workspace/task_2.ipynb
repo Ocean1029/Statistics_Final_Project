{
 "cells": [
  {
   "cell_type": "markdown",
   "id": "12685cc5",
   "metadata": {},
   "source": [
    "# **Statistics(I)(2) - Final Project Code**\n",
    "## **Task 2**"
   ]
  },
  {
   "cell_type": "raw",
   "id": "575b2122",
   "metadata": {},
   "source": [
    "1. Libraries, Function, and Data Pre-Process"
   ]
  },
  {
   "cell_type": "code",
   "execution_count": 135,
   "id": "d79e436e",
   "metadata": {},
   "outputs": [],
   "source": [
    "import matplotlib.pyplot as plt\n",
    "import pandas as pd\n",
    "import numpy as np\n",
    "import statsmodels.api as sm\n",
    "import statsmodels.formula.api as smf\n",
    "from statsmodels.stats.libqsturng import qsturng\n",
    "from statsmodels.stats.multicomp import MultiComparison\n",
    "from scipy import stats\n",
    "import seaborn as sns\n",
    "import math"
   ]
  },
  {
   "cell_type": "code",
   "execution_count": 136,
   "id": "a3860e1d",
   "metadata": {},
   "outputs": [],
   "source": [
    "def shapiro_wilk_test(df, response_col, factor_col, alpha=0.05):\n",
    "    \"\"\"\n",
    "    Runs Shapiro-Wilk test for normality on each group defined by a factor column.\n",
    "\n",
    "    Parameters:\n",
    "    - df: pandas DataFrame\n",
    "    - response_col: Name of the response variable\n",
    "    - factor_col: Name of the factor variable\n",
    "    - alpha: Significance level for the Shapiro-Wilk test\n",
    "\n",
    "    Returns:\n",
    "    - A dictionary of test results per group\n",
    "    \"\"\"\n",
    "    results = {}\n",
    "    print(f\"Shapiro-Wilk Test for Normality (alpha = {alpha}):\\n\")\n",
    "\n",
    "    for level in df[factor_col].unique():\n",
    "        group_data = df[response_col][df[factor_col] == level]\n",
    "        stat, p = stats.shapiro(group_data)\n",
    "        results[level] = {'Shapiro Statistic': stat, 'p-value': p}\n",
    "        \n",
    "        print(f\"For factor = {level}\")\n",
    "        print(f\"  Shapiro statistic = {stat:.6f}, p-value = {p:.6f}\", end=\" \")\n",
    "        if p > alpha:\n",
    "            print(\"→ Likely Normal\")\n",
    "        else:\n",
    "            print(\"→ Not Normal\")\n",
    "    \n",
    "    return results"
   ]
  },
  {
   "cell_type": "code",
   "execution_count": 137,
   "id": "341d2fdd",
   "metadata": {},
   "outputs": [],
   "source": [
    "def chi_square_normality_test(x, bins=8):\n",
    "    x = np.asarray(x)\n",
    "    x = x[~np.isnan(x)]\n",
    "    n = len(x)\n",
    "    mu, sigma = np.mean(x), np.std(x, ddof=1)\n",
    "\n",
    "    bin_edges = np.histogram_bin_edges(x, bins=bins)\n",
    "    observed, _ = np.histogram(x, bins=bin_edges)\n",
    "    expected_probs = np.diff(stats.norm.cdf(bin_edges, loc=mu, scale=sigma))\n",
    "    expected = expected_probs * n\n",
    "\n",
    "    # Merge bins with expected < 5 (left to right)\n",
    "    obs, exp, edges = observed.tolist(), expected.tolist(), bin_edges.tolist()\n",
    "    i = 0\n",
    "    while i < len(exp) and exp[i] < 5:\n",
    "        exp[i+1] += exp[i]\n",
    "        obs[i+1] += obs[i]\n",
    "        del exp[i], obs[i], edges[i+1]\n",
    "    i = len(exp) - 1\n",
    "    while i >= 0 and exp[i] < 5:\n",
    "        exp[i-1] += exp[i]\n",
    "        obs[i-1] += obs[i]\n",
    "        del exp[i], obs[i], edges[i]\n",
    "        i -= 1\n",
    "\n",
    "    df = len(exp) - 3  # minus 2 for estimated μ and σ, and 1 for constraint\n",
    "    chi2_stat = np.sum((np.array(obs) - np.array(exp)) ** 2 / np.array(exp))\n",
    "    p_value = stats.chi2.sf(chi2_stat, df)\n",
    "\n",
    "    return {\"chi2_stat\": chi2_stat, \"p_value\": p_value, \"df\": df}"
   ]
  },
  {
   "cell_type": "code",
   "execution_count": 138,
   "id": "fc5c6072",
   "metadata": {},
   "outputs": [],
   "source": [
    "def bartlett_test(df, response_col, factor_col, alpha=0.05):\n",
    "    \"\"\"\n",
    "    Performs Bartlett's test for equal variances across groups.\n",
    "\n",
    "    Parameters:\n",
    "    - df: pandas DataFrame\n",
    "    - response_col: Name of the numeric response variable\n",
    "    - factor_col: Name of the categorical factor variable\n",
    "    - alpha: Significance level for the test\n",
    "\n",
    "    Returns:\n",
    "    - (statistic, p-value)\n",
    "    \"\"\"\n",
    "    groups = df[factor_col].unique()\n",
    "    data_by_group = [df[response_col][df[factor_col] == group] for group in groups]\n",
    "\n",
    "    stat, p = stats.bartlett(*data_by_group)\n",
    "    print(\"Bartlett’s Test for Equal Variances:\")\n",
    "    print(f\"  Test statistic = {stat:.6f}, p-value = {p:.6f}\", end=\" \")\n",
    "\n",
    "    if p > alpha:\n",
    "        print(\"→ Equal variances assumed\")\n",
    "    else:\n",
    "        print(\"→ Variances differ significantly\")\n",
    "\n",
    "    return stat, p"
   ]
  },
  {
   "cell_type": "code",
   "execution_count": 139,
   "id": "72c88cbd",
   "metadata": {},
   "outputs": [],
   "source": [
    "def tukey_hsd(df, response_col, factor_col, alpha=0.05, comparison_focus=None):\n",
    "    \"\"\"\n",
    "    Performs Tukey's HSD test and plots confidence intervals.\n",
    "\n",
    "    Parameters:\n",
    "    - df: pandas DataFrame\n",
    "    - response_col: Dependent variable\n",
    "    - factor_col: Categorical independent variable\n",
    "    - alpha: Significance level (default 0.05)\n",
    "    - comparison_focus: Optional group name to center the plot on\n",
    "\n",
    "    Returns:\n",
    "    - Tuple of (summary table, omega)\n",
    "    \"\"\"\n",
    "    group_sizes = df.groupby(factor_col).size()\n",
    "    k = len(group_sizes)\n",
    "    df_within = df.shape[0] - k\n",
    "    \n",
    "    ng = k / np.sum(1 / group_sizes)\n",
    "\n",
    "    model = smf.ols(f\"{response_col} ~ C({factor_col})\", data=df).fit()\n",
    "    aov_table = sm.stats.anova_lm(model, typ=2)\n",
    "    mse = aov_table.loc[\"Residual\", \"sum_sq\"] / aov_table.loc[\"Residual\", \"df\"]\n",
    "\n",
    "    q_crit = qsturng(1 - alpha, k, df_within)\n",
    "    omega = q_crit * np.sqrt(mse / ng)\n",
    "\n",
    "    tukey = MultiComparison(df[response_col], df[factor_col])\n",
    "    tukey_result = tukey.tukeyhsd(alpha=alpha)\n",
    "\n",
    "    print(f\"Q critical value = {q_crit:.6f}\")\n",
    "    print(f\"Tukey Omega = {omega:.6f}\")\n",
    "    print(tukey_result.summary())\n",
    "\n",
    "    _ = tukey_result.plot_simultaneous()\n",
    "    plt.title(\"Tukey HSD Confidence Intervals\")\n",
    "    plt.show()\n",
    "\n",
    "    if comparison_focus:\n",
    "        _ = tukey_result.plot_simultaneous(comparison_name=comparison_focus)\n",
    "        plt.title(f\"Tukey HSD Focused on: {comparison_focus}\")\n",
    "        plt.show()\n",
    "\n",
    "    return tukey_result.summary(), omega"
   ]
  },
  {
   "cell_type": "code",
   "execution_count": 140,
   "id": "ddb80b7c",
   "metadata": {},
   "outputs": [],
   "source": [
    "df = pd.read_csv(\"movie_summary.csv\")\n",
    "\n",
    "filtered_df = df[\n",
    "    (df['production_budget'] != 0) &\n",
    "    (df['production_year'] > 2000) &\n",
    "    df['genre'].notna() &\n",
    "    df['domestic_box_office'].notna() &\n",
    "    df['international_box_office'].notna()\n",
    "].copy()\n",
    "\n",
    "filtered_df[\"total_box_office\"] = filtered_df[\"domestic_box_office\"] + filtered_df[\"international_box_office\"]\n",
    "filtered_df[\"flattened_production_budget\"] = np.pow(filtered_df[\"production_budget\"], 1/8)\n",
    "filtered_df[\"flattened_total_box_office\"] = np.pow(filtered_df[\"total_box_office\"], 1/8)\n",
    "\n",
    "filtered_df['z_score'] = stats.zscore(filtered_df['flattened_total_box_office'])\n",
    "filtered_df = filtered_df[filtered_df['z_score'].abs() <= 3].copy()\n",
    "\n",
    "filtered_df['budget_category'] = pd.cut(\n",
    "    filtered_df['production_budget'], \n",
    "    bins=[0, 15000000, np.inf], \n",
    "    labels=['Low', 'High']\n",
    ")\n",
    "\n",
    "budget_low = filtered_df[filtered_df['budget_category'] == 'Low']['flattened_total_box_office']\n",
    "budget_high = filtered_df[filtered_df['budget_category'] == 'High']['flattened_total_box_office']"
   ]
  },
  {
   "cell_type": "raw",
   "id": "96b05e6f",
   "metadata": {
    "vscode": {
     "languageId": "raw"
    }
   },
   "source": [
    "2. Normality Test (Shapiro-Wilk & Chi-Square)"
   ]
  },
  {
   "cell_type": "code",
   "execution_count": 141,
   "id": "fc36e79e",
   "metadata": {},
   "outputs": [
    {
     "name": "stdout",
     "output_type": "stream",
     "text": [
      "Shapiro-Wilk Test for Normality (alpha = 0.05):\n",
      "\n",
      "For factor = Low - Romantic Comedy\n",
      "  Shapiro statistic = 0.943194, p-value = 0.002749 → Not Normal\n",
      "For factor = Low - Comedy\n",
      "  Shapiro statistic = 0.969663, p-value = 0.000012 → Not Normal\n",
      "For factor = Low - Drama\n",
      "  Shapiro statistic = 0.991807, p-value = 0.002485 → Not Normal\n",
      "For factor = Low - Thriller/Suspense\n",
      "  Shapiro statistic = 0.969653, p-value = 0.001255 → Not Normal\n",
      "For factor = High - Drama\n",
      "  Shapiro statistic = 0.989126, p-value = 0.001689 → Not Normal\n",
      "For factor = High - Comedy\n",
      "  Shapiro statistic = 0.980379, p-value = 0.000060 → Not Normal\n",
      "For factor = High - Thriller/Suspense\n",
      "  Shapiro statistic = 0.987625, p-value = 0.029416 → Not Normal\n",
      "For factor = High - Romantic Comedy\n",
      "  Shapiro statistic = 0.948934, p-value = 0.000499 → Not Normal\n"
     ]
    }
   ],
   "source": [
    "combined_df = pd.concat([\n",
    "        filtered_df[filtered_df['budget_category'] == 'Low'], \n",
    "        filtered_df[filtered_df['budget_category'] == 'High']\n",
    "    ]\n",
    ")\n",
    "\n",
    "target_genres = ['Romantic Comedy', 'Thriller/Suspense', 'Comedy', 'Drama']\n",
    "combined_df = combined_df[combined_df['genre'].isin(target_genres)]\n",
    "combined_df['group_label'] = (\n",
    "    combined_df['budget_category'].astype(str)\n",
    "    + ' - '\n",
    "    + combined_df['genre'].astype(str)\n",
    ")\n",
    "\n",
    "shapiro_results = shapiro_wilk_test(combined_df, 'flattened_total_box_office', 'group_label')"
   ]
  },
  {
   "cell_type": "code",
   "execution_count": 147,
   "id": "62462daf",
   "metadata": {},
   "outputs": [
    {
     "name": "stdout",
     "output_type": "stream",
     "text": [
      "High - Comedy: chi2 = 6.12, p = 0.0468, df = 2\n",
      "High - Drama: chi2 = 5.21, p = 0.0740, df = 2\n",
      "High - Romantic Comedy: chi2 = 1.47, p = 0.2248, df = 1\n",
      "High - Thriller/Suspense: chi2 = 2.86, p = 0.2390, df = 2\n",
      "Low - Comedy: chi2 = 33.59, p = 0.0000, df = 3\n",
      "Low - Drama: chi2 = 12.65, p = 0.0055, df = 3\n",
      "Low - Romantic Comedy: chi2 = 4.51, p = 0.0338, df = 1\n",
      "Low - Thriller/Suspense: chi2 = 11.92, p = 0.0077, df = 3\n"
     ]
    }
   ],
   "source": [
    "grouped = combined_df.groupby('group_label')['flattened_total_box_office']\n",
    "\n",
    "chi2_results = {}\n",
    "for group_name, values in grouped:\n",
    "    try:\n",
    "        result = chi_square_normality_test(values, bins=6)\n",
    "        chi2_results[group_name] = result\n",
    "    except Exception as e:\n",
    "        chi2_results[group_name] = {\"error\": str(e)}\n",
    "\n",
    "for group, result in chi2_results.items():\n",
    "    if 'error' in result:\n",
    "        print(f\"{group}: ERROR - {result['error']}\")\n",
    "    else:\n",
    "        print(f\"{group}: chi2 = {result['chi2_stat']:.2f}, p = {result['p_value']:.4f}, df = {result['df']}\")\n"
   ]
  },
  {
   "cell_type": "raw",
   "id": "32a645c4",
   "metadata": {
    "vscode": {
     "languageId": "raw"
    }
   },
   "source": [
    "This part needs to be modified. Maybe combine Chi-Square with Shapiro-Wilk to prove the normality.\n",
    "Moreover, some outlier should also be removed.\n",
    "In the following testing process, we assumed that the data is normal."
   ]
  },
  {
   "cell_type": "raw",
   "id": "2b5021cd",
   "metadata": {
    "vscode": {
     "languageId": "raw"
    }
   },
   "source": [
    "3. Bartlett's Test"
   ]
  },
  {
   "cell_type": "code",
   "execution_count": 143,
   "id": "43f2af9b",
   "metadata": {},
   "outputs": [
    {
     "name": "stdout",
     "output_type": "stream",
     "text": [
      "Bartlett’s Test for Equal Variances:\n",
      "  Test statistic = 140.311561, p-value = 0.000000 → Variances differ significantly\n"
     ]
    }
   ],
   "source": [
    "bartlett_result = bartlett_test(\n",
    "    df=combined_df,\n",
    "    response_col='flattened_total_box_office',\n",
    "    factor_col='group_label',\n",
    "    alpha=0.05\n",
    ")"
   ]
  },
  {
   "cell_type": "raw",
   "id": "d7a4fbc0",
   "metadata": {
    "vscode": {
     "languageId": "raw"
    }
   },
   "source": [
    "Totally disaster, to be honest...TAT\n",
    "In the following part, we assume that the condition for ANOVA test is met."
   ]
  },
  {
   "cell_type": "raw",
   "id": "5f24aafc",
   "metadata": {
    "vscode": {
     "languageId": "raw"
    }
   },
   "source": [
    "4. Two-Way ANOVA Test"
   ]
  },
  {
   "cell_type": "code",
   "execution_count": 144,
   "id": "f4a8e28c",
   "metadata": {},
   "outputs": [
    {
     "name": "stdout",
     "output_type": "stream",
     "text": [
      "                                  sum_sq      df            F         PR(>F)\n",
      "C(genre)                       67.705396     3.0     7.703879   4.037394e-05\n",
      "C(budget_category)           3367.258387     1.0  1149.433584  2.015924e-204\n",
      "C(genre):C(budget_category)    16.675923     3.0     1.897475   1.278951e-01\n",
      "Residual                     6688.034006  2283.0          NaN            NaN\n"
     ]
    }
   ],
   "source": [
    "combined_df['genre'] = combined_df['genre'].astype('category')\n",
    "combined_df['budget_category'] = combined_df['budget_category'].astype('category')\n",
    "\n",
    "model = smf.ols(\n",
    "    'flattened_total_box_office ~ C(genre) + C(budget_category) + C(genre):C(budget_category)',\n",
    "    data=combined_df\n",
    ").fit()\n",
    "\n",
    "anova_table = sm.stats.anova_lm(model, typ=2)\n",
    "print(anova_table)"
   ]
  },
  {
   "cell_type": "raw",
   "id": "f8bc1671",
   "metadata": {
    "vscode": {
     "languageId": "raw"
    }
   },
   "source": [
    "There exists mean differences in budget factors and movie genre factors."
   ]
  },
  {
   "cell_type": "raw",
   "id": "19cecc4b",
   "metadata": {
    "vscode": {
     "languageId": "raw"
    }
   },
   "source": [
    "5. Tukey's HSD"
   ]
  },
  {
   "cell_type": "code",
   "execution_count": 145,
   "id": "443fe774",
   "metadata": {},
   "outputs": [
    {
     "name": "stdout",
     "output_type": "stream",
     "text": [
      "Q critical value = 4.290278\n",
      "Tukey Omega = 0.542716\n",
      "                  Multiple Comparison of Means - Tukey HSD, FWER=0.05                   \n",
      "========================================================================================\n",
      "         group1                   group2          meandiff p-adj   lower   upper  reject\n",
      "----------------------------------------------------------------------------------------\n",
      "           High - Comedy             High - Drama  -0.4405 0.0056 -0.8024 -0.0787   True\n",
      "           High - Comedy   High - Romantic Comedy   0.2626 0.8629 -0.3112  0.8364  False\n",
      "           High - Comedy High - Thriller/Suspense   0.0318    1.0 -0.3923  0.4559  False\n",
      "           High - Comedy             Low - Comedy  -2.6473    0.0 -3.0581 -2.2365   True\n",
      "           High - Comedy              Low - Drama  -2.7131    0.0 -3.0571 -2.3692   True\n",
      "           High - Comedy    Low - Romantic Comedy   -2.388    0.0 -3.0566 -1.7195   True\n",
      "           High - Comedy  Low - Thriller/Suspense  -2.4971    0.0 -2.9859 -2.0083   True\n",
      "            High - Drama   High - Romantic Comedy   0.7031 0.0037  0.1416  1.2646   True\n",
      "            High - Drama High - Thriller/Suspense   0.4723 0.0105   0.065  0.8796   True\n",
      "            High - Drama             Low - Comedy  -2.2068    0.0 -2.6002 -1.8134   True\n",
      "            High - Drama              Low - Drama  -2.2726    0.0 -2.5956 -1.9496   True\n",
      "            High - Drama    Low - Romantic Comedy  -1.9475    0.0 -2.6055 -1.2895   True\n",
      "            High - Drama  Low - Thriller/Suspense  -2.0565    0.0 -2.5308 -1.5823   True\n",
      "  High - Romantic Comedy High - Thriller/Suspense  -0.2308  0.943 -0.8342  0.3727  False\n",
      "  High - Romantic Comedy             Low - Comedy  -2.9099    0.0 -3.5041 -2.3157   True\n",
      "  High - Romantic Comedy              Low - Drama  -2.9757    0.0 -3.5258 -2.4256   True\n",
      "  High - Romantic Comedy    Low - Romantic Comedy  -2.6506    0.0 -3.4451 -1.8561   True\n",
      "  High - Romantic Comedy  Low - Thriller/Suspense  -2.7596    0.0 -3.4102 -2.1091   True\n",
      "High - Thriller/Suspense             Low - Comedy  -2.6791    0.0 -3.1305 -2.2278   True\n",
      "High - Thriller/Suspense              Low - Drama  -2.7449    0.0 -3.1364 -2.3535   True\n",
      "High - Thriller/Suspense    Low - Romantic Comedy  -2.4198    0.0  -3.114 -1.7257   True\n",
      "High - Thriller/Suspense  Low - Thriller/Suspense  -2.5289    0.0 -3.0522 -2.0056   True\n",
      "            Low - Comedy              Low - Drama  -0.0658 0.9995 -0.4428  0.3112  False\n",
      "            Low - Comedy    Low - Romantic Comedy   0.2593 0.9464 -0.4268  0.9454  False\n",
      "            Low - Comedy  Low - Thriller/Suspense   0.1502 0.9871 -0.3623  0.6628  False\n",
      "             Low - Drama    Low - Romantic Comedy   0.3251 0.7961 -0.3232  0.9734  False\n",
      "             Low - Drama  Low - Thriller/Suspense   0.2161  0.847 -0.2447  0.6768  False\n",
      "   Low - Romantic Comedy  Low - Thriller/Suspense  -0.1091 0.9998 -0.8445  0.6264  False\n",
      "----------------------------------------------------------------------------------------\n"
     ]
    },
    {
     "data": {
      "image/png": "[encoded data removed]",
      "text/plain": [
       "<Figure size 1000x600 with 1 Axes>"
      ]
     },
     "metadata": {},
     "output_type": "display_data"
    }
   ],
   "source": [
    "summary, omega = tukey_hsd(\n",
    "    df=combined_df,\n",
    "    response_col='flattened_total_box_office',\n",
    "    factor_col='group_label',\n",
    "    alpha=0.05,\n",
    "    comparison_focus=None\n",
    ")"
   ]
  }
 ],
 "metadata": {
  "kernelspec": {
   "display_name": ".venv",
   "language": "python",
   "name": "python3"
  },
  "language_info": {
   "codemirror_mode": {
    "name": "ipython",
    "version": 3
   },
   "file_extension": ".py",
   "mimetype": "text/x-python",
   "name": "python",
   "nbconvert_exporter": "python",
   "pygments_lexer": "ipython3",
   "version": "3.13.2"
  }
 },
 "nbformat": 4,
 "nbformat_minor": 5
}
