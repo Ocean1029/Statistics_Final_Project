{
 "cells": [
  {
   "cell_type": "markdown",
   "id": "12685cc5",
   "metadata": {},
   "source": [
    "# **Statistics(I)(2) - Final Project Code**\n",
    "## **Task 2**"
   ]
  },
  {
   "cell_type": "markdown",
   "id": "cf829e5e-7f07-4f30-b21b-72d6d80d29a4",
   "metadata": {},
   "source": [
    "### **\\*Warning\\***\n",
    "#### Code below contains ambiguous data filtering logic"
   ]
  },
  {
   "cell_type": "raw",
   "id": "575b2122",
   "metadata": {},
   "source": [
    "1. Libraries, Function, and Data Pre-Process"
   ]
  },
  {
   "cell_type": "code",
   "execution_count": 2,
   "id": "d79e436e",
   "metadata": {},
   "outputs": [],
   "source": [
    "import matplotlib.pyplot as plt\n",
    "import pandas as pd\n",
    "import numpy as np\n",
    "import statsmodels.api as sm\n",
    "import statsmodels.formula.api as smf\n",
    "from statsmodels.stats.libqsturng import qsturng\n",
    "from statsmodels.stats.multicomp import MultiComparison\n",
    "from scipy import stats\n",
    "import seaborn as sns\n",
    "import math"
   ]
  },
  {
   "cell_type": "code",
   "execution_count": 3,
   "id": "a3860e1d",
   "metadata": {},
   "outputs": [],
   "source": [
    "def shapiro_wilk_test(df, response_col, factor_col, alpha=0.05):\n",
    "    \"\"\"\n",
    "    Runs Shapiro-Wilk test for normality on each group defined by a factor column.\n",
    "\n",
    "    Parameters:\n",
    "    - df: pandas DataFrame\n",
    "    - response_col: Name of the response variable\n",
    "    - factor_col: Name of the factor variable\n",
    "    - alpha: Significance level for the Shapiro-Wilk test\n",
    "\n",
    "    Returns:\n",
    "    - A dictionary of test results per group\n",
    "    \"\"\"\n",
    "    results = {}\n",
    "    print(f\"Shapiro-Wilk Test for Normality (alpha = {alpha}):\\n\")\n",
    "\n",
    "    for level in df[factor_col].unique():\n",
    "        group_data = df[response_col][df[factor_col] == level]\n",
    "        stat, p = stats.shapiro(group_data)\n",
    "        results[level] = {'Shapiro Statistic': stat, 'p-value': p}\n",
    "        \n",
    "        print(f\"For factor = {level}\")\n",
    "        print(f\"  Shapiro statistic = {stat:.6f}, p-value = {p:.6f}\", end=\" \")\n",
    "        if p > alpha:\n",
    "            print(\"→ Likely Normal\")\n",
    "        else:\n",
    "            print(\"→ Not Normal\")\n",
    "    \n",
    "    return results"
   ]
  },
  {
   "cell_type": "code",
   "execution_count": 4,
   "id": "341d2fdd",
   "metadata": {},
   "outputs": [],
   "source": [
    "def chi_square_normality_test(data, bins=8):\n",
    "    counts, edges = np.histogram(data, bins=bins)\n",
    "    mu, sigma = np.mean(data), np.std(data)\n",
    "    expected_probs = stats.norm.cdf(edges[1:], mu, sigma) - stats.norm.cdf(edges[:-1], mu, sigma)\n",
    "    expected_counts = expected_probs * len(data)\n",
    "    expected_counts *= counts.sum() / expected_counts.sum()\n",
    "    # 卡方檢定\n",
    "    stat, p = stats.chisquare(f_obs=counts, f_exp=expected_counts)\n",
    "    return stat, p"
   ]
  },
  {
   "cell_type": "code",
   "execution_count": 5,
   "id": "fc5c6072",
   "metadata": {},
   "outputs": [],
   "source": [
    "def bartlett_test(df, response_col, factor_col, alpha=0.05):\n",
    "    \"\"\"\n",
    "    Performs Bartlett's test for equal variances across groups.\n",
    "\n",
    "    Parameters:\n",
    "    - df: pandas DataFrame\n",
    "    - response_col: Name of the numeric response variable\n",
    "    - factor_col: Name of the categorical factor variable\n",
    "    - alpha: Significance level for the test\n",
    "\n",
    "    Returns:\n",
    "    - (statistic, p-value)\n",
    "    \"\"\"\n",
    "    groups = df[factor_col].unique()\n",
    "    data_by_group = [df[response_col][df[factor_col] == group] for group in groups]\n",
    "\n",
    "    stat, p = stats.bartlett(*data_by_group)\n",
    "    print(\"Bartlett’s Test for Equal Variances:\")\n",
    "    print(f\"  Test statistic = {stat:.6f}, p-value = {p:.6f}\", end=\" \")\n",
    "\n",
    "    if p > alpha:\n",
    "        print(\"→ Equal variances assumed\")\n",
    "    else:\n",
    "        print(\"→ Variances differ significantly\")\n",
    "\n",
    "    return stat, p"
   ]
  },
  {
   "cell_type": "code",
   "execution_count": 6,
   "id": "72c88cbd",
   "metadata": {},
   "outputs": [],
   "source": [
    "def tukey_hsd(df, response_col, factor_col, alpha=0.05, comparison_focus=None):\n",
    "    \"\"\"\n",
    "    Performs Tukey's HSD test and plots confidence intervals.\n",
    "\n",
    "    Parameters:\n",
    "    - df: pandas DataFrame\n",
    "    - response_col: Dependent variable\n",
    "    - factor_col: Categorical independent variable\n",
    "    - alpha: Significance level (default 0.05)\n",
    "    - comparison_focus: Optional group name to center the plot on\n",
    "\n",
    "    Returns:\n",
    "    - Tuple of (summary table, omega)\n",
    "    \"\"\"\n",
    "    group_sizes = df.groupby(factor_col).size()\n",
    "    k = len(group_sizes)\n",
    "    df_within = df.shape[0] - k\n",
    "    \n",
    "    ng = k / np.sum(1 / group_sizes)\n",
    "\n",
    "    model = smf.ols(f\"{response_col} ~ C({factor_col})\", data=df).fit()\n",
    "    aov_table = sm.stats.anova_lm(model, typ=2)\n",
    "    mse = aov_table.loc[\"Residual\", \"sum_sq\"] / aov_table.loc[\"Residual\", \"df\"]\n",
    "\n",
    "    q_crit = qsturng(1 - alpha, k, df_within)\n",
    "    omega = q_crit * np.sqrt(mse / ng)\n",
    "\n",
    "    tukey = MultiComparison(df[response_col], df[factor_col])\n",
    "    tukey_result = tukey.tukeyhsd(alpha=alpha)\n",
    "\n",
    "    print(f\"Q critical value = {q_crit:.6f}\")\n",
    "    print(f\"Tukey Omega = {omega:.6f}\")\n",
    "    print(tukey_result.summary())\n",
    "\n",
    "    _ = tukey_result.plot_simultaneous()\n",
    "    plt.title(\"Tukey HSD Confidence Intervals\")\n",
    "    plt.show()\n",
    "\n",
    "    if comparison_focus:\n",
    "        _ = tukey_result.plot_simultaneous(comparison_name=comparison_focus)\n",
    "        plt.title(f\"Tukey HSD Focused on: {comparison_focus}\")\n",
    "        plt.show()\n",
    "\n",
    "    return tukey_result.summary(), omega"
   ]
  },
  {
   "cell_type": "code",
   "execution_count": 7,
   "id": "0c2b643d-3a95-44b5-bd3a-39cdff75e5aa",
   "metadata": {},
   "outputs": [
    {
     "name": "stdout",
     "output_type": "stream",
     "text": [
      "min budget: 1100\n",
      "max budget: 130000000\n"
     ]
    }
   ],
   "source": [
    "df = pd.read_csv(\"movie_summary.csv\")\n",
    "\n",
    "filtered_df = df[\n",
    "    (df['production_budget'] != 0) &\n",
    "    (df['production_year'] > 2000) &\n",
    "    df['genre'].notna() &\n",
    "    df['domestic_box_office'].notna() &\n",
    "    df['international_box_office'].notna()\n",
    "].copy()\n",
    "filtered_df[\"total_box_office\"] = filtered_df[\"domestic_box_office\"] + filtered_df[\"international_box_office\"]\n",
    "\n",
    "filtered_df[\"flattened_production_budget\"] = np.power(filtered_df[\"production_budget\"], 1/4)\n",
    "filtered_df[\"flattened_total_box_office\"] = np.power(filtered_df[\"total_box_office\"], 1/4)\n",
    "\n",
    "filtered_df['z_score_bu'] = stats.zscore(filtered_df['production_budget'])\n",
    "filtered_df['z_score_bo'] = stats.zscore(filtered_df['total_box_office'])\n",
    "filtered_df = filtered_df[filtered_df['z_score_bu'].abs() <= 2].copy()\n",
    "filtered_df = filtered_df[filtered_df['z_score_bo'].abs() <= 2].copy()\n",
    "\n",
    "print(\"min budget:\", filtered_df[\"production_budget\"].min())\n",
    "print(\"max budget:\", filtered_df[\"production_budget\"].max())\n",
    "# 預算分4組，每組1000萬\n",
    "bin_edges = [0, 10_000_000, 20_000_000, 30_000_000, np.inf]\n",
    "bin_labels = ['0_1000w', '1000_2000w', '2000_3000w', '3000_4000w']\n",
    "filtered_df['budget_group'] = pd.cut(\n",
    "    filtered_df['production_budget'],\n",
    "    bins=bin_edges,\n",
    "    labels=bin_labels,\n",
    "    include_lowest=True\n",
    ")\n",
    "\n",
    "target_genres = ['Romantic Comedy', 'Thriller/Suspense', 'Comedy', 'Drama']\n",
    "filtered_df = filtered_df[filtered_df['genre'].isin(target_genres)]\n",
    "target_budgets = ['1000_2000w', '2000_3000w', '3000_4000w']\n",
    "filtered_df = filtered_df[filtered_df['budget_group'].isin(target_budgets)]\n",
    "filtered_df['group_label'] = (\n",
    "    filtered_df['budget_group'].astype(str)\n",
    "    + ' - '\n",
    "    + filtered_df['genre'].astype(str)\n",
    ")"
   ]
  },
  {
   "cell_type": "code",
   "execution_count": 8,
   "id": "df645ba4-8156-4bda-90c1-28e612e0e0ce",
   "metadata": {},
   "outputs": [
    {
     "name": "stdout",
     "output_type": "stream",
     "text": [
      "['3000_4000w - Comedy' '3000_4000w - Thriller/Suspense'\n",
      " '3000_4000w - Drama' '3000_4000w - Romantic Comedy'\n",
      " '2000_3000w - Romantic Comedy' '2000_3000w - Drama'\n",
      " '2000_3000w - Thriller/Suspense' '1000_2000w - Drama'\n",
      " '1000_2000w - Comedy' '2000_3000w - Comedy'\n",
      " '1000_2000w - Thriller/Suspense' '1000_2000w - Romantic Comedy']\n",
      "\n"
     ]
    },
    {
     "data": {
      "text/plain": [
       "{'3000_4000w - Comedy': (186, 30),\n",
       " '3000_4000w - Thriller/Suspense': (140, 30),\n",
       " '3000_4000w - Drama': (193, 30),\n",
       " '3000_4000w - Romantic Comedy': (56, 30),\n",
       " '2000_3000w - Romantic Comedy': (32, 30),\n",
       " '2000_3000w - Drama': (137, 30),\n",
       " '2000_3000w - Thriller/Suspense': (56, 30),\n",
       " '1000_2000w - Drama': (250, 30),\n",
       " '1000_2000w - Comedy': (155, 30),\n",
       " '2000_3000w - Comedy': (89, 30),\n",
       " '1000_2000w - Thriller/Suspense': (82, 30),\n",
       " '1000_2000w - Romantic Comedy': (39, 30)}"
      ]
     },
     "metadata": {},
     "output_type": "display_data"
    },
    {
     "data": {
      "text/plain": [
       "{np.float64(19.278054582802632),\n",
       " np.float64(19.65256674582338),\n",
       " np.float64(20.88895889635545),\n",
       " np.float64(20.947119901742866),\n",
       " np.float64(21.130396433324066),\n",
       " np.float64(21.34599149115928),\n",
       " np.float64(21.53993669579026),\n",
       " np.float64(22.93394558699766),\n",
       " np.float64(23.16822534546749),\n",
       " np.float64(23.65548145721869),\n",
       " np.float64(23.684930145090203),\n",
       " np.float64(25.396672634882567)}"
      ]
     },
     "metadata": {},
     "output_type": "display_data"
    }
   ],
   "source": [
    "group_labels = ['3000_4000w - Comedy',  \n",
    " '3000_4000w - Thriller/Suspense', '3000_4000w - Drama', \n",
    " '3000_4000w - Romantic Comedy', '2000_3000w - Romantic Comedy', \n",
    " '2000_3000w - Drama', '2000_3000w - Thriller/Suspense', \n",
    " '1000_2000w - Drama', '1000_2000w - Comedy', '2000_3000w - Comedy',\n",
    " '1000_2000w - Thriller/Suspense', '1000_2000w - Romantic Comedy',]\n",
    "\n",
    "print(filtered_df['group_label'].unique())\n",
    "group_shapes = {label: filtered_df[filtered_df['group_label'] == label].shape for label in group_labels}\n",
    "print()\n",
    "\n",
    "display(group_shapes)\n",
    "\n",
    "variances = {filtered_df[\"flattened_total_box_office\"][filtered_df['group_label'] == label].std(ddof=1) for label in group_labels}\n",
    "display(variances)"
   ]
  },
  {
   "cell_type": "raw",
   "id": "96b05e6f",
   "metadata": {
    "vscode": {
     "languageId": "raw"
    }
   },
   "source": [
    "2. Normality Test (Chi-Square)"
   ]
  },
  {
   "cell_type": "code",
   "execution_count": 9,
   "id": "62462daf",
   "metadata": {},
   "outputs": [
    {
     "name": "stdout",
     "output_type": "stream",
     "text": [
      "\n",
      "預算組別：3000_4000w - Comedy\n",
      "Chi-square    : χ² = 1.7522, p = 0.6254 → 常態\n",
      "\n",
      "預算組別：3000_4000w - Thriller/Suspense\n",
      "Chi-square    : χ² = 1.9875, p = 0.5750 → 常態\n",
      "\n",
      "預算組別：3000_4000w - Drama\n",
      "Chi-square    : χ² = 0.7401, p = 0.8637 → 常態\n",
      "\n",
      "預算組別：3000_4000w - Romantic Comedy\n",
      "Chi-square    : χ² = 1.7303, p = 0.6302 → 常態\n",
      "\n",
      "預算組別：2000_3000w - Romantic Comedy\n",
      "Chi-square    : χ² = 1.5552, p = 0.6696 → 常態\n",
      "\n",
      "預算組別：2000_3000w - Drama\n",
      "Chi-square    : χ² = 0.3815, p = 0.9440 → 常態\n",
      "\n",
      "預算組別：2000_3000w - Thriller/Suspense\n",
      "Chi-square    : χ² = 2.9398, p = 0.4010 → 常態\n",
      "\n",
      "預算組別：1000_2000w - Drama\n",
      "Chi-square    : χ² = 1.1357, p = 0.7685 → 常態\n",
      "\n",
      "預算組別：1000_2000w - Comedy\n",
      "Chi-square    : χ² = 2.5883, p = 0.4595 → 常態\n",
      "\n",
      "預算組別：2000_3000w - Comedy\n",
      "Chi-square    : χ² = 1.3240, p = 0.7234 → 常態\n",
      "\n",
      "預算組別：1000_2000w - Thriller/Suspense\n",
      "Chi-square    : χ² = 2.9863, p = 0.3937 → 常態\n",
      "\n",
      "預算組別：1000_2000w - Romantic Comedy\n",
      "Chi-square    : χ² = 3.3864, p = 0.3358 → 常態\n"
     ]
    }
   ],
   "source": [
    "for label in group_labels:\n",
    "    x = filtered_df['flattened_total_box_office'][filtered_df['group_label'] == label]\n",
    "    # Shapiro-Wilk test\n",
    "    # Chi-square test\n",
    "    try:\n",
    "        c_stat, c_p = chi_square_normality_test(x, 4)\n",
    "        chi_msg = f\"χ² = {c_stat:.4f}, p = {c_p:.4f} → {'常態' if c_p > 0.05 else '不常態'}\"\n",
    "    except ValueError as e:\n",
    "        chi_msg = f\"Chi-square 檢定失敗：{e}\"\n",
    "\n",
    "    print(f\"\\n預算組別：{label}\")\n",
    "    print(f\"Chi-square    : {chi_msg}\")"
   ]
  },
  {
   "cell_type": "raw",
   "id": "32a645c4",
   "metadata": {
    "vscode": {
     "languageId": "raw"
    }
   },
   "source": [
    "This part needs to be modified. Maybe combine Chi-Square with Shapiro-Wilk to prove the normality.\n",
    "Moreover, some outlier should also be removed.\n",
    "In the following testing process, we assumed that the data is normal."
   ]
  },
  {
   "cell_type": "raw",
   "id": "2b5021cd",
   "metadata": {
    "vscode": {
     "languageId": "raw"
    }
   },
   "source": [
    "3. Bartlett's Test"
   ]
  },
  {
   "cell_type": "code",
   "execution_count": 10,
   "id": "43f2af9b",
   "metadata": {},
   "outputs": [
    {
     "name": "stdout",
     "output_type": "stream",
     "text": [
      "Bartlett’s Test for Equal Variances:\n",
      "  Test statistic = 16.483220, p-value = 0.124118 → Equal variances assumed\n"
     ]
    }
   ],
   "source": [
    "# df_clean = filtered_df[filtered_df['group_label'].isin(group_labels)]\n",
    "bartlett_result = bartlett_test(\n",
    "    df=filtered_df,\n",
    "    response_col='flattened_total_box_office',\n",
    "    factor_col='group_label',\n",
    "    alpha=0.05\n",
    ")"
   ]
  },
  {
   "cell_type": "raw",
   "id": "d7a4fbc0",
   "metadata": {
    "vscode": {
     "languageId": "raw"
    }
   },
   "source": [
    "Totally disaster, to be honest...TAT\n",
    "In the following part, we assume that the condition for ANOVA test is met."
   ]
  },
  {
   "cell_type": "markdown",
   "id": "9e654dc3-fa20-471d-8b76-14c8d2785afd",
   "metadata": {},
   "source": [
    "If we dump movies with low budget the result would be beautiful. However this impacts others' work a lot so we are struggling."
   ]
  },
  {
   "cell_type": "raw",
   "id": "5f24aafc",
   "metadata": {
    "vscode": {
     "languageId": "raw"
    }
   },
   "source": [
    "4. Two-Way ANOVA Test"
   ]
  },
  {
   "cell_type": "code",
   "execution_count": 11,
   "id": "f4a8e28c",
   "metadata": {},
   "outputs": [
    {
     "name": "stderr",
     "output_type": "stream",
     "text": [
      "c:\\Users\\chenj\\AppData\\Local\\Programs\\Python\\Python312\\Lib\\site-packages\\statsmodels\\base\\model.py:1894: ValueWarning: covariance of constraints does not have full rank. The number of constraints is 9, but rank is 1\n",
      "  warnings.warn('covariance of constraints does not have full '\n"
     ]
    },
    {
     "data": {
      "text/html": [
       "<div>\n",
       "<style scoped>\n",
       "    .dataframe tbody tr th:only-of-type {\n",
       "        vertical-align: middle;\n",
       "    }\n",
       "\n",
       "    .dataframe tbody tr th {\n",
       "        vertical-align: top;\n",
       "    }\n",
       "\n",
       "    .dataframe thead th {\n",
       "        text-align: right;\n",
       "    }\n",
       "</style>\n",
       "<table border=\"1\" class=\"dataframe\">\n",
       "  <thead>\n",
       "    <tr style=\"text-align: right;\">\n",
       "      <th></th>\n",
       "      <th>sum_sq</th>\n",
       "      <th>df</th>\n",
       "      <th>F</th>\n",
       "      <th>PR(&gt;F)</th>\n",
       "    </tr>\n",
       "  </thead>\n",
       "  <tbody>\n",
       "    <tr>\n",
       "      <th>C(genre)</th>\n",
       "      <td>1.921517e-08</td>\n",
       "      <td>3.0</td>\n",
       "      <td>1.230801e-11</td>\n",
       "      <td>1.000000</td>\n",
       "    </tr>\n",
       "    <tr>\n",
       "      <th>C(budget_group)</th>\n",
       "      <td>-6.545714e-08</td>\n",
       "      <td>3.0</td>\n",
       "      <td>-4.192764e-11</td>\n",
       "      <td>1.000000</td>\n",
       "    </tr>\n",
       "    <tr>\n",
       "      <th>C(genre):C(budget_group)</th>\n",
       "      <td>1.051307e+04</td>\n",
       "      <td>9.0</td>\n",
       "      <td>2.244667e+00</td>\n",
       "      <td>0.134301</td>\n",
       "    </tr>\n",
       "    <tr>\n",
       "      <th>Residual</th>\n",
       "      <td>7.301180e+05</td>\n",
       "      <td>1403.0</td>\n",
       "      <td>NaN</td>\n",
       "      <td>NaN</td>\n",
       "    </tr>\n",
       "  </tbody>\n",
       "</table>\n",
       "</div>"
      ],
      "text/plain": [
       "                                sum_sq      df             F    PR(>F)\n",
       "C(genre)                  1.921517e-08     3.0  1.230801e-11  1.000000\n",
       "C(budget_group)          -6.545714e-08     3.0 -4.192764e-11  1.000000\n",
       "C(genre):C(budget_group)  1.051307e+04     9.0  2.244667e+00  0.134301\n",
       "Residual                  7.301180e+05  1403.0           NaN       NaN"
      ]
     },
     "metadata": {},
     "output_type": "display_data"
    }
   ],
   "source": [
    "# excluded 0_1000w\n",
    "filtered_df['genre'] = filtered_df['genre'].astype('category')\n",
    "filtered_df['budget_category'] = filtered_df['budget_group'].astype('category')\n",
    "\n",
    "model = smf.ols(\n",
    "    'flattened_total_box_office ~ C(genre) + C(budget_group) + C(genre):C(budget_group)',\n",
    "    data=filtered_df\n",
    ").fit()\n",
    "\n",
    "anova_table = sm.stats.anova_lm(model, typ=2)\n",
    "display(anova_table)"
   ]
  },
  {
   "cell_type": "raw",
   "id": "f8bc1671",
   "metadata": {
    "vscode": {
     "languageId": "raw"
    }
   },
   "source": [
    "There exists mean differences in budget factors and movie genre factors."
   ]
  },
  {
   "cell_type": "raw",
   "id": "19cecc4b",
   "metadata": {
    "vscode": {
     "languageId": "raw"
    }
   },
   "source": [
    "5. Tukey's HSD"
   ]
  },
  {
   "cell_type": "code",
   "execution_count": 16,
   "id": "443fe774",
   "metadata": {},
   "outputs": [
    {
     "name": "stdout",
     "output_type": "stream",
     "text": [
      "Q critical value = 4.629652\n",
      "Tukey Omega = 11.855840\n",
      "                         Multiple Comparison of Means - Tukey HSD, FWER=0.05                         \n",
      "=====================================================================================================\n",
      "            group1                         group2             meandiff p-adj   lower    upper  reject\n",
      "-----------------------------------------------------------------------------------------------------\n",
      "           1000_2000w - Comedy             1000_2000w - Drama  -9.4558  0.003 -17.0836  -1.828   True\n",
      "           1000_2000w - Comedy   1000_2000w - Romantic Comedy  -5.0188 0.9866 -18.3851  8.3475  False\n",
      "           1000_2000w - Comedy 1000_2000w - Thriller/Suspense  -3.9302 0.9834 -14.1187  6.2583  False\n",
      "           1000_2000w - Comedy            2000_3000w - Comedy   7.3169 0.3972  -2.6061 17.2399  False\n",
      "           1000_2000w - Comedy             2000_3000w - Drama   3.0882  0.992  -5.6611 11.8375  False\n",
      "           1000_2000w - Comedy   2000_3000w - Romantic Comedy  15.6128  0.022   1.1254 30.1001   True\n",
      "           1000_2000w - Comedy 2000_3000w - Thriller/Suspense    2.532 0.9999   -9.101 14.1649  False\n",
      "           1000_2000w - Comedy            3000_4000w - Comedy  22.8663    0.0  14.7518 30.9809   True\n",
      "           1000_2000w - Comedy             3000_4000w - Drama   16.538    0.0   8.4907 24.5854   True\n",
      "           1000_2000w - Comedy   3000_4000w - Romantic Comedy  27.6604    0.0  16.0275 39.2934   True\n",
      "           1000_2000w - Comedy 3000_4000w - Thriller/Suspense  23.6536    0.0  14.9542  32.353   True\n",
      "            1000_2000w - Drama   1000_2000w - Romantic Comedy    4.437 0.9933  -8.4086 17.2826  False\n",
      "            1000_2000w - Drama 1000_2000w - Thriller/Suspense   5.5256 0.7562  -3.9695 15.0207  False\n",
      "            1000_2000w - Drama            2000_3000w - Comedy  16.7727    0.0   7.5631 25.9824   True\n",
      "            1000_2000w - Drama             2000_3000w - Drama   12.544    0.0   4.6129 20.4751   True\n",
      "            1000_2000w - Drama   2000_3000w - Romantic Comedy  25.0685    0.0  11.0602 39.0769   True\n",
      "            1000_2000w - Drama 2000_3000w - Thriller/Suspense  11.9878 0.0198    0.957 23.0185   True\n",
      "            1000_2000w - Drama            3000_4000w - Comedy  32.3221    0.0  25.0973 39.5469   True\n",
      "            1000_2000w - Drama             3000_4000w - Drama  25.9938    0.0  18.8445 33.1431   True\n",
      "            1000_2000w - Drama   3000_4000w - Romantic Comedy  37.1162    0.0  26.0854 48.1469   True\n",
      "            1000_2000w - Drama 3000_4000w - Thriller/Suspense  33.1094    0.0  25.2334 40.9854   True\n",
      "  1000_2000w - Romantic Comedy 1000_2000w - Thriller/Suspense   1.0886    1.0 -13.4246 15.6017  False\n",
      "  1000_2000w - Romantic Comedy            2000_3000w - Comedy  12.3357 0.1733  -1.9923 26.6637  False\n",
      "  1000_2000w - Romantic Comedy             2000_3000w - Drama    8.107 0.7207  -5.4347 21.6486  False\n",
      "  1000_2000w - Romantic Comedy   2000_3000w - Romantic Comedy  20.6315 0.0085   2.8352 38.4278   True\n",
      "  1000_2000w - Romantic Comedy 2000_3000w - Thriller/Suspense   7.5507 0.9134  -8.0105  23.112  False\n",
      "  1000_2000w - Romantic Comedy            3000_4000w - Comedy  27.8851    0.0  14.7446 41.0256   True\n",
      "  1000_2000w - Romantic Comedy             3000_4000w - Drama  21.5568    0.0   8.4577 34.6559   True\n",
      "  1000_2000w - Romantic Comedy   3000_4000w - Romantic Comedy  32.6792    0.0  17.1179 48.2404   True\n",
      "  1000_2000w - Romantic Comedy 3000_4000w - Thriller/Suspense  28.6724    0.0  15.1629 42.1819   True\n",
      "1000_2000w - Thriller/Suspense            2000_3000w - Comedy  11.2471 0.0581  -0.1739 22.6681  False\n",
      "1000_2000w - Thriller/Suspense             2000_3000w - Drama   7.0184 0.5459  -3.3991 17.4359  False\n",
      "1000_2000w - Thriller/Suspense   2000_3000w - Romantic Comedy   19.543 0.0024   3.9912 35.0947   True\n",
      "1000_2000w - Thriller/Suspense 2000_3000w - Thriller/Suspense   6.4622 0.8958  -6.4722 19.3966  False\n",
      "1000_2000w - Thriller/Suspense            3000_4000w - Comedy  26.7965    0.0  16.9062 36.6869   True\n",
      "1000_2000w - Thriller/Suspense             3000_4000w - Drama  20.4682    0.0  10.6329 30.3035   True\n",
      "1000_2000w - Thriller/Suspense   3000_4000w - Romantic Comedy  31.5906    0.0  18.6562  44.525   True\n",
      "1000_2000w - Thriller/Suspense 3000_4000w - Thriller/Suspense  27.5838    0.0  17.2082 37.9594   True\n",
      "           2000_3000w - Comedy             2000_3000w - Drama  -4.2287 0.9702 -14.3867  5.9293  False\n",
      "           2000_3000w - Comedy   2000_3000w - Romantic Comedy   8.2958 0.8363  -7.0833 23.6749  False\n",
      "           2000_3000w - Comedy 2000_3000w - Thriller/Suspense  -4.7849 0.9865 -17.5113  7.9414  False\n",
      "           2000_3000w - Comedy            3000_4000w - Comedy  15.5494    0.0   5.9328  25.166   True\n",
      "           2000_3000w - Comedy             3000_4000w - Drama   9.2211 0.0707  -0.3389 18.7811  False\n",
      "           2000_3000w - Comedy   3000_4000w - Romantic Comedy  20.3435    0.0   7.6171 33.0698   True\n",
      "           2000_3000w - Comedy 3000_4000w - Thriller/Suspense  16.3367    0.0   6.2217 26.4517   True\n",
      "            2000_3000w - Drama   2000_3000w - Romantic Comedy  12.5245 0.1815  -2.1247 27.1738  False\n",
      "            2000_3000w - Drama 2000_3000w - Thriller/Suspense  -0.5562    1.0 -12.3903 11.2778  False\n",
      "            2000_3000w - Drama            3000_4000w - Comedy  19.7781    0.0  11.3779 28.1784   True\n",
      "            2000_3000w - Drama             3000_4000w - Drama  13.4498    0.0   5.1144 21.7852   True\n",
      "            2000_3000w - Drama   3000_4000w - Romantic Comedy  24.5722    0.0  12.7382 36.4062   True\n",
      "            2000_3000w - Drama 3000_4000w - Thriller/Suspense  20.5654    0.0  11.5989 29.5319   True\n",
      "  2000_3000w - Romantic Comedy 2000_3000w - Thriller/Suspense -13.0808 0.2863 -29.6149  3.4533  False\n",
      "  2000_3000w - Romantic Comedy            3000_4000w - Comedy   7.2536 0.8846  -7.0257 21.5328  False\n",
      "  2000_3000w - Romantic Comedy             3000_4000w - Drama   0.9252    1.0 -13.3159 15.1664  False\n",
      "  2000_3000w - Romantic Comedy   3000_4000w - Romantic Comedy  12.0476 0.4167  -4.4864 28.5817  False\n",
      "  2000_3000w - Romantic Comedy 3000_4000w - Thriller/Suspense   8.0409 0.8179  -6.5787 22.6604  False\n",
      "2000_3000w - Thriller/Suspense            3000_4000w - Comedy  20.3344    0.0   8.9616 31.7071   True\n",
      "2000_3000w - Thriller/Suspense             3000_4000w - Drama   14.006 0.0032   2.6811 25.3309   True\n",
      "2000_3000w - Thriller/Suspense   3000_4000w - Romantic Comedy  25.1284    0.0  11.0281 39.2288   True\n",
      "2000_3000w - Thriller/Suspense 3000_4000w - Thriller/Suspense  21.1216    0.0   9.3245 32.9188   True\n",
      "           3000_4000w - Comedy             3000_4000w - Drama  -6.3283 0.2261 -13.9948  1.3381  False\n",
      "           3000_4000w - Comedy   3000_4000w - Romantic Comedy   4.7941 0.9673  -6.5787 16.1668  False\n",
      "           3000_4000w - Comedy 3000_4000w - Thriller/Suspense   0.7873    1.0   -7.561  9.1356  False\n",
      "            3000_4000w - Drama   3000_4000w - Romantic Comedy  11.1224 0.0597  -0.2025 22.4473  False\n",
      "            3000_4000w - Drama 3000_4000w - Thriller/Suspense   7.1156 0.1758  -1.1674 15.3986  False\n",
      "  3000_4000w - Romantic Comedy 3000_4000w - Thriller/Suspense  -4.0068 0.9942  -15.804  7.7904  False\n",
      "-----------------------------------------------------------------------------------------------------\n"
     ]
    },
    {
     "data": {
      "image/png": "[encoded data removed]",
      "text/plain": [
       "<Figure size 1000x600 with 1 Axes>"
      ]
     },
     "metadata": {},
     "output_type": "display_data"
    },
    {
     "ename": "AttributeError",
     "evalue": "'SimpleTable' object has no attribute 'to_string'",
     "output_type": "error",
     "traceback": [
      "\u001b[1;31m---------------------------------------------------------------------------\u001b[0m",
      "\u001b[1;31mAttributeError\u001b[0m                            Traceback (most recent call last)",
      "Cell \u001b[1;32mIn[16], line 14\u001b[0m\n\u001b[0;32m     11\u001b[0m pd\u001b[38;5;241m.\u001b[39mset_option(\u001b[38;5;124m'\u001b[39m\u001b[38;5;124mdisplay.width\u001b[39m\u001b[38;5;124m'\u001b[39m, \u001b[38;5;241m1000\u001b[39m)\n\u001b[0;32m     12\u001b[0m pd\u001b[38;5;241m.\u001b[39mset_option(\u001b[38;5;124m'\u001b[39m\u001b[38;5;124mdisplay.max_colwidth\u001b[39m\u001b[38;5;124m'\u001b[39m, \u001b[38;5;241m200\u001b[39m)\n\u001b[1;32m---> 14\u001b[0m \u001b[38;5;28mprint\u001b[39m(\u001b[43msummary\u001b[49m\u001b[38;5;241;43m.\u001b[39;49m\u001b[43mto_string\u001b[49m())\n\u001b[0;32m     15\u001b[0m \u001b[38;5;28mprint\u001b[39m(omega)\n",
      "\u001b[1;31mAttributeError\u001b[0m: 'SimpleTable' object has no attribute 'to_string'"
     ]
    }
   ],
   "source": [
    "summary, omega = tukey_hsd(\n",
    "    df=filtered_df,\n",
    "    response_col='flattened_total_box_office',\n",
    "    factor_col='group_label',\n",
    "    alpha=0.05,\n",
    "    comparison_focus=None\n",
    ")\n",
    "import pandas as pd\n",
    "pd.set_option('display.max_rows', 1000)\n",
    "pd.set_option('display.max_columns', 100)\n",
    "pd.set_option('display.width', 1000)\n",
    "pd.set_option('display.max_colwidth', 200)\n",
    "\n",
    "print(summary.to_string())\n",
    "print(omega)"
   ]
  },
  {
   "cell_type": "markdown",
   "id": "50508aaf",
   "metadata": {},
   "source": []
  },
  {
   "cell_type": "markdown",
   "id": "a395f474",
   "metadata": {},
   "source": []
  },
  {
   "cell_type": "code",
   "execution_count": null,
   "id": "ba9936fd",
   "metadata": {},
   "outputs": [],
   "source": []
  },
  {
   "cell_type": "code",
   "execution_count": null,
   "id": "2f6d8087",
   "metadata": {},
   "outputs": [],
   "source": []
  }
 ],
 "metadata": {
  "kernelspec": {
   "display_name": "Python (myenv)",
   "language": "python",
   "name": "myenv"
  },
  "language_info": {
   "codemirror_mode": {
    "name": "ipython",
    "version": 3
   },
   "file_extension": ".py",
   "mimetype": "text/x-python",
   "name": "python",
   "nbconvert_exporter": "python",
   "pygments_lexer": "ipython3",
   "version": "3.12.1"
  }
 },
 "nbformat": 4,
 "nbformat_minor": 5
}
