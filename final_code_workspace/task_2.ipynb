{
 "cells": [
  {
   "cell_type": "markdown",
   "id": "12685cc5",
   "metadata": {},
   "source": [
    "# **Statistics(I)(2) - Final Project Code**\n",
    "## **Task 2**"
   ]
  },
  {
   "cell_type": "raw",
   "id": "575b2122",
   "metadata": {},
   "source": [
    "1. Libraries, Function, and Data Pre-Process"
   ]
  },
  {
   "cell_type": "code",
   "execution_count": 90,
   "id": "d79e436e",
   "metadata": {},
   "outputs": [],
   "source": [
    "import matplotlib.pyplot as plt\n",
    "import pandas as pd\n",
    "import numpy as np\n",
    "import statsmodels.api as sm\n",
    "import statsmodels.formula.api as smf\n",
    "from statsmodels.stats.libqsturng import qsturng\n",
    "from statsmodels.stats.multicomp import MultiComparison\n",
    "from scipy import stats\n",
    "import seaborn as sns\n",
    "import math"
   ]
  },
  {
   "cell_type": "code",
   "execution_count": 91,
   "id": "a3860e1d",
   "metadata": {},
   "outputs": [],
   "source": [
    "def shapiro_wilk_test(df, response_col, factor_col, alpha=0.05):\n",
    "    \"\"\"\n",
    "    Runs Shapiro-Wilk test for normality on each group defined by a factor column.\n",
    "\n",
    "    Parameters:\n",
    "    - df: pandas DataFrame\n",
    "    - response_col: Name of the response variable\n",
    "    - factor_col: Name of the factor variable\n",
    "    - alpha: Significance level for the Shapiro-Wilk test\n",
    "\n",
    "    Returns:\n",
    "    - A dictionary of test results per group\n",
    "    \"\"\"\n",
    "    results = {}\n",
    "    print(f\"Shapiro-Wilk Test for Normality (alpha = {alpha}):\\n\")\n",
    "\n",
    "    for level in df[factor_col].unique():\n",
    "        group_data = df[response_col][df[factor_col] == level]\n",
    "        stat, p = stats.shapiro(group_data)\n",
    "        results[level] = {'Shapiro Statistic': stat, 'p-value': p}\n",
    "        \n",
    "        print(f\"For factor = {level}\")\n",
    "        print(f\"  Shapiro statistic = {stat:.6f}, p-value = {p:.6f}\", end=\" \")\n",
    "        if p > alpha:\n",
    "            print(\"→ Likely Normal\")\n",
    "        else:\n",
    "            print(\"→ Not Normal\")\n",
    "    \n",
    "    return results"
   ]
  },
  {
   "cell_type": "code",
   "execution_count": 92,
   "id": "341d2fdd",
   "metadata": {},
   "outputs": [],
   "source": [
    "def chi_square_normality_test(x, bins=8):\n",
    "    x = np.asarray(x)\n",
    "    x = x[~np.isnan(x)]\n",
    "    n = len(x)\n",
    "    mu, sigma = np.mean(x), np.std(x, ddof=1)\n",
    "\n",
    "    bin_edges = np.histogram_bin_edges(x, bins=bins)\n",
    "    observed, _ = np.histogram(x, bins=bin_edges)\n",
    "    expected_probs = np.diff(stats.norm.cdf(bin_edges, loc=mu, scale=sigma))\n",
    "    expected = expected_probs * n\n",
    "\n",
    "    # Merge bins with expected < 5 (left to right)\n",
    "    obs, exp, edges = observed.tolist(), expected.tolist(), bin_edges.tolist()\n",
    "    i = 0\n",
    "    while i < len(exp) and exp[i] < 5:\n",
    "        exp[i+1] += exp[i]\n",
    "        obs[i+1] += obs[i]\n",
    "        del exp[i], obs[i], edges[i+1]\n",
    "    i = len(exp) - 1\n",
    "    while i >= 0 and exp[i] < 5:\n",
    "        exp[i-1] += exp[i]\n",
    "        obs[i-1] += obs[i]\n",
    "        del exp[i], obs[i], edges[i]\n",
    "        i -= 1\n",
    "\n",
    "    df = len(exp) - 3  # minus 2 for estimated μ and σ, and 1 for constraint\n",
    "    chi2_stat = np.sum((np.array(obs) - np.array(exp)) ** 2 / np.array(exp))\n",
    "    p_value = stats.chi2.sf(chi2_stat, df)\n",
    "\n",
    "    return {\"chi2_stat\": chi2_stat, \"p_value\": p_value, \"df\": df}"
   ]
  },
  {
   "cell_type": "code",
   "execution_count": 93,
   "id": "fc5c6072",
   "metadata": {},
   "outputs": [],
   "source": [
    "def bartlett_test(df, response_col, factor_col, alpha=0.05):\n",
    "    \"\"\"\n",
    "    Performs Bartlett's test for equal variances across groups.\n",
    "\n",
    "    Parameters:\n",
    "    - df: pandas DataFrame\n",
    "    - response_col: Name of the numeric response variable\n",
    "    - factor_col: Name of the categorical factor variable\n",
    "    - alpha: Significance level for the test\n",
    "\n",
    "    Returns:\n",
    "    - (statistic, p-value)\n",
    "    \"\"\"\n",
    "    groups = df[factor_col].unique()\n",
    "    data_by_group = [df[response_col][df[factor_col] == group] for group in groups]\n",
    "\n",
    "    stat, p = stats.bartlett(*data_by_group)\n",
    "    print(\"Bartlett’s Test for Equal Variances:\")\n",
    "    print(f\"  Test statistic = {stat:.6f}, p-value = {p:.6f}\", end=\" \")\n",
    "\n",
    "    if p > alpha:\n",
    "        print(\"→ Equal variances assumed\")\n",
    "    else:\n",
    "        print(\"→ Variances differ significantly\")\n",
    "\n",
    "    return stat, p"
   ]
  },
  {
   "cell_type": "code",
   "execution_count": 94,
   "id": "72c88cbd",
   "metadata": {},
   "outputs": [],
   "source": [
    "def tukey_hsd(df, response_col, factor_col, alpha=0.05, comparison_focus=None):\n",
    "    \"\"\"\n",
    "    Performs Tukey's HSD test and plots confidence intervals.\n",
    "\n",
    "    Parameters:\n",
    "    - df: pandas DataFrame\n",
    "    - response_col: Dependent variable\n",
    "    - factor_col: Categorical independent variable\n",
    "    - alpha: Significance level (default 0.05)\n",
    "    - comparison_focus: Optional group name to center the plot on\n",
    "\n",
    "    Returns:\n",
    "    - Tuple of (summary table, omega)\n",
    "    \"\"\"\n",
    "    group_sizes = df.groupby(factor_col).size()\n",
    "    k = len(group_sizes)\n",
    "    df_within = df.shape[0] - k\n",
    "    \n",
    "    ng = k / np.sum(1 / group_sizes)\n",
    "\n",
    "    model = smf.ols(f\"{response_col} ~ C({factor_col})\", data=df).fit()\n",
    "    aov_table = sm.stats.anova_lm(model, typ=2)\n",
    "    mse = aov_table.loc[\"Residual\", \"sum_sq\"] / aov_table.loc[\"Residual\", \"df\"]\n",
    "\n",
    "    q_crit = qsturng(1 - alpha, k, df_within)\n",
    "    omega = q_crit * np.sqrt(mse / ng)\n",
    "\n",
    "    tukey = MultiComparison(df[response_col], df[factor_col])\n",
    "    tukey_result = tukey.tukeyhsd(alpha=alpha)\n",
    "\n",
    "    print(f\"Q critical value = {q_crit:.6f}\")\n",
    "    print(f\"Tukey Omega = {omega:.6f}\")\n",
    "    print(tukey_result.summary())\n",
    "\n",
    "    _ = tukey_result.plot_simultaneous()\n",
    "    plt.title(\"Tukey HSD Confidence Intervals\")\n",
    "    plt.show()\n",
    "\n",
    "    if comparison_focus:\n",
    "        _ = tukey_result.plot_simultaneous(comparison_name=comparison_focus)\n",
    "        plt.title(f\"Tukey HSD Focused on: {comparison_focus}\")\n",
    "        plt.show()\n",
    "\n",
    "    return tukey_result.summary(), omega"
   ]
  },
  {
   "cell_type": "code",
   "execution_count": 95,
   "id": "ddb80b7c",
   "metadata": {},
   "outputs": [],
   "source": [
    "df = pd.read_csv(\"movie_summary.csv\")\n",
    "\n",
    "filtered_df = df[\n",
    "    (df['production_budget'] != 0) &\n",
    "    (df['production_year'] > 2000) &\n",
    "    df['genre'].notna() &\n",
    "    df['domestic_box_office'].notna() &\n",
    "    df['international_box_office'].notna()\n",
    "].copy()\n",
    "\n",
    "filtered_df[\"total_box_office\"] = filtered_df[\"domestic_box_office\"] + filtered_df[\"international_box_office\"]\n",
    "filtered_df[\"flattened_production_budget\"] = np.pow(filtered_df[\"production_budget\"], 1/8)\n",
    "filtered_df[\"flattened_total_box_office\"] = np.pow(filtered_df[\"total_box_office\"], 1/8)\n",
    "\n",
    "filtered_df['budget_category'] = pd.cut(\n",
    "    filtered_df['production_budget'], \n",
    "    bins=[0, 2000000, 5000000], \n",
    "    labels=['Low', 'High']\n",
    ")\n",
    "\n",
    "budget_low = filtered_df[filtered_df['budget_category'] == 'Low']['flattened_total_box_office']\n",
    "budget_high = filtered_df[filtered_df['budget_category'] == 'High']['flattened_total_box_office']"
   ]
  },
  {
   "cell_type": "raw",
   "id": "96b05e6f",
   "metadata": {
    "vscode": {
     "languageId": "raw"
    }
   },
   "source": [
    "2. Normality Test (Shapiro-Wilk & Chi-Square)"
   ]
  },
  {
   "cell_type": "code",
   "execution_count": 96,
   "id": "fc36e79e",
   "metadata": {},
   "outputs": [
    {
     "name": "stdout",
     "output_type": "stream",
     "text": [
      "Shapiro-Wilk Test for Normality (alpha = 0.05):\n",
      "\n",
      "For factor = Low - Comedy\n",
      "  Shapiro statistic = 0.948507, p-value = 0.006547 → Not Normal\n",
      "For factor = Low - Drama\n",
      "  Shapiro statistic = 0.991449, p-value = 0.425775 → Likely Normal\n",
      "For factor = Low - Thriller/Suspense\n",
      "  Shapiro statistic = 0.985372, p-value = 0.875503 → Likely Normal\n",
      "For factor = Low - Romantic Comedy\n",
      "  Shapiro statistic = 0.908992, p-value = 0.096193 → Likely Normal\n",
      "For factor = High - Romantic Comedy\n",
      "  Shapiro statistic = 0.977027, p-value = 0.953894 → Likely Normal\n",
      "For factor = High - Comedy\n",
      "  Shapiro statistic = 0.956863, p-value = 0.057257 → Likely Normal\n",
      "For factor = High - Drama\n",
      "  Shapiro statistic = 0.982183, p-value = 0.110462 → Likely Normal\n",
      "For factor = High - Thriller/Suspense\n",
      "  Shapiro statistic = 0.945999, p-value = 0.032950 → Not Normal\n"
     ]
    }
   ],
   "source": [
    "combined_df = pd.concat([\n",
    "        filtered_df[filtered_df['budget_category'] == 'Low'], \n",
    "        filtered_df[filtered_df['budget_category'] == 'High']\n",
    "    ]\n",
    ")\n",
    "\n",
    "target_genres = ['Romantic Comedy', 'Thriller/Suspense', 'Comedy', 'Drama']\n",
    "combined_df = combined_df[combined_df['genre'].isin(target_genres)]\n",
    "combined_df['group_label'] = (\n",
    "    combined_df['budget_category'].astype(str)\n",
    "    + ' - '\n",
    "    + combined_df['genre'].astype(str)\n",
    ")\n",
    "\n",
    "shapiro_results = shapiro_wilk_test(combined_df, 'flattened_total_box_office', 'group_label')"
   ]
  },
  {
   "cell_type": "code",
   "execution_count": 97,
   "id": "62462daf",
   "metadata": {},
   "outputs": [
    {
     "name": "stdout",
     "output_type": "stream",
     "text": [
      "High - Comedy: chi2 = 3.62, p = nan, df = 0\n",
      "High - Drama: chi2 = 4.63, p = 0.0313, df = 1\n",
      "High - Romantic Comedy: chi2 = 0.28, p = nan, df = -1\n",
      "High - Thriller/Suspense: chi2 = 15.10, p = 0.0001, df = 1\n",
      "Low - Comedy: chi2 = 6.58, p = nan, df = 0\n",
      "Low - Drama: chi2 = 3.00, p = 0.0833, df = 1\n",
      "Low - Romantic Comedy: chi2 = 0.69, p = nan, df = -1\n",
      "Low - Thriller/Suspense: chi2 = 0.03, p = nan, df = 0\n"
     ]
    }
   ],
   "source": [
    "grouped = combined_df.groupby('group_label')['flattened_total_box_office']\n",
    "\n",
    "chi2_results = {}\n",
    "for group_name, values in grouped:\n",
    "    try:\n",
    "        result = chi_square_normality_test(values, bins=4)\n",
    "        chi2_results[group_name] = result\n",
    "    except Exception as e:\n",
    "        chi2_results[group_name] = {\"error\": str(e)}\n",
    "\n",
    "for group, result in chi2_results.items():\n",
    "    if 'error' in result:\n",
    "        print(f\"{group}: ERROR - {result['error']}\")\n",
    "    else:\n",
    "        print(f\"{group}: chi2 = {result['chi2_stat']:.2f}, p = {result['p_value']:.4f}, df = {result['df']}\")\n"
   ]
  },
  {
   "cell_type": "raw",
   "id": "32a645c4",
   "metadata": {
    "vscode": {
     "languageId": "raw"
    }
   },
   "source": [
    "This part needs to be modified. Maybe combine Chi-Square with Shapiro-Wilk to prove the normality.\n",
    "In the following testing process, we assumed that the data is normal."
   ]
  },
  {
   "cell_type": "raw",
   "id": "2b5021cd",
   "metadata": {
    "vscode": {
     "languageId": "raw"
    }
   },
   "source": [
    "3. Bartlett's Test"
   ]
  },
  {
   "cell_type": "code",
   "execution_count": 98,
   "id": "43f2af9b",
   "metadata": {},
   "outputs": [
    {
     "name": "stdout",
     "output_type": "stream",
     "text": [
      "Bartlett’s Test for Equal Variances:\n",
      "  Test statistic = 6.235084, p-value = 0.512584 → Equal variances assumed\n"
     ]
    }
   ],
   "source": [
    "bartlett_result = bartlett_test(\n",
    "    df=combined_df,\n",
    "    response_col='flattened_total_box_office',\n",
    "    factor_col='group_label',\n",
    "    alpha=0.05\n",
    ")"
   ]
  },
  {
   "cell_type": "raw",
   "id": "a295085f",
   "metadata": {
    "vscode": {
     "languageId": "raw"
    }
   },
   "source": [
    "Normality test and equal variances test passed. We move on to the two-way ANOVA."
   ]
  },
  {
   "cell_type": "raw",
   "id": "5f24aafc",
   "metadata": {
    "vscode": {
     "languageId": "raw"
    }
   },
   "source": [
    "4. Two-Way ANOVA Test"
   ]
  },
  {
   "cell_type": "code",
   "execution_count": 99,
   "id": "f4a8e28c",
   "metadata": {},
   "outputs": [
    {
     "name": "stdout",
     "output_type": "stream",
     "text": [
      "                                  sum_sq     df          F        PR(>F)\n",
      "C(genre)                       10.551768    3.0   1.143947  3.307797e-01\n",
      "C(budget_category)            259.031439    1.0  84.247000  1.044400e-18\n",
      "C(genre):C(budget_category)    37.627719    3.0   4.079328  7.025302e-03\n",
      "Residual                     1589.602638  517.0        NaN           NaN\n"
     ]
    }
   ],
   "source": [
    "combined_df['genre'] = combined_df['genre'].astype('category')\n",
    "combined_df['budget_category'] = combined_df['budget_category'].astype('category')\n",
    "\n",
    "model = smf.ols(\n",
    "    'flattened_total_box_office ~ C(genre) + C(budget_category) + C(genre):C(budget_category)',\n",
    "    data=combined_df\n",
    ").fit()\n",
    "\n",
    "anova_table = sm.stats.anova_lm(model, typ=2)\n",
    "print(anova_table)"
   ]
  },
  {
   "cell_type": "raw",
   "id": "f8bc1671",
   "metadata": {
    "vscode": {
     "languageId": "raw"
    }
   },
   "source": [
    "There exists mean differences between budget, and the two factor interacts."
   ]
  },
  {
   "cell_type": "raw",
   "id": "19cecc4b",
   "metadata": {
    "vscode": {
     "languageId": "raw"
    }
   },
   "source": [
    "5. Tukey's HSD"
   ]
  },
  {
   "cell_type": "code",
   "execution_count": 101,
   "id": "443fe774",
   "metadata": {},
   "outputs": [
    {
     "name": "stdout",
     "output_type": "stream",
     "text": [
      "Q critical value = 4.303947\n",
      "Tukey Omega = 1.265655\n",
      "                  Multiple Comparison of Means - Tukey HSD, FWER=0.05                   \n",
      "========================================================================================\n",
      "         group1                   group2          meandiff p-adj   lower   upper  reject\n",
      "----------------------------------------------------------------------------------------\n",
      "           High - Comedy             High - Drama   -0.272 0.9825 -1.1569  0.6129  False\n",
      "           High - Comedy   High - Romantic Comedy   0.3207 0.9988 -1.2861  1.9275  False\n",
      "           High - Comedy High - Thriller/Suspense   0.0658    1.0 -1.0144  1.1459  False\n",
      "           High - Comedy             Low - Comedy   -2.001    0.0  -2.981  -1.021   True\n",
      "           High - Comedy              Low - Drama  -1.1992 0.0005 -2.0472 -0.3511   True\n",
      "           High - Comedy    Low - Romantic Comedy  -1.9234 0.0025 -3.4144 -0.4325   True\n",
      "           High - Comedy  Low - Thriller/Suspense   -1.857    0.0 -2.9793 -0.7347   True\n",
      "            High - Drama   High - Romantic Comedy   0.5927 0.9325 -0.9138  2.0992  False\n",
      "            High - Drama High - Thriller/Suspense   0.3377 0.9541 -0.5866  1.2621  False\n",
      "            High - Drama             Low - Comedy   -1.729    0.0  -2.534  -0.924   True\n",
      "            High - Drama              Low - Drama  -0.9272 0.0003 -1.5651 -0.2893   True\n",
      "            High - Drama    Low - Romantic Comedy  -1.6515 0.0073 -3.0337 -0.2692   True\n",
      "            High - Drama  Low - Thriller/Suspense   -1.585    0.0 -2.5583 -0.6117   True\n",
      "  High - Romantic Comedy High - Thriller/Suspense   -0.255 0.9998 -1.8838  1.3739  False\n",
      "  High - Romantic Comedy             Low - Comedy  -2.3217 0.0002  -3.886 -0.7575   True\n",
      "  High - Romantic Comedy              Low - Drama  -1.5199 0.0406 -3.0051 -0.0348   True\n",
      "  High - Romantic Comedy    Low - Romantic Comedy  -2.2442   0.01 -4.1701 -0.3182   True\n",
      "  High - Romantic Comedy  Low - Thriller/Suspense  -2.1777 0.0019 -3.8349 -0.5206   True\n",
      "High - Thriller/Suspense             Low - Comedy  -2.0667    0.0 -3.0825  -1.051   True\n",
      "High - Thriller/Suspense              Low - Drama  -1.2649 0.0005 -2.1541 -0.3758   True\n",
      "High - Thriller/Suspense    Low - Romantic Comedy  -1.9892 0.0019 -3.5039 -0.4745   True\n",
      "High - Thriller/Suspense  Low - Thriller/Suspense  -1.9227    0.0 -3.0765  -0.769   True\n",
      "            Low - Comedy              Low - Drama   0.8018 0.0321  0.0374  1.5662   True\n",
      "            Low - Comedy    Low - Romantic Comedy   0.0776    1.0 -1.3674  1.5225  False\n",
      "            Low - Comedy  Low - Thriller/Suspense    0.144 0.9999 -0.9165  1.2045  False\n",
      "             Low - Drama    Low - Romantic Comedy  -0.7243 0.7369 -2.0832  0.6347  False\n",
      "             Low - Drama  Low - Thriller/Suspense  -0.6578  0.397 -1.5978  0.2821  False\n",
      "   Low - Romantic Comedy  Low - Thriller/Suspense   0.0664    1.0 -1.4786  1.6115  False\n",
      "----------------------------------------------------------------------------------------\n"
     ]
    },
    {
     "data": {
      "image/png": "[encoded data removed]",
      "text/plain": [
       "<Figure size 1000x600 with 1 Axes>"
      ]
     },
     "metadata": {},
     "output_type": "display_data"
    }
   ],
   "source": [
    "summary, omega = tukey_hsd(\n",
    "    df=combined_df,\n",
    "    response_col='flattened_total_box_office',\n",
    "    factor_col='group_label',\n",
    "    alpha=0.05,\n",
    "    comparison_focus=None\n",
    ")"
   ]
  }
 ],
 "metadata": {
  "kernelspec": {
   "display_name": ".venv",
   "language": "python",
   "name": "python3"
  },
  "language_info": {
   "codemirror_mode": {
    "name": "ipython",
    "version": 3
   },
   "file_extension": ".py",
   "mimetype": "text/x-python",
   "name": "python",
   "nbconvert_exporter": "python",
   "pygments_lexer": "ipython3",
   "version": "3.13.2"
  }
 },
 "nbformat": 4,
 "nbformat_minor": 5
}
