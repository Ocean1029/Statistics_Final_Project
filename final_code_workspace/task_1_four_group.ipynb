{
 "cells": [
  {
   "cell_type": "markdown",
   "id": "750f72b8",
   "metadata": {},
   "source": [
    "# **Statistics(I)(2) - Final Project Code**\n",
    "## **Task 1**"
   ]
  },
  {
   "cell_type": "raw",
   "id": "abe9133d",
   "metadata": {
    "vscode": {
     "languageId": "raw"
    }
   },
   "source": [
    "1. Libraries, Function, and Data Pre-Process"
   ]
  },
  {
   "cell_type": "code",
   "execution_count": 102,
   "id": "4a6c03b8",
   "metadata": {},
   "outputs": [],
   "source": [
    "import matplotlib.pyplot as plt\n",
    "%matplotlib inline\n",
    "import pandas as pd\n",
    "import numpy as np\n",
    "import statsmodels.formula.api as sm\n",
    "import statsmodels.stats.api as sms\n",
    "from scipy import stats\n",
    "import seaborn as sns\n",
    "import math\n",
    "from scipy.stats import bartlett\n",
    "from statsmodels.formula.api import ols"
   ]
  },
  {
   "cell_type": "code",
   "execution_count": 3,
   "id": "cc1c5281",
   "metadata": {},
   "outputs": [],
   "source": [
    "def f_test_variances(x1, x2, sides, alpha):\n",
    "    a1 = np.array(x1)\n",
    "    a2 = np.array(x2)\n",
    "\n",
    "    result = np.full((7, 2), None, dtype=float)\n",
    "    \n",
    "    result[0] = [np.mean(a1), np.mean(a2)]                    # Means\n",
    "    result[1] = [np.std(a1, ddof=1), np.std(a2, ddof=1)]      # Sample standard deviations\n",
    "    result[2] = [a1.size, a2.size]                            # Sample sizes\n",
    "\n",
    "    dfn, dfd = a1.size - 1, a2.size - 1\n",
    "    result[3] = [dfn, dfd]\n",
    "\n",
    "    # F-statistic: ratio of sample variances\n",
    "    f_stat = np.var(a1, ddof=1) / np.var(a2, ddof=1)\n",
    "    result[4, 0] = f_stat\n",
    "\n",
    "    # Critical F-values\n",
    "    if sides > 1:\n",
    "        result[5] = [\n",
    "            stats.f.isf(alpha / 2, dfn, dfd),  # Upper critical value\n",
    "            stats.f.ppf(alpha / 2, dfn, dfd)   # Lower critical value\n",
    "        ]\n",
    "    else:\n",
    "        result[5] = [\n",
    "            stats.f.isf(alpha, dfn, dfd),      # One-sided critical value\n",
    "            stats.f.ppf(alpha, dfn, dfd)\n",
    "        ]\n",
    "\n",
    "    if f_stat > 1:\n",
    "        p_value = 1 - stats.f.cdf(f_stat, dfn, dfd)\n",
    "    else:\n",
    "        p_value = stats.f.cdf(f_stat, dfn, dfd)\n",
    "    if sides > 1:\n",
    "        p_value *= 2\n",
    "    result[6, 0] = p_value\n",
    "\n",
    "    labels = ['Mean', 'Std Dev', 'Size', 'Degrees of Freedom', 'F-statistic', 'F-critical', 'p-value']\n",
    "    df = pd.DataFrame(result, index=labels)\n",
    "\n",
    "    return df"
   ]
  },
  {
   "cell_type": "code",
   "execution_count": 4,
   "id": "3ef226e5",
   "metadata": {},
   "outputs": [],
   "source": [
    "def t_test_summary(x1, x2, usevar='pooled', alpha=0.05):\n",
    "    \"\"\"\n",
    "    Runs a t-test using statsmodels' CompareMeans and prints a summary.\n",
    "\n",
    "    Parameters:\n",
    "    - df: DataFrame containing the columns\n",
    "    - col1, col2: Column names to compare\n",
    "    - usevar: 'pooled' (equal variances) or 'unequal' (Welch)\n",
    "    - alpha: Significance level\n",
    "    \"\"\"\n",
    "    group1 = sms.DescrStatsW(x1)\n",
    "    group2 = sms.DescrStatsW(x2)\n",
    "    t_test = sms.CompareMeans(group1, group2)\n",
    "    \n",
    "    return t_test.summary(usevar=usevar, alpha=alpha)"
   ]
  },
  {
   "cell_type": "code",
   "execution_count": 5,
   "id": "0dd7f558",
   "metadata": {},
   "outputs": [],
   "source": [
    "def chi_square_normality_test(data, bins=8):\n",
    "    counts, edges = np.histogram(data, bins=bins)\n",
    "    mu, sigma = np.mean(data), np.std(data)\n",
    "    expected_probs = stats.norm.cdf(edges[1:], mu, sigma) - stats.norm.cdf(edges[:-1], mu, sigma)\n",
    "    expected_counts = expected_probs * len(data)\n",
    "    expected_counts *= counts.sum() / expected_counts.sum()\n",
    "    # 卡方檢定\n",
    "    stat, p = stats.chisquare(f_obs=counts, f_exp=expected_counts)\n",
    "    return stat, p"
   ]
  },
  {
   "cell_type": "code",
   "execution_count": 104,
   "id": "03376513-6149-4cfc-93ee-a0faab1a587b",
   "metadata": {},
   "outputs": [],
   "source": [
    "def oneway_anova(df, response_col, factor_col):\n",
    "    \"\"\"\n",
    "    Runs a one-way ANOVA on the given dataframe.\n",
    "    \n",
    "    Parameters:\n",
    "    - df: pandas DataFrame containing the data\n",
    "    - response_col: name of the numeric response variable\n",
    "    - factor_col: name of the categorical factor\n",
    "\n",
    "    Returns:\n",
    "    - ANOVA summary table (DataFrame)\n",
    "    \"\"\"\n",
    "    \n",
    "    formula = f'{response_col} ~ C({factor_col})'\n",
    "    model = ols(formula, data=df).fit()\n",
    "    aov_table = sms.anova_lm(model, typ=2)\n",
    "    \n",
    "    print(\"\\nANOVA Table:\")\n",
    "    display(aov_table)\n"
   ]
  },
  {
   "cell_type": "markdown",
   "id": "7fc8e8f3-224f-4405-b12b-b9891b7f78f8",
   "metadata": {},
   "source": [
    "---"
   ]
  },
  {
   "cell_type": "code",
   "execution_count": 201,
   "id": "c9cd9d9c",
   "metadata": {},
   "outputs": [
    {
     "name": "stdout",
     "output_type": "stream",
     "text": [
      "1100\n",
      "130000000\n"
     ]
    },
    {
     "data": {
      "text/plain": [
       "{'0_1000w': (1190, 29),\n",
       " '1000_2000w': (690, 29),\n",
       " '2000_3000w': (455, 29),\n",
       " '3000_4000w': (1084, 29)}"
      ]
     },
     "metadata": {},
     "output_type": "display_data"
    },
    {
     "data": {
      "text/plain": [
       "{'0_1000w': 26.46457475315951,\n",
       " '1000_2000w': 24.303404478304607,\n",
       " '2000_3000w': 22.158699658229228,\n",
       " '3000_4000w': 23.721726502687645}"
      ]
     },
     "metadata": {},
     "output_type": "display_data"
    }
   ],
   "source": [
    "df = pd.read_csv(\"movie_summary.csv\")\n",
    "\n",
    "filtered_df = df[\n",
    "    (df['production_budget'] > 0) &\n",
    "    (df['production_year'] > 2000) &\n",
    "    df['genre'].notna() &\n",
    "    df['domestic_box_office'].notna() &\n",
    "    df['international_box_office'].notna()\n",
    "].copy()\n",
    "filtered_df[\"total_box_office\"] = filtered_df[\"domestic_box_office\"] + filtered_df[\"international_box_office\"]\n",
    "\n",
    "filtered_df[\"flattened_production_budget\"] = np.power(filtered_df[\"production_budget\"], 1/4)\n",
    "filtered_df[\"flattened_total_box_office\"] = np.power(filtered_df[\"total_box_office\"], 1/4)\n",
    "\n",
    "filtered_df['z_score_bu'] = stats.zscore(filtered_df['production_budget'])\n",
    "filtered_df['z_score_bo'] = stats.zscore(filtered_df['total_box_office'])\n",
    "filtered_df = filtered_df[filtered_df['z_score_bu'].abs() <= 2].copy()\n",
    "filtered_df = filtered_df[filtered_df['z_score_bo'].abs() <= 2].copy()\n",
    "print(filtered_df[\"production_budget\"].min())\n",
    "print(filtered_df[\"production_budget\"].max())\n",
    "# 預算分4組，每組1000萬\n",
    "bin_edges = [0, 10_000_000, 20_000_000, 30_000_000, np.inf]\n",
    "bin_labels = ['0_1000w', '1000_2000w', '2000_3000w', '3000_4000w']\n",
    "filtered_df['budget_group'] = pd.cut(\n",
    "    filtered_df['production_budget'],\n",
    "    bins=bin_edges,\n",
    "    labels=bin_labels,\n",
    "    include_lowest=True\n",
    ")\n",
    "\n",
    "# 分四組完整的 DataFrame\n",
    "grouped_df = {\n",
    "    label: filtered_df[filtered_df['budget_group'] == label].copy()\n",
    "    for label in bin_labels\n",
    "}\n",
    "\n",
    "group_shapes = {label: df.shape for label, df in grouped_df.items()}\n",
    "display(group_shapes)\n",
    "variances = {label: df[\"flattened_total_box_office\"].std(ddof=1) for label, df in grouped_df.items()}\n",
    "display(variances)\n"
   ]
  },
  {
   "cell_type": "code",
   "execution_count": 194,
   "id": "8cf75005",
   "metadata": {},
   "outputs": [
    {
     "name": "stderr",
     "output_type": "stream",
     "text": [
      "E:\\anaconda3\\Lib\\site-packages\\seaborn\\_oldcore.py:1119: FutureWarning: use_inf_as_na option is deprecated and will be removed in a future version. Convert inf values to NaN before operating instead.\n",
      "  with pd.option_context('mode.use_inf_as_na', True):\n",
      "E:\\anaconda3\\Lib\\site-packages\\seaborn\\_oldcore.py:1119: FutureWarning: use_inf_as_na option is deprecated and will be removed in a future version. Convert inf values to NaN before operating instead.\n",
      "  with pd.option_context('mode.use_inf_as_na', True):\n",
      "E:\\anaconda3\\Lib\\site-packages\\seaborn\\_oldcore.py:1119: FutureWarning: use_inf_as_na option is deprecated and will be removed in a future version. Convert inf values to NaN before operating instead.\n",
      "  with pd.option_context('mode.use_inf_as_na', True):\n",
      "E:\\anaconda3\\Lib\\site-packages\\seaborn\\_oldcore.py:1119: FutureWarning: use_inf_as_na option is deprecated and will be removed in a future version. Convert inf values to NaN before operating instead.\n",
      "  with pd.option_context('mode.use_inf_as_na', True):\n"
     ]
    },
    {
     "data": {
      "image/png": "[encoded data removed]",
      "text/plain": [
       "<Figure size 1400x1000 with 4 Axes>"
      ]
     },
     "metadata": {},
     "output_type": "display_data"
    }
   ],
   "source": [
    "# 畫每個組別的票房分布\n",
    "fig, axes = plt.subplots(2, 2, figsize=(14, 10))\n",
    "axes = axes.flatten()\n",
    "\n",
    "for i, label in enumerate(['0_1000w', '1000_2000w', '2000_3000w', '3000_4000w']):\n",
    "    sns.histplot(\n",
    "        data=grouped_df[label],\n",
    "        x='flattened_total_box_office',\n",
    "        bins=4,\n",
    "        kde=True,\n",
    "        ax=axes[i],\n",
    "        color=sns.color_palette(\"Set2\")[i]\n",
    "    )\n",
    "    axes[i].set_title(f\"Budget Group: {label}\")\n",
    "    axes[i].set_xlabel(\"Flattened Total Box Office\")\n",
    "    axes[i].set_ylabel(\"Number of Movies\")\n",
    "\n",
    "plt.tight_layout()\n",
    "plt.show()"
   ]
  },
  {
   "cell_type": "raw",
   "id": "f1755dda",
   "metadata": {
    "vscode": {
     "languageId": "raw"
    }
   },
   "source": [
    "2. Normality Test"
   ]
  },
  {
   "cell_type": "code",
   "execution_count": 199,
   "id": "6497a4ce",
   "metadata": {},
   "outputs": [
    {
     "name": "stdout",
     "output_type": "stream",
     "text": [
      "2.2581008643532257\n",
      "\n",
      "預算組別：0_1000w\n",
      "Shapiro-Wilk  : W = 0.9721, p = 0.0000 → 不常態\n",
      "Chi-square    : χ² = 38.2668, p = 0.0000 → 不常態\n",
      "7.6756233158370755\n",
      "\n",
      "預算組別：1000_2000w\n",
      "Shapiro-Wilk  : W = 0.9960, p = 0.0756 → 常態\n",
      "Chi-square    : χ² = 0.3866, p = 0.9430 → 常態\n",
      "17.373953766328675\n",
      "\n",
      "預算組別：2000_3000w\n",
      "Shapiro-Wilk  : W = 0.9938, p = 0.0618 → 常態\n",
      "Chi-square    : χ² = 1.6800, p = 0.6414 → 常態\n",
      "12.213834219018699\n",
      "\n",
      "預算組別：3000_4000w\n",
      "Shapiro-Wilk  : W = 0.9906, p = 0.0000 → 不常態\n",
      "Chi-square    : χ² = 2.4561, p = 0.4833 → 常態\n"
     ]
    }
   ],
   "source": [
    "# 執行常態檢定\n",
    "for label, df_group in grouped_df.items():\n",
    "    x = df_group[\"flattened_total_box_office\"]\n",
    "    print(x.min())\n",
    "\n",
    "    # Shapiro-Wilk test\n",
    "    s_stat, s_p = stats.shapiro(x)\n",
    "\n",
    "    # Chi-square test\n",
    "    try:\n",
    "        c_stat, c_p = chi_square_normality_test(x, 4)\n",
    "        chi_msg = f\"χ² = {c_stat:.4f}, p = {c_p:.4f} → {'常態' if c_p > 0.05 else '不常態'}\"\n",
    "    except ValueError as e:\n",
    "        chi_msg = f\"Chi-square 檢定失敗：{e}\"\n",
    "\n",
    "    print(f\"\\n預算組別：{label}\")\n",
    "    print(f\"Shapiro-Wilk  : W = {s_stat:.4f}, p = {s_p:.4f} → {'常態' if s_p > 0.05 else '不常態'}\")\n",
    "    print(f\"Chi-square    : {chi_msg}\")"
   ]
  },
  {
   "cell_type": "raw",
   "id": "ee410811",
   "metadata": {
    "vscode": {
     "languageId": "raw"
    }
   },
   "source": [
    "3. Bartlett's Test"
   ]
  },
  {
   "cell_type": "code",
   "execution_count": 196,
   "id": "46692fc8-48e3-4fe1-8612-803cbba5fdc9",
   "metadata": {},
   "outputs": [
    {
     "name": "stdout",
     "output_type": "stream",
     "text": [
      "Bartlett’s test: stat = 25.5666, p = 0.0000 → 變異數不相同\n"
     ]
    }
   ],
   "source": [
    "# Extract the values from each group\n",
    "group_values = [df_group[\"flattened_total_box_office\"].values for df_group in grouped_df.values()]\n",
    "\n",
    "# Run Bartlett's test\n",
    "b_stat, b_p = bartlett(*group_values)\n",
    "bart_msg = f\"Bartlett’s test: stat = {b_stat:.4f}, p = {b_p:.4f} → {'變異數相同' if b_p > 0.05 else '變異數不相同'}\"\n",
    "print(bart_msg)"
   ]
  },
  {
   "cell_type": "code",
   "execution_count": 202,
   "id": "17975876-8c9d-4df1-a45a-1cb769998159",
   "metadata": {},
   "outputs": [
    {
     "name": "stdout",
     "output_type": "stream",
     "text": [
      "Bartlett’s test: stat = 4.7253, p = 0.0942 → 變異數相同\n"
     ]
    }
   ],
   "source": [
    "excluded_labels = ['1000_2000w', '2000_3000w', '3000_4000w']\n",
    "excluded_group_values = [\n",
    "    df[\"flattened_total_box_office\"].values\n",
    "    for label, df in grouped_df.items()\n",
    "    if label in excluded_labels\n",
    "]\n",
    "\n",
    "# Run Bartlett's test\n",
    "b_stat, b_p = bartlett(*excluded_group_values)\n",
    "bart_msg = f\"Bartlett’s test: stat = {b_stat:.4f}, p = {b_p:.4f} → {'變異數相同' if b_p > 0.05 else '變異數不相同'}\"\n",
    "print(bart_msg)\n"
   ]
  },
  {
   "cell_type": "code",
   "execution_count": 76,
   "id": "80290a5e",
   "metadata": {},
   "outputs": [
    {
     "data": {
      "text/html": [
       "<div>\n",
       "<style scoped>\n",
       "    .dataframe tbody tr th:only-of-type {\n",
       "        vertical-align: middle;\n",
       "    }\n",
       "\n",
       "    .dataframe tbody tr th {\n",
       "        vertical-align: top;\n",
       "    }\n",
       "\n",
       "    .dataframe thead th {\n",
       "        text-align: right;\n",
       "    }\n",
       "</style>\n",
       "<table border=\"1\" class=\"dataframe\">\n",
       "  <thead>\n",
       "    <tr style=\"text-align: right;\">\n",
       "      <th></th>\n",
       "      <th>0</th>\n",
       "      <th>1</th>\n",
       "    </tr>\n",
       "  </thead>\n",
       "  <tbody>\n",
       "    <tr>\n",
       "      <th>Mean</th>\n",
       "      <td>6.873283e+00</td>\n",
       "      <td>9.823617</td>\n",
       "    </tr>\n",
       "    <tr>\n",
       "      <th>Std Dev</th>\n",
       "      <td>2.046081e+00</td>\n",
       "      <td>1.699519</td>\n",
       "    </tr>\n",
       "    <tr>\n",
       "      <th>Size</th>\n",
       "      <td>1.520000e+03</td>\n",
       "      <td>2184.000000</td>\n",
       "    </tr>\n",
       "    <tr>\n",
       "      <th>Degrees of Freedom</th>\n",
       "      <td>1.519000e+03</td>\n",
       "      <td>2183.000000</td>\n",
       "    </tr>\n",
       "    <tr>\n",
       "      <th>F-statistic</th>\n",
       "      <td>1.449417e+00</td>\n",
       "      <td>NaN</td>\n",
       "    </tr>\n",
       "    <tr>\n",
       "      <th>F-critical</th>\n",
       "      <td>1.096643e+00</td>\n",
       "      <td>0.911162</td>\n",
       "    </tr>\n",
       "    <tr>\n",
       "      <th>p-value</th>\n",
       "      <td>2.442491e-15</td>\n",
       "      <td>NaN</td>\n",
       "    </tr>\n",
       "  </tbody>\n",
       "</table>\n",
       "</div>"
      ],
      "text/plain": [
       "                               0            1\n",
       "Mean                6.873283e+00     9.823617\n",
       "Std Dev             2.046081e+00     1.699519\n",
       "Size                1.520000e+03  2184.000000\n",
       "Degrees of Freedom  1.519000e+03  2183.000000\n",
       "F-statistic         1.449417e+00          NaN\n",
       "F-critical          1.096643e+00     0.911162\n",
       "p-value             2.442491e-15          NaN"
      ]
     },
     "execution_count": 76,
     "metadata": {},
     "output_type": "execute_result"
    }
   ],
   "source": [
    "f_test_variances(budget_low, budget_high, sides=2, alpha=0.05)"
   ]
  },
  {
   "cell_type": "raw",
   "id": "91ff08de",
   "metadata": {
    "vscode": {
     "languageId": "raw"
    }
   },
   "source": [
    "Normality test and f-test passed. We move on to the t-test."
   ]
  },
  {
   "cell_type": "raw",
   "id": "535927d6",
   "metadata": {
    "vscode": {
     "languageId": "raw"
    }
   },
   "source": [
    "4. T-test for Mean Difference"
   ]
  },
  {
   "cell_type": "code",
   "execution_count": 162,
   "id": "803593e7-ab93-439b-b7fe-a9a1475575d6",
   "metadata": {},
   "outputs": [
    {
     "data": {
      "text/html": [
       "<div>\n",
       "<style scoped>\n",
       "    .dataframe tbody tr th:only-of-type {\n",
       "        vertical-align: middle;\n",
       "    }\n",
       "\n",
       "    .dataframe tbody tr th {\n",
       "        vertical-align: top;\n",
       "    }\n",
       "\n",
       "    .dataframe thead th {\n",
       "        text-align: right;\n",
       "    }\n",
       "</style>\n",
       "<table border=\"1\" class=\"dataframe\">\n",
       "  <thead>\n",
       "    <tr style=\"text-align: right;\">\n",
       "      <th></th>\n",
       "      <th>production_budget</th>\n",
       "      <th>budget_group</th>\n",
       "    </tr>\n",
       "  </thead>\n",
       "  <tbody>\n",
       "    <tr>\n",
       "      <th>1</th>\n",
       "      <td>185000000</td>\n",
       "      <td>NaN</td>\n",
       "    </tr>\n",
       "    <tr>\n",
       "      <th>3</th>\n",
       "      <td>70000000</td>\n",
       "      <td>NaN</td>\n",
       "    </tr>\n",
       "    <tr>\n",
       "      <th>6</th>\n",
       "      <td>225000000</td>\n",
       "      <td>NaN</td>\n",
       "    </tr>\n",
       "    <tr>\n",
       "      <th>7</th>\n",
       "      <td>139000000</td>\n",
       "      <td>NaN</td>\n",
       "    </tr>\n",
       "    <tr>\n",
       "      <th>8</th>\n",
       "      <td>210000000</td>\n",
       "      <td>NaN</td>\n",
       "    </tr>\n",
       "    <tr>\n",
       "      <th>...</th>\n",
       "      <td>...</td>\n",
       "      <td>...</td>\n",
       "    </tr>\n",
       "    <tr>\n",
       "      <th>20795</th>\n",
       "      <td>40000000</td>\n",
       "      <td>3000_4000w</td>\n",
       "    </tr>\n",
       "    <tr>\n",
       "      <th>21315</th>\n",
       "      <td>650000</td>\n",
       "      <td>NaN</td>\n",
       "    </tr>\n",
       "    <tr>\n",
       "      <th>21560</th>\n",
       "      <td>1660000</td>\n",
       "      <td>NaN</td>\n",
       "    </tr>\n",
       "    <tr>\n",
       "      <th>21961</th>\n",
       "      <td>10300000</td>\n",
       "      <td>1000_2000w</td>\n",
       "    </tr>\n",
       "    <tr>\n",
       "      <th>22119</th>\n",
       "      <td>3600000</td>\n",
       "      <td>NaN</td>\n",
       "    </tr>\n",
       "  </tbody>\n",
       "</table>\n",
       "<p>3701 rows × 2 columns</p>\n",
       "</div>"
      ],
      "text/plain": [
       "       production_budget budget_group\n",
       "1              185000000          NaN\n",
       "3               70000000          NaN\n",
       "6              225000000          NaN\n",
       "7              139000000          NaN\n",
       "8              210000000          NaN\n",
       "...                  ...          ...\n",
       "20795           40000000   3000_4000w\n",
       "21315             650000          NaN\n",
       "21560            1660000          NaN\n",
       "21961           10300000   1000_2000w\n",
       "22119            3600000          NaN\n",
       "\n",
       "[3701 rows x 2 columns]"
      ]
     },
     "metadata": {},
     "output_type": "display_data"
    }
   ],
   "source": [
    "excluded_labels = ['1000_2000w', '2000_3000w', '3000_4000w']\n",
    "excluded_df = filtered_df[filtered_df['budget_group'].isin(excluded_labels)]\n",
    "display(filtered_df.loc[:, filtered_df.columns.isin(['production_budget', 'budget_group'])])\n"
   ]
  },
  {
   "cell_type": "code",
   "execution_count": 203,
   "id": "7c19e16f-2bc4-4c28-857f-ff874cc67973",
   "metadata": {},
   "outputs": [
    {
     "name": "stdout",
     "output_type": "stream",
     "text": [
      "\n",
      "ANOVA Table:\n"
     ]
    },
    {
     "data": {
      "text/html": [
       "<div>\n",
       "<style scoped>\n",
       "    .dataframe tbody tr th:only-of-type {\n",
       "        vertical-align: middle;\n",
       "    }\n",
       "\n",
       "    .dataframe tbody tr th {\n",
       "        vertical-align: top;\n",
       "    }\n",
       "\n",
       "    .dataframe thead th {\n",
       "        text-align: right;\n",
       "    }\n",
       "</style>\n",
       "<table border=\"1\" class=\"dataframe\">\n",
       "  <thead>\n",
       "    <tr style=\"text-align: right;\">\n",
       "      <th></th>\n",
       "      <th>sum_sq</th>\n",
       "      <th>df</th>\n",
       "      <th>F</th>\n",
       "      <th>PR(&gt;F)</th>\n",
       "    </tr>\n",
       "  </thead>\n",
       "  <tbody>\n",
       "    <tr>\n",
       "      <th>C(budget_group)</th>\n",
       "      <td>9.278347e+06</td>\n",
       "      <td>3.0</td>\n",
       "      <td>5584.225091</td>\n",
       "      <td>0.0</td>\n",
       "    </tr>\n",
       "    <tr>\n",
       "      <th>Residual</th>\n",
       "      <td>8.141488e+05</td>\n",
       "      <td>1470.0</td>\n",
       "      <td>NaN</td>\n",
       "      <td>NaN</td>\n",
       "    </tr>\n",
       "  </tbody>\n",
       "</table>\n",
       "</div>"
      ],
      "text/plain": [
       "                       sum_sq      df            F  PR(>F)\n",
       "C(budget_group)  9.278347e+06     3.0  5584.225091     0.0\n",
       "Residual         8.141488e+05  1470.0          NaN     NaN"
      ]
     },
     "metadata": {},
     "output_type": "display_data"
    }
   ],
   "source": [
    "oneway_anova(excluded_df, 'flattened_total_box_office', 'budget_group')"
   ]
  },
  {
   "cell_type": "code",
   "execution_count": 204,
   "id": "95e135ee-44c2-47b7-8efe-dbf9d25c554b",
   "metadata": {},
   "outputs": [
    {
     "name": "stdout",
     "output_type": "stream",
     "text": [
      "Tukey HSD for Source:\n",
      "    Multiple Comparison of Means - Tukey HSD, FWER=0.05    \n",
      "===========================================================\n",
      "  group1     group2   meandiff p-adj  lower   upper  reject\n",
      "-----------------------------------------------------------\n",
      "1000_2000w 2000_3000w   9.9431   0.0   6.611 13.2753   True\n",
      "1000_2000w 3000_4000w  18.4972   0.0 14.7905  22.204   True\n",
      "2000_3000w 3000_4000w   8.5541   0.0  4.5532  12.555   True\n",
      "-----------------------------------------------------------\n"
     ]
    }
   ],
   "source": [
    "from statsmodels.stats.multicomp import pairwise_tukeyhsd\n",
    "\n",
    "tukey_src = pairwise_tukeyhsd(\n",
    "    endog=excluded_df['flattened_total_box_office'],\n",
    "    groups=excluded_df['budget_group'],\n",
    "    alpha=0.05\n",
    ")\n",
    "print(\"Tukey HSD for Source:\")\n",
    "print(tukey_src.summary())"
   ]
  },
  {
   "cell_type": "code",
   "execution_count": 77,
   "id": "ec672ccc",
   "metadata": {},
   "outputs": [
    {
     "data": {
      "text/html": [
       "<table class=\"simpletable\">\n",
       "<caption>Test for equality of means</caption>\n",
       "<tr>\n",
       "      <td></td>         <th>coef</th>     <th>std err</th>      <th>t</th>      <th>P>|t|</th>  <th>[0.025</th>    <th>0.975]</th>  \n",
       "</tr>\n",
       "<tr>\n",
       "  <th>subset #1</th> <td>   -2.9503</td> <td>    0.064</td> <td>  -46.208</td> <td> 0.000</td> <td>   -3.076</td> <td>   -2.825</td>\n",
       "</tr>\n",
       "</table>"
      ],
      "text/latex": [
       "\\begin{center}\n",
       "\\begin{tabular}{lcccccc}\n",
       "\\toprule\n",
       "                    & \\textbf{coef} & \\textbf{std err} & \\textbf{t} & \\textbf{P$> |$t$|$} & \\textbf{[0.025} & \\textbf{0.975]}  \\\\\n",
       "\\midrule\n",
       "\\textbf{subset \\#1} &      -2.9503  &        0.064     &   -46.208  &         0.000        &       -3.076    &       -2.825     \\\\\n",
       "\\bottomrule\n",
       "\\end{tabular}\n",
       "%\\caption{Test for equality of means}\n",
       "\\end{center}"
      ],
      "text/plain": [
       "<class 'statsmodels.iolib.table.SimpleTable'>"
      ]
     },
     "execution_count": 77,
     "metadata": {},
     "output_type": "execute_result"
    }
   ],
   "source": [
    "t_test_summary(budget_low, budget_high, usevar='unequal', alpha=0.05)"
   ]
  },
  {
   "cell_type": "raw",
   "id": "caa66dc1",
   "metadata": {
    "vscode": {
     "languageId": "raw"
    }
   },
   "source": [
    "There is strong evidence that:\n",
    "The movie with higher production budget has higher total box office."
   ]
  }
 ],
 "metadata": {
  "kernelspec": {
   "display_name": "Python 3 (ipykernel)",
   "language": "python",
   "name": "python3"
  },
  "language_info": {
   "codemirror_mode": {
    "name": "ipython",
    "version": 3
   },
   "file_extension": ".py",
   "mimetype": "text/x-python",
   "name": "python",
   "nbconvert_exporter": "python",
   "pygments_lexer": "ipython3",
   "version": "3.11.7"
  }
 },
 "nbformat": 4,
 "nbformat_minor": 5
}
