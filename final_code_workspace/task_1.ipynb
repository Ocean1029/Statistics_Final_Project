{
 "cells": [
  {
   "cell_type": "markdown",
   "id": "750f72b8",
   "metadata": {},
   "source": [
    "# **Statistics(I)(2) - Final Project Code**\n",
    "## **Task 1**"
   ]
  },
  {
   "cell_type": "raw",
   "id": "abe9133d",
   "metadata": {
    "vscode": {
     "languageId": "raw"
    }
   },
   "source": [
    "1. Libraries, Function, and Data Pre-Process"
   ]
  },
  {
   "cell_type": "code",
   "execution_count": 30,
   "id": "4a6c03b8",
   "metadata": {},
   "outputs": [],
   "source": [
    "import matplotlib.pyplot as plt\n",
    "import pandas as pd\n",
    "import numpy as np\n",
    "import statsmodels.formula.api as sm\n",
    "import statsmodels.stats.api as sms\n",
    "from scipy import stats\n",
    "import seaborn as sns\n",
    "import math"
   ]
  },
  {
   "cell_type": "code",
   "execution_count": 31,
   "id": "cc1c5281",
   "metadata": {},
   "outputs": [],
   "source": [
    "def f_test_variances(x1, x2, sides, alpha):\n",
    "    a1 = np.array(x1)\n",
    "    a2 = np.array(x2)\n",
    "\n",
    "    result = np.full((7, 2), None, dtype=float)\n",
    "    \n",
    "    result[0] = [np.mean(a1), np.mean(a2)]                    # Means\n",
    "    result[1] = [np.std(a1, ddof=1), np.std(a2, ddof=1)]      # Sample standard deviations\n",
    "    result[2] = [a1.size, a2.size]                            # Sample sizes\n",
    "\n",
    "    dfn, dfd = a1.size - 1, a2.size - 1\n",
    "    result[3] = [dfn, dfd]\n",
    "\n",
    "    # F-statistic: ratio of sample variances\n",
    "    f_stat = np.var(a1, ddof=1) / np.var(a2, ddof=1)\n",
    "    result[4, 0] = f_stat\n",
    "\n",
    "    # Critical F-values\n",
    "    if sides > 1:\n",
    "        result[5] = [\n",
    "            stats.f.isf(alpha / 2, dfn, dfd),  # Upper critical value\n",
    "            stats.f.ppf(alpha / 2, dfn, dfd)   # Lower critical value\n",
    "        ]\n",
    "    else:\n",
    "        result[5] = [\n",
    "            stats.f.isf(alpha, dfn, dfd),      # One-sided critical value\n",
    "            stats.f.ppf(alpha, dfn, dfd)\n",
    "        ]\n",
    "\n",
    "    if f_stat > 1:\n",
    "        p_value = 1 - stats.f.cdf(f_stat, dfn, dfd)\n",
    "    else:\n",
    "        p_value = stats.f.cdf(f_stat, dfn, dfd)\n",
    "    if sides > 1:\n",
    "        p_value *= 2\n",
    "    result[6, 0] = p_value\n",
    "\n",
    "    labels = ['Mean', 'Std Dev', 'Size', 'Degrees of Freedom', 'F-statistic', 'F-critical', 'p-value']\n",
    "    df = pd.DataFrame(result, index=labels)\n",
    "\n",
    "    return df"
   ]
  },
  {
   "cell_type": "code",
   "execution_count": 32,
   "id": "3ef226e5",
   "metadata": {},
   "outputs": [],
   "source": [
    "def t_test_summary(x1, x2, usevar='pooled', alpha=0.05):\n",
    "    \"\"\"\n",
    "    Runs a t-test using statsmodels' CompareMeans and prints a summary.\n",
    "\n",
    "    Parameters:\n",
    "    - df: DataFrame containing the columns\n",
    "    - col1, col2: Column names to compare\n",
    "    - usevar: 'pooled' (equal variances) or 'unequal' (Welch)\n",
    "    - alpha: Significance level\n",
    "    \"\"\"\n",
    "    group1 = sms.DescrStatsW(x1)\n",
    "    group2 = sms.DescrStatsW(x2)\n",
    "    t_test = sms.CompareMeans(group1, group2)\n",
    "    \n",
    "    return t_test.summary(usevar=usevar, alpha=alpha)"
   ]
  },
  {
   "cell_type": "code",
   "execution_count": 33,
   "id": "c9cd9d9c",
   "metadata": {},
   "outputs": [],
   "source": [
    "df = pd.read_csv(\"movie_summary.csv\")\n",
    "\n",
    "filtered_df = df[\n",
    "    (df['genre'] != \"Reality\") &\n",
    "    (df['production_budget'] != 0) &\n",
    "    (df['production_year'] > 2000) &\n",
    "    df['genre'].notna() &\n",
    "    df['domestic_box_office'].notna() &\n",
    "    df['international_box_office'].notna()\n",
    "].copy()\n",
    "\n",
    "filtered_df[\"total_box_office\"] = filtered_df[\"domestic_box_office\"] + filtered_df[\"international_box_office\"]\n",
    "filtered_df[\"flattened_production_budget\"] = np.pow(filtered_df[\"production_budget\"], 1/8)\n",
    "filtered_df[\"flattened_total_box_office\"] = np.pow(filtered_df[\"total_box_office\"], 1/8)\n",
    "\n",
    "filtered_df['budget_category'] = pd.cut(\n",
    "    filtered_df['production_budget'], \n",
    "    bins=[10000, 1700000, 5000000], \n",
    "    labels=['Low', 'High']\n",
    ")\n",
    "\n",
    "budget_low = filtered_df[filtered_df['budget_category'] == 'Low']['flattened_total_box_office']\n",
    "budget_high = filtered_df[filtered_df['budget_category'] == 'High']['flattened_total_box_office']"
   ]
  },
  {
   "cell_type": "raw",
   "id": "f1755dda",
   "metadata": {
    "vscode": {
     "languageId": "raw"
    }
   },
   "source": [
    "2. Normality Test (Assume Normal)"
   ]
  },
  {
   "cell_type": "raw",
   "id": "ee410811",
   "metadata": {
    "vscode": {
     "languageId": "raw"
    }
   },
   "source": [
    "3. Bartlett's Test"
   ]
  },
  {
   "cell_type": "code",
   "execution_count": 34,
   "id": "80290a5e",
   "metadata": {},
   "outputs": [
    {
     "data": {
      "text/html": [
       "<div>\n",
       "<style scoped>\n",
       "    .dataframe tbody tr th:only-of-type {\n",
       "        vertical-align: middle;\n",
       "    }\n",
       "\n",
       "    .dataframe tbody tr th {\n",
       "        vertical-align: top;\n",
       "    }\n",
       "\n",
       "    .dataframe thead th {\n",
       "        text-align: right;\n",
       "    }\n",
       "</style>\n",
       "<table border=\"1\" class=\"dataframe\">\n",
       "  <thead>\n",
       "    <tr style=\"text-align: right;\">\n",
       "      <th></th>\n",
       "      <th>0</th>\n",
       "      <th>1</th>\n",
       "    </tr>\n",
       "  </thead>\n",
       "  <tbody>\n",
       "    <tr>\n",
       "      <th>Mean</th>\n",
       "      <td>5.249975</td>\n",
       "      <td>6.687560</td>\n",
       "    </tr>\n",
       "    <tr>\n",
       "      <th>Std Dev</th>\n",
       "      <td>1.845139</td>\n",
       "      <td>1.903176</td>\n",
       "    </tr>\n",
       "    <tr>\n",
       "      <th>Size</th>\n",
       "      <td>339.000000</td>\n",
       "      <td>411.000000</td>\n",
       "    </tr>\n",
       "    <tr>\n",
       "      <th>Degrees of Freedom</th>\n",
       "      <td>338.000000</td>\n",
       "      <td>410.000000</td>\n",
       "    </tr>\n",
       "    <tr>\n",
       "      <th>F-statistic</th>\n",
       "      <td>0.939940</td>\n",
       "      <td>NaN</td>\n",
       "    </tr>\n",
       "    <tr>\n",
       "      <th>F-critical</th>\n",
       "      <td>1.225001</td>\n",
       "      <td>0.814671</td>\n",
       "    </tr>\n",
       "    <tr>\n",
       "      <th>p-value</th>\n",
       "      <td>0.554008</td>\n",
       "      <td>NaN</td>\n",
       "    </tr>\n",
       "  </tbody>\n",
       "</table>\n",
       "</div>"
      ],
      "text/plain": [
       "                             0           1\n",
       "Mean                  5.249975    6.687560\n",
       "Std Dev               1.845139    1.903176\n",
       "Size                339.000000  411.000000\n",
       "Degrees of Freedom  338.000000  410.000000\n",
       "F-statistic           0.939940         NaN\n",
       "F-critical            1.225001    0.814671\n",
       "p-value               0.554008         NaN"
      ]
     },
     "execution_count": 34,
     "metadata": {},
     "output_type": "execute_result"
    }
   ],
   "source": [
    "f_test_variances(budget_low, budget_high, sides=2, alpha=0.05)"
   ]
  },
  {
   "cell_type": "raw",
   "id": "91ff08de",
   "metadata": {
    "vscode": {
     "languageId": "raw"
    }
   },
   "source": [
    "Normality test and f-test passed. We move on to the t-test."
   ]
  },
  {
   "cell_type": "raw",
   "id": "535927d6",
   "metadata": {
    "vscode": {
     "languageId": "raw"
    }
   },
   "source": [
    "4. T-test for Mean Difference"
   ]
  },
  {
   "cell_type": "code",
   "execution_count": 35,
   "id": "ec672ccc",
   "metadata": {},
   "outputs": [
    {
     "data": {
      "text/html": [
       "<table class=\"simpletable\">\n",
       "<caption>Test for equality of means</caption>\n",
       "<tr>\n",
       "      <td></td>         <th>coef</th>     <th>std err</th>      <th>t</th>      <th>P>|t|</th>  <th>[0.025</th>    <th>0.975]</th>  \n",
       "</tr>\n",
       "<tr>\n",
       "  <th>subset #1</th> <td>   -1.4376</td> <td>    0.138</td> <td>  -10.438</td> <td> 0.000</td> <td>   -1.708</td> <td>   -1.167</td>\n",
       "</tr>\n",
       "</table>"
      ],
      "text/latex": [
       "\\begin{center}\n",
       "\\begin{tabular}{lcccccc}\n",
       "\\toprule\n",
       "                    & \\textbf{coef} & \\textbf{std err} & \\textbf{t} & \\textbf{P$> |$t$|$} & \\textbf{[0.025} & \\textbf{0.975]}  \\\\\n",
       "\\midrule\n",
       "\\textbf{subset \\#1} &      -1.4376  &        0.138     &   -10.438  &         0.000        &       -1.708    &       -1.167     \\\\\n",
       "\\bottomrule\n",
       "\\end{tabular}\n",
       "%\\caption{Test for equality of means}\n",
       "\\end{center}"
      ],
      "text/plain": [
       "<class 'statsmodels.iolib.table.SimpleTable'>"
      ]
     },
     "execution_count": 35,
     "metadata": {},
     "output_type": "execute_result"
    }
   ],
   "source": [
    "t_test_summary(budget_low, budget_high, usevar='pooled', alpha=0.05)"
   ]
  },
  {
   "cell_type": "raw",
   "id": "caa66dc1",
   "metadata": {
    "vscode": {
     "languageId": "raw"
    }
   },
   "source": [
    "There is strong evidence that:\n",
    "The movie with higher production budget has higher total box office."
   ]
  }
 ],
 "metadata": {
  "kernelspec": {
   "display_name": ".venv",
   "language": "python",
   "name": "python3"
  },
  "language_info": {
   "codemirror_mode": {
    "name": "ipython",
    "version": 3
   },
   "file_extension": ".py",
   "mimetype": "text/x-python",
   "name": "python",
   "nbconvert_exporter": "python",
   "pygments_lexer": "ipython3",
   "version": "3.13.2"
  }
 },
 "nbformat": 4,
 "nbformat_minor": 5
}
