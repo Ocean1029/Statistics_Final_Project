{
 "cells": [
  {
   "cell_type": "raw",
   "id": "7a5b4e5b",
   "metadata": {
    "vscode": {
     "languageId": "raw"
    }
   },
   "source": [
    "0. Import Libraries"
   ]
  },
  {
   "cell_type": "code",
   "execution_count": 2,
   "id": "8faeeec2",
   "metadata": {},
   "outputs": [],
   "source": [
    "import pandas as pd\n",
    "import numpy as np\n",
    "import statsmodels.api as sm\n",
    "import statsmodels.formula.api as smf\n"
   ]
  },
  {
   "cell_type": "raw",
   "id": "6be78588",
   "metadata": {
    "vscode": {
     "languageId": "raw"
    }
   },
   "source": [
    "1. Domestic Box Office Regression"
   ]
  },
  {
   "cell_type": "code",
   "execution_count": 11,
   "id": "819c0f4e",
   "metadata": {},
   "outputs": [
    {
     "name": "stdout",
     "output_type": "stream",
     "text": [
      "                               OLS Regression Results                              \n",
      "===================================================================================\n",
      "Dep. Variable:     log_domestic_box_office   R-squared:                       0.607\n",
      "Model:                                 OLS   Adj. R-squared:                  0.607\n",
      "Method:                      Least Squares   F-statistic:                     1138.\n",
      "Date:                     Mon, 26 May 2025   Prob (F-statistic):               0.00\n",
      "Time:                             21:56:28   Log-Likelihood:                -49367.\n",
      "No. Observations:                    16957   AIC:                         9.878e+04\n",
      "Df Residuals:                        16933   BIC:                         9.897e+04\n",
      "Df Model:                               23                                         \n",
      "Covariance Type:                 nonrobust                                         \n",
      "============================================================================================================\n",
      "                                               coef    std err          t      P>|t|      [0.025      0.975]\n",
      "------------------------------------------------------------------------------------------------------------\n",
      "Intercept                                 1227.9916     16.982     72.310      0.000    1194.704    1261.279\n",
      "C(genre)[T.Adventure]                       -1.0069      0.218     -4.623      0.000      -1.434      -0.580\n",
      "C(genre)[T.Black Comedy]                     2.4960      0.402      6.206      0.000       1.708       3.284\n",
      "C(genre)[T.Comedy]                           0.2829      0.162      1.746      0.081      -0.035       0.600\n",
      "C(genre)[T.Concert/Performance]             -2.8053      0.283     -9.928      0.000      -3.359      -2.251\n",
      "C(genre)[T.Documentary]                      0.0297      0.335      0.089      0.929      -0.627       0.686\n",
      "C(genre)[T.Drama]                            0.8598      0.151      5.695      0.000       0.564       1.156\n",
      "C(genre)[T.Horror]                          -0.1864      0.205     -0.908      0.364      -0.589       0.216\n",
      "C(genre)[T.Multiple Genres]                 -0.2438      0.517     -0.471      0.638      -1.258       0.770\n",
      "C(genre)[T.Musical]                          0.3185      0.395      0.806      0.420      -0.456       1.093\n",
      "C(genre)[T.Romantic Comedy]                  0.5566      0.214      2.600      0.009       0.137       0.976\n",
      "C(genre)[T.Thriller/Suspense]                0.6009      0.181      3.328      0.001       0.247       0.955\n",
      "C(genre)[T.Western]                          1.9506      0.611      3.191      0.001       0.753       3.149\n",
      "creative_type[T.Dramatization]               1.7203      0.157     10.977      0.000       1.413       2.028\n",
      "creative_type[T.Factual]                     1.9110      0.306      6.248      0.000       1.312       2.510\n",
      "creative_type[T.Fantasy]                     0.4167      0.171      2.441      0.015       0.082       0.751\n",
      "creative_type[T.Historical Fiction]          1.1170      0.137      8.143      0.000       0.848       1.386\n",
      "creative_type[T.Kids Fiction]               -0.9834      0.226     -4.349      0.000      -1.427      -0.540\n",
      "creative_type[T.Multiple Creative Types]     3.5786      0.730      4.905      0.000       2.149       5.009\n",
      "creative_type[T.Science Fiction]             0.6053      0.189      3.196      0.001       0.234       0.977\n",
      "creative_type[T.Super Hero]                 -0.0790      0.460     -0.172      0.863      -0.980       0.822\n",
      "log_budget                                   0.2867      0.008     37.203      0.000       0.272       0.302\n",
      "production_year                             -0.6078      0.008    -72.116      0.000      -0.624      -0.591\n",
      "theatrical_engagements                       0.0004   9.02e-06     41.195      0.000       0.000       0.000\n",
      "==============================================================================\n",
      "Omnibus:                      851.825   Durbin-Watson:                   1.406\n",
      "Prob(Omnibus):                  0.000   Jarque-Bera (JB):              948.677\n",
      "Skew:                           0.564   Prob(JB):                    9.94e-207\n",
      "Kurtosis:                       2.732   Cond. No.                     3.04e+06\n",
      "==============================================================================\n",
      "\n",
      "Notes:\n",
      "[1] Standard Errors assume that the covariance matrix of the errors is correctly specified.\n",
      "[2] The condition number is large, 3.04e+06. This might indicate that there are\n",
      "strong multicollinearity or other numerical problems.\n"
     ]
    }
   ],
   "source": [
    "# Load dataset\n",
    "df = pd.read_csv(\"movie_summary.csv\")\n",
    "\n",
    "# Filter as previously done\n",
    "df = df[\n",
    "    (df['production_year'] > 2000) &\n",
    "    (df['genre'] != \"Reality\") &\n",
    "    df['genre'].notna() &\n",
    "    df['domestic_box_office'].notna()\n",
    "].copy()\n",
    "\n",
    "# Feature Engineering\n",
    "df['log_domestic_box_office'] = np.log1p(df['domestic_box_office'])\n",
    "df['log_budget'] = np.log1p(df['production_budget'])\n",
    "\n",
    "# Drop rows with missing engineered values\n",
    "df = df.dropna(subset=['log_domestic_box_office', 'log_budget', 'genre','production_year','theatrical_engagements','creative_type'])\n",
    "\n",
    "# Linear regression formula\n",
    "formula = 'log_domestic_box_office ~ log_budget + C(genre) + production_year + theatrical_engagements + creative_type'\n",
    "\n",
    "# Fit the model\n",
    "model = smf.ols(formula, data=df).fit()\n",
    "\n",
    "# Print the summary\n",
    "print(model.summary())"
   ]
  },
  {
   "cell_type": "raw",
   "id": "6b09ddde",
   "metadata": {
    "vscode": {
     "languageId": "raw"
    }
   },
   "source": [
    "2. International Box Office Regression"
   ]
  },
  {
   "cell_type": "code",
   "execution_count": 4,
   "id": "0d1e6f8a",
   "metadata": {},
   "outputs": [
    {
     "name": "stdout",
     "output_type": "stream",
     "text": [
      "                                 OLS Regression Results                                 \n",
      "========================================================================================\n",
      "Dep. Variable:     log_international_box_office   R-squared:                       0.217\n",
      "Model:                                      OLS   Adj. R-squared:                  0.217\n",
      "Method:                           Least Squares   F-statistic:                     405.2\n",
      "Date:                          Mon, 26 May 2025   Prob (F-statistic):               0.00\n",
      "Time:                                  17:50:04   Log-Likelihood:                -59725.\n",
      "No. Observations:                         19014   AIC:                         1.195e+05\n",
      "Df Residuals:                             19000   BIC:                         1.196e+05\n",
      "Df Model:                                    13                                         \n",
      "Covariance Type:                      nonrobust                                         \n",
      "===================================================================================================\n",
      "                                      coef    std err          t      P>|t|      [0.025      0.975]\n",
      "---------------------------------------------------------------------------------------------------\n",
      "Intercept                          11.5256      0.161     71.612      0.000      11.210      11.841\n",
      "C(genre)[T.Adventure]               0.7804      0.215      3.626      0.000       0.359       1.202\n",
      "C(genre)[T.Black Comedy]           -3.7035      0.491     -7.550      0.000      -4.665      -2.742\n",
      "C(genre)[T.Comedy]                 -1.6830      0.187     -9.019      0.000      -2.049      -1.317\n",
      "C(genre)[T.Concert/Performance]    -0.8179      0.308     -2.657      0.008      -1.421      -0.215\n",
      "C(genre)[T.Documentary]            -5.9793      0.192    -31.104      0.000      -6.356      -5.603\n",
      "C(genre)[T.Drama]                  -2.8323      0.173    -16.377      0.000      -3.171      -2.493\n",
      "C(genre)[T.Horror]                 -2.0279      0.238     -8.523      0.000      -2.494      -1.562\n",
      "C(genre)[T.Multiple Genres]        -3.5322      0.577     -6.120      0.000      -4.663      -2.401\n",
      "C(genre)[T.Musical]                -1.7517      0.466     -3.762      0.000      -2.664      -0.839\n",
      "C(genre)[T.Romantic Comedy]        -1.2203      0.249     -4.906      0.000      -1.708      -0.733\n",
      "C(genre)[T.Thriller/Suspense]      -1.6359      0.214     -7.631      0.000      -2.056      -1.216\n",
      "C(genre)[T.Western]                -5.2139      0.722     -7.217      0.000      -6.630      -3.798\n",
      "log_budget                          0.2921      0.006     45.989      0.000       0.280       0.305\n",
      "==============================================================================\n",
      "Omnibus:                     1605.344   Durbin-Watson:                   1.417\n",
      "Prob(Omnibus):                  0.000   Jarque-Bera (JB):             1876.092\n",
      "Skew:                          -0.744   Prob(JB):                         0.00\n",
      "Kurtosis:                       2.606   Cond. No.                         137.\n",
      "==============================================================================\n",
      "\n",
      "Notes:\n",
      "[1] Standard Errors assume that the covariance matrix of the errors is correctly specified.\n"
     ]
    }
   ],
   "source": [
    "# Feature Engineering\n",
    "df['log_international_box_office'] = np.log1p(df['international_box_office'])\n",
    "\n",
    "df = df.dropna(subset=['log_international_box_office', 'log_budget', 'genre'])\n",
    "\n",
    "# Linear regression formula\n",
    "formula = 'log_international_box_office ~ log_budget + C(genre)'\n",
    "\n",
    "# Fit the model\n",
    "model = smf.ols(formula, data=df).fit()\n",
    "\n",
    "# Print the summary\n",
    "print(model.summary())"
   ]
  },
  {
   "cell_type": "code",
   "execution_count": null,
   "id": "b56c49a2",
   "metadata": {},
   "outputs": [],
   "source": []
  }
 ],
 "metadata": {
  "kernelspec": {
   "display_name": "base",
   "language": "python",
   "name": "python3"
  },
  "language_info": {
   "codemirror_mode": {
    "name": "ipython",
    "version": 3
   },
   "file_extension": ".py",
   "mimetype": "text/x-python",
   "name": "python",
   "nbconvert_exporter": "python",
   "pygments_lexer": "ipython3",
   "version": "3.11.5"
  }
 },
 "nbformat": 4,
 "nbformat_minor": 5
}
