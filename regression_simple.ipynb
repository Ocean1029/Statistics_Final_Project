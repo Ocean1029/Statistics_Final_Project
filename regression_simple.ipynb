{
 "cells": [
  {
   "cell_type": "raw",
   "id": "7a5b4e5b",
   "metadata": {
    "vscode": {
     "languageId": "raw"
    }
   },
   "source": [
    "0. Import Libraries"
   ]
  },
  {
   "cell_type": "code",
   "execution_count": 6,
   "id": "8faeeec2",
   "metadata": {},
   "outputs": [],
   "source": [
    "import pandas as pd\n",
    "import numpy as np\n",
    "import statsmodels.api as sm\n",
    "import statsmodels.formula.api as smf\n"
   ]
  },
  {
   "cell_type": "raw",
   "id": "6be78588",
   "metadata": {
    "vscode": {
     "languageId": "raw"
    }
   },
   "source": [
    "1. Domestic Box Office Regression"
   ]
  },
  {
   "cell_type": "code",
   "execution_count": 7,
   "id": "819c0f4e",
   "metadata": {},
   "outputs": [
    {
     "name": "stdout",
     "output_type": "stream",
     "text": [
      "                               OLS Regression Results                              \n",
      "===================================================================================\n",
      "Dep. Variable:     log_domestic_box_office   R-squared:                       0.430\n",
      "Model:                                 OLS   Adj. R-squared:                  0.429\n",
      "Method:                      Least Squares   F-statistic:                     1101.\n",
      "Date:                     Mon, 26 May 2025   Prob (F-statistic):               0.00\n",
      "Time:                             13:02:09   Log-Likelihood:                -58650.\n",
      "No. Observations:                    19014   AIC:                         1.173e+05\n",
      "Df Residuals:                        19000   BIC:                         1.174e+05\n",
      "Df Model:                               13                                         \n",
      "Covariance Type:                 nonrobust                                         \n",
      "===================================================================================================\n",
      "                                      coef    std err          t      P>|t|      [0.025      0.975]\n",
      "---------------------------------------------------------------------------------------------------\n",
      "Intercept                           3.7588      0.152     24.713      0.000       3.461       4.057\n",
      "C(genre)[T.Adventure]              -1.0423      0.203     -5.125      0.000      -1.441      -0.644\n",
      "C(genre)[T.Black Comedy]            2.6637      0.464      5.746      0.000       1.755       3.572\n",
      "C(genre)[T.Comedy]                  0.3295      0.176      1.868      0.062      -0.016       0.675\n",
      "C(genre)[T.Concert/Performance]    -2.5004      0.291     -8.595      0.000      -3.071      -1.930\n",
      "C(genre)[T.Documentary]             2.3254      0.182     12.800      0.000       1.969       2.681\n",
      "C(genre)[T.Drama]                   1.0608      0.163      6.491      0.000       0.740       1.381\n",
      "C(genre)[T.Horror]                 -0.6693      0.225     -2.977      0.003      -1.110      -0.229\n",
      "C(genre)[T.Multiple Genres]         0.3080      0.545      0.565      0.572      -0.761       1.377\n",
      "C(genre)[T.Musical]                 0.6288      0.440      1.429      0.153      -0.234       1.491\n",
      "C(genre)[T.Romantic Comedy]         0.6618      0.235      2.815      0.005       0.201       1.123\n",
      "C(genre)[T.Thriller/Suspense]       0.2535      0.203      1.251      0.211      -0.144       0.651\n",
      "C(genre)[T.Western]                 1.6281      0.683      2.385      0.017       0.290       2.966\n",
      "log_budget                          0.7007      0.006    116.722      0.000       0.689       0.713\n",
      "==============================================================================\n",
      "Omnibus:                     1354.635   Durbin-Watson:                   1.164\n",
      "Prob(Omnibus):                  0.000   Jarque-Bera (JB):              989.515\n",
      "Skew:                           0.458   Prob(JB):                    1.35e-215\n",
      "Kurtosis:                       2.360   Cond. No.                         137.\n",
      "==============================================================================\n",
      "\n",
      "Notes:\n",
      "[1] Standard Errors assume that the covariance matrix of the errors is correctly specified.\n"
     ]
    }
   ],
   "source": [
    "# Load dataset\n",
    "df = pd.read_csv(\"movie_summary.csv\")\n",
    "\n",
    "# Filter as previously done\n",
    "df = df[\n",
    "    (df['production_year'] > 2000) &\n",
    "    (df['genre'] != \"Reality\") &\n",
    "    df['genre'].notna() &\n",
    "    df['domestic_box_office'].notna()\n",
    "].copy()\n",
    "\n",
    "# Feature Engineering\n",
    "df['log_domestic_box_office'] = np.log1p(df['domestic_box_office'])\n",
    "df['log_budget'] = np.log1p(df['production_budget'])\n",
    "\n",
    "# Drop rows with missing engineered values\n",
    "df = df.dropna(subset=['log_domestic_box_office', 'log_budget', 'genre'])\n",
    "\n",
    "# Linear regression formula\n",
    "formula = 'log_domestic_box_office ~ log_budget + C(genre)'\n",
    "\n",
    "# Fit the model\n",
    "model = smf.ols(formula, data=df).fit()\n",
    "\n",
    "# Print the summary\n",
    "print(model.summary())"
   ]
  },
  {
   "cell_type": "raw",
   "id": "6b09ddde",
   "metadata": {
    "vscode": {
     "languageId": "raw"
    }
   },
   "source": [
    "2. International Box Office Regression"
   ]
  },
  {
   "cell_type": "code",
   "execution_count": 8,
   "id": "0d1e6f8a",
   "metadata": {},
   "outputs": [
    {
     "name": "stdout",
     "output_type": "stream",
     "text": [
      "                                 OLS Regression Results                                 \n",
      "========================================================================================\n",
      "Dep. Variable:     log_international_box_office   R-squared:                       0.217\n",
      "Model:                                      OLS   Adj. R-squared:                  0.217\n",
      "Method:                           Least Squares   F-statistic:                     405.2\n",
      "Date:                          Mon, 26 May 2025   Prob (F-statistic):               0.00\n",
      "Time:                                  13:02:09   Log-Likelihood:                -59725.\n",
      "No. Observations:                         19014   AIC:                         1.195e+05\n",
      "Df Residuals:                             19000   BIC:                         1.196e+05\n",
      "Df Model:                                    13                                         \n",
      "Covariance Type:                      nonrobust                                         \n",
      "===================================================================================================\n",
      "                                      coef    std err          t      P>|t|      [0.025      0.975]\n",
      "---------------------------------------------------------------------------------------------------\n",
      "Intercept                          11.5256      0.161     71.612      0.000      11.210      11.841\n",
      "C(genre)[T.Adventure]               0.7804      0.215      3.626      0.000       0.359       1.202\n",
      "C(genre)[T.Black Comedy]           -3.7035      0.491     -7.550      0.000      -4.665      -2.742\n",
      "C(genre)[T.Comedy]                 -1.6830      0.187     -9.019      0.000      -2.049      -1.317\n",
      "C(genre)[T.Concert/Performance]    -0.8179      0.308     -2.657      0.008      -1.421      -0.215\n",
      "C(genre)[T.Documentary]            -5.9793      0.192    -31.104      0.000      -6.356      -5.603\n",
      "C(genre)[T.Drama]                  -2.8323      0.173    -16.377      0.000      -3.171      -2.493\n",
      "C(genre)[T.Horror]                 -2.0279      0.238     -8.523      0.000      -2.494      -1.562\n",
      "C(genre)[T.Multiple Genres]        -3.5322      0.577     -6.120      0.000      -4.663      -2.401\n",
      "C(genre)[T.Musical]                -1.7517      0.466     -3.762      0.000      -2.664      -0.839\n",
      "C(genre)[T.Romantic Comedy]        -1.2203      0.249     -4.906      0.000      -1.708      -0.733\n",
      "C(genre)[T.Thriller/Suspense]      -1.6359      0.214     -7.631      0.000      -2.056      -1.216\n",
      "C(genre)[T.Western]                -5.2139      0.722     -7.217      0.000      -6.630      -3.798\n",
      "log_budget                          0.2921      0.006     45.989      0.000       0.280       0.305\n",
      "==============================================================================\n",
      "Omnibus:                     1605.344   Durbin-Watson:                   1.417\n",
      "Prob(Omnibus):                  0.000   Jarque-Bera (JB):             1876.092\n",
      "Skew:                          -0.744   Prob(JB):                         0.00\n",
      "Kurtosis:                       2.606   Cond. No.                         137.\n",
      "==============================================================================\n",
      "\n",
      "Notes:\n",
      "[1] Standard Errors assume that the covariance matrix of the errors is correctly specified.\n"
     ]
    }
   ],
   "source": [
    "# Feature Engineering\n",
    "df['log_international_box_office'] = np.log1p(df['international_box_office'])\n",
    "\n",
    "df = df.dropna(subset=['log_international_box_office', 'log_budget', 'genre'])\n",
    "\n",
    "# Linear regression formula\n",
    "formula = 'log_international_box_office ~ log_budget + C(genre)'\n",
    "\n",
    "# Fit the model\n",
    "model = smf.ols(formula, data=df).fit()\n",
    "\n",
    "# Print the summary\n",
    "print(model.summary())"
   ]
  },
  {
   "cell_type": "code",
   "execution_count": null,
   "id": "b56c49a2",
   "metadata": {},
   "outputs": [],
   "source": []
  }
 ],
 "metadata": {
  "kernelspec": {
   "display_name": ".venv",
   "language": "python",
   "name": "python3"
  },
  "language_info": {
   "codemirror_mode": {
    "name": "ipython",
    "version": 3
   },
   "file_extension": ".py",
   "mimetype": "text/x-python",
   "name": "python",
   "nbconvert_exporter": "python",
   "pygments_lexer": "ipython3",
   "version": "3.13.2"
  }
 },
 "nbformat": 4,
 "nbformat_minor": 5
}
