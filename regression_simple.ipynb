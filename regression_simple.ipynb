{
 "cells": [
  {
   "cell_type": "raw",
   "id": "7a5b4e5b",
   "metadata": {
    "vscode": {
     "languageId": "raw"
    }
   },
   "source": [
    "0. Import Libraries"
   ]
  },
  {
   "cell_type": "code",
   "execution_count": 2,
   "id": "8faeeec2",
   "metadata": {},
   "outputs": [],
   "source": [
    "import pandas as pd\n",
    "import numpy as np\n",
    "import statsmodels.api as sm\n",
    "import statsmodels.formula.api as smf\n"
   ]
  },
  {
   "cell_type": "raw",
   "id": "6be78588",
   "metadata": {
    "vscode": {
     "languageId": "raw"
    }
   },
   "source": [
    "1. Domestic Box Office Regression"
   ]
  },
  {
   "cell_type": "code",
   "execution_count": 14,
   "id": "819c0f4e",
   "metadata": {},
   "outputs": [
    {
     "name": "stdout",
     "output_type": "stream",
     "text": [
      "                               OLS Regression Results                              \n",
      "===================================================================================\n",
      "Dep. Variable:     log_domestic_box_office   R-squared:                       0.604\n",
      "Model:                                 OLS   Adj. R-squared:                  0.603\n",
      "Method:                      Least Squares   F-statistic:                     1117.\n",
      "Date:                     Tue, 27 May 2025   Prob (F-statistic):               0.00\n",
      "Time:                             14:09:29   Log-Likelihood:                -49120.\n",
      "No. Observations:                    16876   AIC:                         9.829e+04\n",
      "Df Residuals:                        16852   BIC:                         9.847e+04\n",
      "Df Model:                               23                                         \n",
      "Covariance Type:                 nonrobust                                         \n",
      "============================================================================================================\n",
      "                                               coef    std err          t      P>|t|      [0.025      0.975]\n",
      "------------------------------------------------------------------------------------------------------------\n",
      "Intercept                                 1232.3466     17.042     72.312      0.000    1198.942    1265.751\n",
      "C(genre)[T.Adventure]                       -0.9019      0.221     -4.085      0.000      -1.335      -0.469\n",
      "C(genre)[T.Black Comedy]                     2.5405      0.402      6.317      0.000       1.752       3.329\n",
      "C(genre)[T.Comedy]                           0.3239      0.163      1.991      0.046       0.005       0.643\n",
      "C(genre)[T.Concert/Performance]             -2.7591      0.283     -9.759      0.000      -3.313      -2.205\n",
      "C(genre)[T.Documentary]                      0.0773      0.335      0.231      0.818      -0.579       0.734\n",
      "C(genre)[T.Drama]                            0.9126      0.152      6.020      0.000       0.615       1.210\n",
      "C(genre)[T.Horror]                          -0.1552      0.206     -0.755      0.450      -0.558       0.248\n",
      "C(genre)[T.Multiple Genres]                 -0.1868      0.517     -0.361      0.718      -1.201       0.827\n",
      "C(genre)[T.Musical]                          0.4071      0.399      1.021      0.307      -0.375       1.189\n",
      "C(genre)[T.Romantic Comedy]                  0.5865      0.215      2.733      0.006       0.166       1.007\n",
      "C(genre)[T.Thriller/Suspense]                0.6488      0.181      3.581      0.000       0.294       1.004\n",
      "C(genre)[T.Western]                          1.9806      0.611      3.242      0.001       0.783       3.178\n",
      "creative_type[T.Dramatization]               1.7191      0.157     10.970      0.000       1.412       2.026\n",
      "creative_type[T.Factual]                     1.9189      0.306      6.278      0.000       1.320       2.518\n",
      "creative_type[T.Fantasy]                     0.4805      0.172      2.795      0.005       0.144       0.817\n",
      "creative_type[T.Historical Fiction]          1.1308      0.137      8.243      0.000       0.862       1.400\n",
      "creative_type[T.Kids Fiction]               -1.0509      0.229     -4.595      0.000      -1.499      -0.603\n",
      "creative_type[T.Multiple Creative Types]     3.5730      0.729      4.900      0.000       2.144       5.002\n",
      "creative_type[T.Science Fiction]             0.6036      0.191      3.165      0.002       0.230       0.977\n",
      "creative_type[T.Super Hero]                 -0.3075      0.498     -0.617      0.537      -1.284       0.669\n",
      "log_budget                                   0.2800      0.008     36.033      0.000       0.265       0.295\n",
      "production_year                             -0.6100      0.008    -72.121      0.000      -0.627      -0.593\n",
      "theatrical_engagements                       0.0004   9.51e-06     40.741      0.000       0.000       0.000\n",
      "==============================================================================\n",
      "Omnibus:                      856.443   Durbin-Watson:                   1.407\n",
      "Prob(Omnibus):                  0.000   Jarque-Bera (JB):              948.530\n",
      "Skew:                           0.563   Prob(JB):                    1.07e-206\n",
      "Kurtosis:                       2.715   Cond. No.                     2.87e+06\n",
      "==============================================================================\n",
      "\n",
      "Notes:\n",
      "[1] Standard Errors assume that the covariance matrix of the errors is correctly specified.\n",
      "[2] The condition number is large, 2.87e+06. This might indicate that there are\n",
      "strong multicollinearity or other numerical problems.\n"
     ]
    }
   ],
   "source": [
    "# Load dataset\n",
    "df = pd.read_csv(\"movie_summary.csv\")\n",
    "\n",
    "# Filter as previously done\n",
    "df = df[\n",
    "    (df['production_year'] > 2000) &\n",
    "    (df['genre'] != \"Reality\") &\n",
    "    (df['domestic_box_office'] < 500000000) &\n",
    "    (df['international_box_office'] < 500000000) &\n",
    "    df['genre'].notna() &\n",
    "    df['domestic_box_office'].notna()\n",
    "].copy()\n",
    "\n",
    "# Feature Engineering\n",
    "df['log_domestic_box_office'] = np.log1p(df['domestic_box_office'])\n",
    "df['log_budget'] = np.log1p(df['production_budget'])\n",
    "\n",
    "# Drop rows with missing engineered values\n",
    "df = df.dropna(subset=['log_domestic_box_office', 'log_budget', 'genre','production_year','theatrical_engagements','creative_type'])\n",
    "\n",
    "# Linear regression formula\n",
    "formula = 'log_domestic_box_office ~ log_budget + C(genre) + production_year + theatrical_engagements + creative_type'\n",
    "\n",
    "# Fit the model\n",
    "model = smf.ols(formula, data=df).fit()\n",
    "\n",
    "# Print the summary\n",
    "print(model.summary())"
   ]
  },
  {
   "cell_type": "raw",
   "id": "6b09ddde",
   "metadata": {
    "vscode": {
     "languageId": "raw"
    }
   },
   "source": [
    "2. International Box Office Regression"
   ]
  },
  {
   "cell_type": "code",
   "execution_count": 15,
   "id": "0d1e6f8a",
   "metadata": {},
   "outputs": [
    {
     "name": "stdout",
     "output_type": "stream",
     "text": [
      "                                 OLS Regression Results                                 \n",
      "========================================================================================\n",
      "Dep. Variable:     log_international_box_office   R-squared:                       0.328\n",
      "Model:                                      OLS   Adj. R-squared:                  0.328\n",
      "Method:                           Least Squares   F-statistic:                     358.4\n",
      "Date:                          Tue, 27 May 2025   Prob (F-statistic):               0.00\n",
      "Time:                                  14:09:34   Log-Likelihood:                -51666.\n",
      "No. Observations:                         16876   AIC:                         1.034e+05\n",
      "Df Residuals:                             16852   BIC:                         1.036e+05\n",
      "Df Model:                                    23                                         \n",
      "Covariance Type:                      nonrobust                                         \n",
      "============================================================================================================\n",
      "                                               coef    std err          t      P>|t|      [0.025      0.975]\n",
      "------------------------------------------------------------------------------------------------------------\n",
      "Intercept                                 -815.3843     19.816    -41.147      0.000    -854.226    -776.542\n",
      "C(genre)[T.Adventure]                       -0.3659      0.257     -1.425      0.154      -0.869       0.137\n",
      "C(genre)[T.Black Comedy]                    -2.7662      0.468     -5.915      0.000      -3.683      -1.850\n",
      "C(genre)[T.Comedy]                          -1.0469      0.189     -5.536      0.000      -1.418      -0.676\n",
      "C(genre)[T.Concert/Performance]             -1.2193      0.329     -3.709      0.000      -1.864      -0.575\n",
      "C(genre)[T.Documentary]                     -3.8715      0.390     -9.939      0.000      -4.635      -3.108\n",
      "C(genre)[T.Drama]                           -2.0330      0.176    -11.533      0.000      -2.379      -1.687\n",
      "C(genre)[T.Horror]                          -1.5955      0.239     -6.673      0.000      -2.064      -1.127\n",
      "C(genre)[T.Multiple Genres]                 -2.9377      0.602     -4.884      0.000      -4.117      -1.759\n",
      "C(genre)[T.Musical]                         -1.4490      0.464     -3.125      0.002      -2.358      -0.540\n",
      "C(genre)[T.Romantic Comedy]                 -0.6629      0.250     -2.656      0.008      -1.152      -0.174\n",
      "C(genre)[T.Thriller/Suspense]               -1.3900      0.211     -6.597      0.000      -1.803      -0.977\n",
      "C(genre)[T.Western]                         -5.4488      0.710     -7.670      0.000      -6.841      -4.056\n",
      "creative_type[T.Dramatization]               0.4637      0.182      2.545      0.011       0.107       0.821\n",
      "creative_type[T.Factual]                    -1.3408      0.355     -3.773      0.000      -2.037      -0.644\n",
      "creative_type[T.Fantasy]                     0.7948      0.200      3.977      0.000       0.403       1.187\n",
      "creative_type[T.Historical Fiction]          1.0090      0.160      6.325      0.000       0.696       1.322\n",
      "creative_type[T.Kids Fiction]                0.8099      0.266      3.045      0.002       0.289       1.331\n",
      "creative_type[T.Multiple Creative Types]    -1.5800      0.848     -1.864      0.062      -3.242       0.082\n",
      "creative_type[T.Science Fiction]            -0.6365      0.222     -2.871      0.004      -1.071      -0.202\n",
      "creative_type[T.Super Hero]                 -2.2248      0.579     -3.840      0.000      -3.361      -1.089\n",
      "log_budget                                   0.2433      0.009     26.923      0.000       0.226       0.261\n",
      "production_year                              0.4103      0.010     41.722      0.000       0.391       0.430\n",
      "theatrical_engagements                       0.0003   1.11e-05     27.360      0.000       0.000       0.000\n",
      "==============================================================================\n",
      "Omnibus:                      754.021   Durbin-Watson:                   1.661\n",
      "Prob(Omnibus):                  0.000   Jarque-Bera (JB):              833.911\n",
      "Skew:                          -0.531   Prob(JB):                    8.29e-182\n",
      "Kurtosis:                       2.762   Cond. No.                     2.87e+06\n",
      "==============================================================================\n",
      "\n",
      "Notes:\n",
      "[1] Standard Errors assume that the covariance matrix of the errors is correctly specified.\n",
      "[2] The condition number is large, 2.87e+06. This might indicate that there are\n",
      "strong multicollinearity or other numerical problems.\n"
     ]
    }
   ],
   "source": [
    "# Feature Engineering\n",
    "df['log_international_box_office'] = np.log1p(df['international_box_office'])\n",
    "\n",
    "df = df.dropna(subset=['log_international_box_office', 'log_budget', 'genre','production_year','theatrical_engagements','creative_type'])\n",
    "\n",
    "# Linear regression formula\n",
    "formula = 'log_international_box_office ~ log_budget + C(genre) + production_year + theatrical_engagements + creative_type'\n",
    "\n",
    "# Fit the model\n",
    "model = smf.ols(formula, data=df).fit()\n",
    "\n",
    "# Print the summary\n",
    "print(model.summary())"
   ]
  },
  {
   "cell_type": "code",
   "execution_count": null,
   "id": "b56c49a2",
   "metadata": {},
   "outputs": [],
   "source": []
  }
 ],
 "metadata": {
  "kernelspec": {
   "display_name": "base",
   "language": "python",
   "name": "python3"
  },
  "language_info": {
   "codemirror_mode": {
    "name": "ipython",
    "version": 3
   },
   "file_extension": ".py",
   "mimetype": "text/x-python",
   "name": "python",
   "nbconvert_exporter": "python",
   "pygments_lexer": "ipython3",
   "version": "3.11.5"
  }
 },
 "nbformat": 4,
 "nbformat_minor": 5
}
