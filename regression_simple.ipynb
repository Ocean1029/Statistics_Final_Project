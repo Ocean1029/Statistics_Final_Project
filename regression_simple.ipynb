{
 "cells": [
  {
   "cell_type": "raw",
   "id": "7a5b4e5b",
   "metadata": {
    "vscode": {
     "languageId": "raw"
    }
   },
   "source": [
    "0. Import Libraries"
   ]
  },
  {
   "cell_type": "code",
   "execution_count": 2,
   "id": "8faeeec2",
   "metadata": {},
   "outputs": [],
   "source": [
    "import pandas as pd\n",
    "import numpy as np\n",
    "import statsmodels.api as sm\n",
    "import statsmodels.formula.api as smf\n"
   ]
  },
  {
   "cell_type": "raw",
   "id": "6be78588",
   "metadata": {
    "vscode": {
     "languageId": "raw"
    }
   },
   "source": [
    "1. Domestic Box Office Regression"
   ]
  },
  {
   "cell_type": "code",
   "execution_count": 36,
   "id": "819c0f4e",
   "metadata": {},
   "outputs": [
    {
     "name": "stdout",
     "output_type": "stream",
     "text": [
      "                            OLS Regression Results                            \n",
      "==============================================================================\n",
      "Dep. Variable:             log_profit   R-squared:                       0.649\n",
      "Model:                            OLS   Adj. R-squared:                  0.639\n",
      "Method:                 Least Squares   F-statistic:                     66.79\n",
      "Date:                Tue, 27 May 2025   Prob (F-statistic):          3.46e-149\n",
      "Time:                        16:20:39   Log-Likelihood:                -942.61\n",
      "No. Observations:                 744   AIC:                             1927.\n",
      "Df Residuals:                     723   BIC:                             2024.\n",
      "Df Model:                          20                                         \n",
      "Covariance Type:            nonrobust                                         \n",
      "============================================================================================================\n",
      "                                               coef    std err          t      P>|t|      [0.025      0.975]\n",
      "------------------------------------------------------------------------------------------------------------\n",
      "Intercept                                   -2.3654      0.761     -3.109      0.002      -3.859      -0.872\n",
      "C(genre)[T.Adventure]                        0.5544      0.268      2.070      0.039       0.029       1.080\n",
      "C(genre)[T.Black Comedy]                     0.3725      0.293      1.271      0.204      -0.203       0.948\n",
      "C(genre)[T.Comedy]                           0.2514      0.179      1.405      0.160      -0.100       0.603\n",
      "C(genre)[T.Concert/Performance]              0.3122      0.232      1.343      0.180      -0.144       0.768\n",
      "C(genre)[T.Documentary]                      0.1629      0.159      1.023      0.307      -0.150       0.475\n",
      "C(genre)[T.Drama]                            0.4358      0.179      2.440      0.015       0.085       0.787\n",
      "C(genre)[T.Horror]                           0.6748      0.192      3.513      0.000       0.298       1.052\n",
      "C(genre)[T.Musical]                          0.2290      0.642      0.357      0.721      -1.031       1.489\n",
      "C(genre)[T.Romantic Comedy]                  0.2859      0.209      1.371      0.171      -0.124       0.695\n",
      "C(genre)[T.Thriller/Suspense]                0.1806      0.194      0.932      0.352      -0.200       0.561\n",
      "C(genre)[T.Western]                         -0.1645      0.540     -0.305      0.761      -1.224       0.895\n",
      "creative_type[T.Dramatization]              -0.2856      0.130     -2.191      0.029      -0.542      -0.030\n",
      "creative_type[T.Factual]                     0.4751      0.165      2.881      0.004       0.151       0.799\n",
      "creative_type[T.Fantasy]                     0.0929      0.139      0.667      0.505      -0.181       0.367\n",
      "creative_type[T.Historical Fiction]         -0.3437      0.139     -2.479      0.013      -0.616      -0.072\n",
      "creative_type[T.Kids Fiction]               -0.0675      0.263     -0.256      0.798      -0.584       0.450\n",
      "creative_type[T.Multiple Creative Types]     0.9143      0.620      1.474      0.141      -0.303       2.132\n",
      "creative_type[T.Science Fiction]            -0.0597      0.169     -0.353      0.724      -0.392       0.272\n",
      "creative_type[T.Super Hero]                 -2.5540      0.887     -2.879      0.004      -4.295      -0.813\n",
      "theatrical_engagements                   -3.074e-05   1.35e-05     -2.279      0.023   -5.72e-05   -4.26e-06\n",
      "log_domestic_box_office                      1.0754      0.049     21.893      0.000       0.979       1.172\n",
      "==============================================================================\n",
      "Omnibus:                      255.916   Durbin-Watson:                   1.977\n",
      "Prob(Omnibus):                  0.000   Jarque-Bera (JB):              812.391\n",
      "Skew:                          -1.675   Prob(JB):                    3.90e-177\n",
      "Kurtosis:                       6.871   Cond. No.                     5.89e+18\n",
      "==============================================================================\n",
      "\n",
      "Notes:\n",
      "[1] Standard Errors assume that the covariance matrix of the errors is correctly specified.\n",
      "[2] The smallest eigenvalue is 1.56e-27. This might indicate that there are\n",
      "strong multicollinearity problems or that the design matrix is singular.\n"
     ]
    },
    {
     "name": "stderr",
     "output_type": "stream",
     "text": [
      "/Users/albert/anaconda3/lib/python3.11/site-packages/pandas/core/arraylike.py:396: RuntimeWarning: invalid value encountered in log1p\n",
      "  result = getattr(ufunc, method)(*inputs, **kwargs)\n"
     ]
    }
   ],
   "source": [
    "# Load dataset\n",
    "df = pd.read_csv(\"movie_summary.csv\")\n",
    "\n",
    "# Filter as previously done\n",
    "df = df[\n",
    "    (df['production_year'] > 2000) &\n",
    "    (df['genre'] != \"Reality\") &\n",
    "    (df['domestic_box_office'] < 50000000) &\n",
    "    (df['international_box_office'] < 50000000) &\n",
    "    (df['production_budget'] != 0) &\n",
    "    (df['domestic_box_office'] != 0) &\n",
    "    df['genre'].notna() &\n",
    "    df['domestic_box_office'].notna()\n",
    "].copy()\n",
    "\n",
    "# Feature Engineering\n",
    "df['log_domestic_box_office'] = np.log1p(df['domestic_box_office'])\n",
    "df['log_budget'] = np.log1p(df['production_budget'])\n",
    "df['profit'] = df['domestic_box_office'] - df['production_budget']\n",
    "df['log_profit'] = np.log1p(df['profit'])\n",
    "\n",
    "# Drop rows with missing engineered values\n",
    "df = df.dropna(subset=['log_profit', 'log_budget', 'genre','production_year','theatrical_engagements','creative_type'])\n",
    "\n",
    "# Linear regression formula\n",
    "formula = 'log_profit ~  C(genre) + creative_type + theatrical_engagements + log_domestic_box_office'\n",
    "\n",
    "# Fit the model\n",
    "model = smf.ols(formula, data=df).fit()\n",
    "\n",
    "# Print the summary\n",
    "print(model.summary())"
   ]
  },
  {
   "cell_type": "raw",
   "id": "6b09ddde",
   "metadata": {
    "vscode": {
     "languageId": "raw"
    }
   },
   "source": [
    "2. International Box Office Regression"
   ]
  },
  {
   "cell_type": "code",
   "execution_count": 23,
   "id": "0d1e6f8a",
   "metadata": {},
   "outputs": [
    {
     "name": "stdout",
     "output_type": "stream",
     "text": [
      "                                 OLS Regression Results                                 \n",
      "========================================================================================\n",
      "Dep. Variable:     log_international_box_office   R-squared:                       0.253\n",
      "Model:                                      OLS   Adj. R-squared:                  0.246\n",
      "Method:                           Least Squares   F-statistic:                     35.42\n",
      "Date:                          Tue, 27 May 2025   Prob (F-statistic):          2.22e-128\n",
      "Time:                                  16:02:58   Log-Likelihood:                -7080.7\n",
      "No. Observations:                          2327   AIC:                         1.421e+04\n",
      "Df Residuals:                              2304   BIC:                         1.434e+04\n",
      "Df Model:                                    22                                         \n",
      "Covariance Type:                      nonrobust                                         \n",
      "============================================================================================================\n",
      "                                               coef    std err          t      P>|t|      [0.025      0.975]\n",
      "------------------------------------------------------------------------------------------------------------\n",
      "Intercept                                 -342.2224     46.855     -7.304      0.000    -434.104    -250.340\n",
      "C(genre)[T.Adventure]                       -0.7692      0.686     -1.121      0.263      -2.115       0.577\n",
      "C(genre)[T.Black Comedy]                     0.1329      0.899      0.148      0.883      -1.631       1.897\n",
      "C(genre)[T.Comedy]                          -1.4759      0.466     -3.168      0.002      -2.389      -0.562\n",
      "C(genre)[T.Concert/Performance]             -0.5873      1.155     -0.509      0.611      -2.852       1.678\n",
      "C(genre)[T.Documentary]                     -0.6368      0.693     -0.919      0.358      -1.995       0.721\n",
      "C(genre)[T.Drama]                           -0.2111      0.449     -0.470      0.638      -1.092       0.669\n",
      "C(genre)[T.Horror]                           0.8474      0.563      1.506      0.132      -0.256       1.951\n",
      "C(genre)[T.Multiple Genres]                  0.2152      5.121      0.042      0.966      -9.827      10.257\n",
      "C(genre)[T.Musical]                         -0.1197      1.135     -0.105      0.916      -2.346       2.106\n",
      "C(genre)[T.Romantic Comedy]                 -0.3847      0.628     -0.613      0.540      -1.616       0.847\n",
      "C(genre)[T.Thriller/Suspense]                0.4759      0.494      0.963      0.335      -0.493       1.445\n",
      "C(genre)[T.Western]                         -1.1572      1.359     -0.852      0.395      -3.822       1.507\n",
      "creative_type[T.Dramatization]              -0.0580      0.391     -0.148      0.882      -0.825       0.709\n",
      "creative_type[T.Factual]                    -1.2242      0.660     -1.856      0.064      -2.518       0.070\n",
      "creative_type[T.Fantasy]                     0.3284      0.459      0.716      0.474      -0.572       1.228\n",
      "creative_type[T.Historical Fiction]          0.0839      0.374      0.224      0.823      -0.650       0.818\n",
      "creative_type[T.Kids Fiction]               -0.6450      0.806     -0.800      0.424      -2.225       0.935\n",
      "creative_type[T.Multiple Creative Types]     4.2260      2.957      1.429      0.153      -1.573      10.025\n",
      "creative_type[T.Science Fiction]             0.3272      0.469      0.698      0.485      -0.592       1.247\n",
      "creative_type[T.Super Hero]                  1.2921      1.641      0.788      0.431      -1.925       4.509\n",
      "log_budget                                   1.1910      0.091     13.082      0.000       1.012       1.370\n",
      "production_year                              0.1667      0.023      7.162      0.000       0.121       0.212\n",
      "theatrical_engagements                       0.0003   2.92e-05      9.730      0.000       0.000       0.000\n",
      "==============================================================================\n",
      "Omnibus:                      459.606   Durbin-Watson:                   1.990\n",
      "Prob(Omnibus):                  0.000   Jarque-Bera (JB):              778.183\n",
      "Skew:                          -1.303   Prob(JB):                    1.05e-169\n",
      "Kurtosis:                       4.110   Cond. No.                     2.60e+18\n",
      "==============================================================================\n",
      "\n",
      "Notes:\n",
      "[1] Standard Errors assume that the covariance matrix of the errors is correctly specified.\n",
      "[2] The smallest eigenvalue is 1.49e-26. This might indicate that there are\n",
      "strong multicollinearity problems or that the design matrix is singular.\n"
     ]
    }
   ],
   "source": [
    "# Feature Engineering\n",
    "df['log_international_box_office'] = np.log1p(df['international_box_office'])\n",
    "\n",
    "df = df.dropna(subset=['log_international_box_office', 'log_budget', 'genre','production_year','theatrical_engagements','creative_type'])\n",
    "\n",
    "# Linear regression formula\n",
    "formula = 'log_international_box_office ~ log_budget + C(genre) + production_year + theatrical_engagements + creative_type'\n",
    "\n",
    "# Fit the model\n",
    "model = smf.ols(formula, data=df).fit()\n",
    "\n",
    "# Print the summary\n",
    "print(model.summary())"
   ]
  },
  {
   "cell_type": "code",
   "execution_count": null,
   "id": "b56c49a2",
   "metadata": {},
   "outputs": [],
   "source": []
  }
 ],
 "metadata": {
  "kernelspec": {
   "display_name": "base",
   "language": "python",
   "name": "python3"
  },
  "language_info": {
   "codemirror_mode": {
    "name": "ipython",
    "version": 3
   },
   "file_extension": ".py",
   "mimetype": "text/x-python",
   "name": "python",
   "nbconvert_exporter": "python",
   "pygments_lexer": "ipython3",
   "version": "3.11.5"
  }
 },
 "nbformat": 4,
 "nbformat_minor": 5
}
