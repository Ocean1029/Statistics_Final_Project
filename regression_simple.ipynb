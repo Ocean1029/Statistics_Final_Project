{
 "cells": [
  {
   "cell_type": "raw",
   "id": "7a5b4e5b",
   "metadata": {
    "vscode": {
     "languageId": "raw"
    }
   },
   "source": [
    "0. Import Libraries"
   ]
  },
  {
   "cell_type": "code",
   "execution_count": 2,
   "id": "8faeeec2",
   "metadata": {},
   "outputs": [],
   "source": [
    "import pandas as pd\n",
    "import numpy as np\n",
    "import statsmodels.api as sm\n",
    "import statsmodels.formula.api as smf\n"
   ]
  },
  {
   "cell_type": "raw",
   "id": "6be78588",
   "metadata": {
    "vscode": {
     "languageId": "raw"
    }
   },
   "source": [
    "1. Domestic Box Office Regression"
   ]
  },
  {
   "cell_type": "code",
   "execution_count": null,
   "id": "819c0f4e",
   "metadata": {},
   "outputs": [
    {
     "name": "stdout",
     "output_type": "stream",
     "text": [
      "                             OLS Regression Results                            \n",
      "===============================================================================\n",
      "Dep. Variable:     domestic_box_office   R-squared:                       0.086\n",
      "Model:                             OLS   Adj. R-squared:                  0.078\n",
      "Method:                  Least Squares   F-statistic:                     11.41\n",
      "Date:                 Tue, 27 May 2025   Prob (F-statistic):           3.87e-32\n",
      "Time:                         18:24:15   Log-Likelihood:                -39285.\n",
      "No. Observations:                 2203   AIC:                         7.861e+04\n",
      "Df Residuals:                     2184   BIC:                         7.872e+04\n",
      "Df Model:                           18                                         \n",
      "Covariance Type:             nonrobust                                         \n",
      "============================================================================================================\n",
      "                                               coef    std err          t      P>|t|      [0.025      0.975]\n",
      "------------------------------------------------------------------------------------------------------------\n",
      "Intercept                                 1.823e+07   1.11e+06     16.385      0.000    1.61e+07    2.04e+07\n",
      "C(genre)[T.Adventure]                    -1.403e+06   1.92e+06     -0.729      0.466   -5.18e+06    2.37e+06\n",
      "C(genre)[T.Black Comedy]                 -5.481e+06   2.44e+06     -2.245      0.025   -1.03e+07   -6.92e+05\n",
      "C(genre)[T.Comedy]                       -2.632e+06   1.27e+06     -2.073      0.038   -5.12e+06   -1.42e+05\n",
      "C(genre)[T.Concert/Performance]          -1.227e+20   6.08e+19     -2.020      0.044   -2.42e+20   -3.57e+18\n",
      "C(genre)[T.Documentary]                  -1.227e+20   6.08e+19     -2.020      0.044   -2.42e+20   -3.57e+18\n",
      "C(genre)[T.Drama]                        -8.348e+06    1.2e+06     -6.941      0.000   -1.07e+07   -5.99e+06\n",
      "C(genre)[T.Horror]                       -1.269e+04   1.52e+06     -0.008      0.993      -3e+06    2.97e+06\n",
      "C(genre)[T.Musical]                      -8.649e+06   3.01e+06     -2.870      0.004   -1.46e+07   -2.74e+06\n",
      "C(genre)[T.Romantic Comedy]              -2.647e+06    1.7e+06     -1.558      0.119   -5.98e+06    6.84e+05\n",
      "C(genre)[T.Thriller/Suspense]             -3.72e+06   1.35e+06     -2.758      0.006   -6.37e+06   -1.07e+06\n",
      "C(genre)[T.Western]                      -7.791e+06   3.82e+06     -2.037      0.042   -1.53e+07   -2.92e+05\n",
      "creative_type[T.Dramatization]            8.993e+05   1.04e+06      0.867      0.386   -1.14e+06    2.93e+06\n",
      "creative_type[T.Factual]                  1.227e+20   6.08e+19      2.020      0.044    3.57e+18    2.42e+20\n",
      "creative_type[T.Fantasy]                  1.786e+06   1.26e+06      1.421      0.155   -6.78e+05    4.25e+06\n",
      "creative_type[T.Historical Fiction]      -1.974e+06   9.94e+05     -1.987      0.047   -3.92e+06    -2.6e+04\n",
      "creative_type[T.Kids Fiction]             5.517e+06   2.29e+06      2.408      0.016    1.02e+06       1e+07\n",
      "creative_type[T.Multiple Creative Types]  6.476e+06   7.82e+06      0.828      0.408   -8.86e+06    2.18e+07\n",
      "creative_type[T.Science Fiction]         -1.632e+06   1.28e+06     -1.276      0.202   -4.14e+06    8.76e+05\n",
      "creative_type[T.Super Hero]               4.476e+06   4.34e+06      1.031      0.303   -4.04e+06     1.3e+07\n",
      "==============================================================================\n",
      "Omnibus:                      213.405   Durbin-Watson:                   1.087\n",
      "Prob(Omnibus):                  0.000   Jarque-Bera (JB):              277.404\n",
      "Skew:                           0.865   Prob(JB):                     5.79e-61\n",
      "Kurtosis:                       2.822   Cond. No.                     4.08e+14\n",
      "==============================================================================\n",
      "\n",
      "Notes:\n",
      "[1] Standard Errors assume that the covariance matrix of the errors is correctly specified.\n",
      "[2] The smallest eigenvalue is 1.64e-26. This might indicate that there are\n",
      "strong multicollinearity problems or that the design matrix is singular.\n"
     ]
    },
    {
     "name": "stderr",
     "output_type": "stream",
     "text": [
      "/Users/albert/anaconda3/lib/python3.11/site-packages/pandas/core/arraylike.py:396: RuntimeWarning: invalid value encountered in log1p\n",
      "  result = getattr(ufunc, method)(*inputs, **kwargs)\n"
     ]
    }
   ],
   "source": [
    "# Load dataset\n",
    "df = pd.read_csv(\"movie_summary.csv\")\n",
    "\n",
    "# Filter as previously done\n",
    "df = df[\n",
    "    (df['production_year'] > 2000) &\n",
    "    (df['genre'] != \"Reality\") &\n",
    "    (df['domestic_box_office'] < 50000000) &\n",
    "    (df['international_box_office'] < 50000000) &\n",
    "    (df['production_budget'] != 0) &\n",
    "    (df['domestic_box_office'] != 0) &\n",
    "    df['genre'].notna() &\n",
    "    df['domestic_box_office'].notna()\n",
    "].copy()\n",
    "\n",
    "# Feature Engineering\n",
    "df['log_domestic_box_office'] = np.log1p(df['domestic_box_office'])\n",
    "df['log_budget'] = np.log1p(df['production_budget'])\n",
    "df['total_box_office'] = df['domestic_box_office'] + df['international_box_office']\n",
    "df['log_total_box_office'] = np.log1p(df['total_box_office'])\n",
    "df['profit'] = df['domestic_box_office'] - df['production_budget']\n",
    "df['log_profit'] = np.log1p(df['profit'])\n",
    "\n",
    "# Drop rows with missing engineered values\n",
    "df = df.dropna(subset=['log_domestic_box_office', 'log_budget', 'genre','production_year','theatrical_engagements','creative_type'])\n",
    "\n",
    "# Linear regression formula\n",
    "formula = 'domestic_box_office ~  C(genre) + creative_type + theatrical_engagements '\n",
    "\n",
    "# Fit the model\n",
    "model = smf.ols(formula, data=df).fit()\n",
    "\n",
    "# Print the summary\n",
    "print(model.summary())"
   ]
  },
  {
   "cell_type": "raw",
   "id": "6b09ddde",
   "metadata": {
    "vscode": {
     "languageId": "raw"
    }
   },
   "source": [
    "2. International Box Office Regression"
   ]
  },
  {
   "cell_type": "code",
   "execution_count": 39,
   "id": "0d1e6f8a",
   "metadata": {},
   "outputs": [
    {
     "name": "stdout",
     "output_type": "stream",
     "text": [
      "                                 OLS Regression Results                                 \n",
      "========================================================================================\n",
      "Dep. Variable:     log_international_box_office   R-squared:                       0.261\n",
      "Model:                                      OLS   Adj. R-squared:                  0.254\n",
      "Method:                           Least Squares   F-statistic:                     36.76\n",
      "Date:                          Tue, 27 May 2025   Prob (F-statistic):          6.05e-127\n",
      "Time:                                  17:37:23   Log-Likelihood:                -6731.8\n",
      "No. Observations:                          2203   AIC:                         1.351e+04\n",
      "Df Residuals:                              2181   BIC:                         1.363e+04\n",
      "Df Model:                                    21                                         \n",
      "Covariance Type:                      nonrobust                                         \n",
      "============================================================================================================\n",
      "                                               coef    std err          t      P>|t|      [0.025      0.975]\n",
      "------------------------------------------------------------------------------------------------------------\n",
      "Intercept                                 -325.2264     48.910     -6.649      0.000    -421.142    -229.311\n",
      "C(genre)[T.Adventure]                       -1.1701      0.736     -1.590      0.112      -2.613       0.273\n",
      "C(genre)[T.Black Comedy]                     0.2337      0.939      0.249      0.803      -1.608       2.075\n",
      "C(genre)[T.Comedy]                          -1.4733      0.489     -3.013      0.003      -2.432      -0.514\n",
      "C(genre)[T.Concert/Performance]             -0.5418      1.172     -0.462      0.644      -2.840       1.756\n",
      "C(genre)[T.Documentary]                     -0.6045      0.709     -0.853      0.394      -1.995       0.786\n",
      "C(genre)[T.Drama]                           -0.1305      0.473     -0.276      0.783      -1.059       0.798\n",
      "C(genre)[T.Horror]                           0.8308      0.591      1.405      0.160      -0.329       1.990\n",
      "C(genre)[T.Musical]                          0.0202      1.157      0.017      0.986      -2.248       2.289\n",
      "C(genre)[T.Romantic Comedy]                 -0.4754      0.653     -0.729      0.466      -1.755       0.804\n",
      "C(genre)[T.Thriller/Suspense]                0.5249      0.520      1.009      0.313      -0.495       1.545\n",
      "C(genre)[T.Western]                         -1.6552      1.465     -1.130      0.259      -4.528       1.217\n",
      "creative_type[T.Dramatization]              -0.0334      0.406     -0.082      0.935      -0.830       0.763\n",
      "creative_type[T.Factual]                    -1.1463      0.676     -1.696      0.090      -2.472       0.179\n",
      "creative_type[T.Fantasy]                     0.2674      0.482      0.555      0.579      -0.677       1.212\n",
      "creative_type[T.Historical Fiction]          0.1497      0.388      0.386      0.699      -0.611       0.910\n",
      "creative_type[T.Kids Fiction]               -1.0916      0.881     -1.239      0.215      -2.819       0.636\n",
      "creative_type[T.Multiple Creative Types]     4.2754      2.996      1.427      0.154      -1.600      10.151\n",
      "creative_type[T.Science Fiction]             0.5385      0.490      1.098      0.272      -0.423       1.500\n",
      "creative_type[T.Super Hero]                  1.3848      1.664      0.832      0.405      -1.879       4.649\n",
      "log_budget                                   1.1802      0.095     12.398      0.000       0.993       1.367\n",
      "production_year                              0.1582      0.024      6.511      0.000       0.111       0.206\n",
      "theatrical_engagements                       0.0003   3.11e-05     10.213      0.000       0.000       0.000\n",
      "==============================================================================\n",
      "Omnibus:                      406.109   Durbin-Watson:                   2.001\n",
      "Prob(Omnibus):                  0.000   Jarque-Bera (JB):              661.000\n",
      "Skew:                          -1.254   Prob(JB):                    2.92e-144\n",
      "Kurtosis:                       3.954   Cond. No.                     2.49e+18\n",
      "==============================================================================\n",
      "\n",
      "Notes:\n",
      "[1] Standard Errors assume that the covariance matrix of the errors is correctly specified.\n",
      "[2] The smallest eigenvalue is 1.62e-26. This might indicate that there are\n",
      "strong multicollinearity problems or that the design matrix is singular.\n"
     ]
    }
   ],
   "source": [
    "# Feature Engineering\n",
    "df['log_international_box_office'] = np.log1p(df['international_box_office'])\n",
    "\n",
    "df = df.dropna(subset=['log_total_box_office','log_international_box_office', 'log_budget', 'genre','production_year','theatrical_engagements','creative_type'])\n",
    "\n",
    "# Linear regression formula\n",
    "formula = 'log_international_box_office ~ log_budget + C(genre) + production_year + theatrical_engagements + creative_type'\n",
    "\n",
    "# Fit the model\n",
    "model = smf.ols(formula, data=df).fit()\n",
    "\n",
    "# Print the summary\n",
    "print(model.summary())"
   ]
  },
  {
   "cell_type": "code",
   "execution_count": 43,
   "id": "b56c49a2",
   "metadata": {},
   "outputs": [
    {
     "name": "stdout",
     "output_type": "stream",
     "text": [
      "                             OLS Regression Results                             \n",
      "================================================================================\n",
      "Dep. Variable:     log_total_box_office   R-squared:                       0.503\n",
      "Model:                              OLS   Adj. R-squared:                  0.498\n",
      "Method:                   Least Squares   F-statistic:                     116.0\n",
      "Date:                  Tue, 27 May 2025   Prob (F-statistic):          1.88e-313\n",
      "Time:                          17:38:28   Log-Likelihood:                -4156.9\n",
      "No. Observations:                  2203   AIC:                             8354.\n",
      "Df Residuals:                      2183   BIC:                             8468.\n",
      "Df Model:                            19                                         \n",
      "Covariance Type:              nonrobust                                         \n",
      "===============================================================================================================\n",
      "                                                  coef    std err          t      P>|t|      [0.025      0.975]\n",
      "---------------------------------------------------------------------------------------------------------------\n",
      "Intercept                                      14.4473      0.142    101.652      0.000      14.169      14.726\n",
      "C(genre)[T.Adventure]                          -0.5720      0.228     -2.504      0.012      -1.020      -0.124\n",
      "C(genre)[T.Black Comedy]                       -0.6637      0.291     -2.285      0.022      -1.233      -0.094\n",
      "C(genre)[T.Comedy]                             -0.5077      0.151     -3.368      0.001      -0.803      -0.212\n",
      "C(genre)[T.Concert/Performance]                 1.0515      0.364      2.892      0.004       0.338       1.765\n",
      "C(genre)[T.Documentary]                        -1.2851      0.217     -5.917      0.000      -1.711      -0.859\n",
      "C(genre)[T.Drama]                              -0.2572      0.145     -1.773      0.076      -0.542       0.027\n",
      "C(genre)[T.Horror]                             -0.2952      0.181     -1.632      0.103      -0.650       0.060\n",
      "C(genre)[T.Musical]                             0.1781      0.359      0.496      0.620      -0.526       0.883\n",
      "C(genre)[T.Romantic Comedy]                    -0.5216      0.202     -2.583      0.010      -0.918      -0.126\n",
      "C(genre)[T.Thriller/Suspense]                  -0.1789      0.161     -1.114      0.265      -0.494       0.136\n",
      "C(genre)[T.Western]                            -0.7431      0.455     -1.634      0.102      -1.635       0.149\n",
      "C(creative_type)[T.Dramatization]               0.5278      0.123      4.278      0.000       0.286       0.770\n",
      "C(creative_type)[T.Factual]                    -0.2336      0.208     -1.125      0.261      -0.641       0.174\n",
      "C(creative_type)[T.Fantasy]                     0.1634      0.149      1.093      0.274      -0.130       0.456\n",
      "C(creative_type)[T.Historical Fiction]          0.5457      0.118      4.612      0.000       0.314       0.778\n",
      "C(creative_type)[T.Kids Fiction]               -0.2188      0.274     -0.800      0.424      -0.755       0.318\n",
      "C(creative_type)[T.Multiple Creative Types]     0.9486      0.930      1.020      0.308      -0.874       2.772\n",
      "C(creative_type)[T.Science Fiction]            -0.0325      0.152     -0.214      0.831      -0.331       0.266\n",
      "C(creative_type)[T.Super Hero]                  0.2539      0.516      0.492      0.623      -0.759       1.267\n",
      "theatrical_engagements                          0.0003   8.21e-06     42.136      0.000       0.000       0.000\n",
      "==============================================================================\n",
      "Omnibus:                      623.803   Durbin-Watson:                   1.639\n",
      "Prob(Omnibus):                  0.000   Jarque-Bera (JB):             1957.068\n",
      "Skew:                          -1.423   Prob(JB):                         0.00\n",
      "Kurtosis:                       6.636   Cond. No.                     2.41e+18\n",
      "==============================================================================\n",
      "\n",
      "Notes:\n",
      "[1] Standard Errors assume that the covariance matrix of the errors is correctly specified.\n",
      "[2] The smallest eigenvalue is 1.64e-26. This might indicate that there are\n",
      "strong multicollinearity problems or that the design matrix is singular.\n"
     ]
    }
   ],
   "source": [
    "formula = 'log_total_box_office ~  C(genre) + C(creative_type)  + theatrical_engagements'\n",
    "\n",
    "# Fit the model\n",
    "model = smf.ols(formula, data=df).fit()\n",
    "\n",
    "# Print the summary\n",
    "print(model.summary())"
   ]
  },
  {
   "cell_type": "code",
   "execution_count": null,
   "id": "163123e6",
   "metadata": {},
   "outputs": [],
   "source": []
  },
  {
   "cell_type": "code",
   "execution_count": null,
   "id": "af121d28",
   "metadata": {},
   "outputs": [],
   "source": []
  }
 ],
 "metadata": {
  "kernelspec": {
   "display_name": "base",
   "language": "python",
   "name": "python3"
  },
  "language_info": {
   "codemirror_mode": {
    "name": "ipython",
    "version": 3
   },
   "file_extension": ".py",
   "mimetype": "text/x-python",
   "name": "python",
   "nbconvert_exporter": "python",
   "pygments_lexer": "ipython3",
   "version": "3.11.5"
  }
 },
 "nbformat": 4,
 "nbformat_minor": 5
}
