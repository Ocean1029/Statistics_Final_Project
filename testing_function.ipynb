{
 "cells": [
  {
   "cell_type": "raw",
   "id": "40abe73d",
   "metadata": {
    "vscode": {
     "languageId": "raw"
    }
   },
   "source": [
    "Import Libraries"
   ]
  },
  {
   "cell_type": "code",
   "execution_count": 1,
   "id": "20c411b8",
   "metadata": {},
   "outputs": [],
   "source": [
    "import numpy as np\n",
    "import pandas as pd\n",
    "from scipy import stats\n",
    "import statsmodels.api as sm\n",
    "import statsmodels.formula.api as smf\n",
    "import statsmodels.stats.api as sms\n",
    "from statsmodels.stats.libqsturng import qsturng\n",
    "from statsmodels.stats.multicomp import MultiComparison\n",
    "import matplotlib.pyplot as plt"
   ]
  },
  {
   "cell_type": "raw",
   "id": "b0b5f51c",
   "metadata": {
    "vscode": {
     "languageId": "raw"
    }
   },
   "source": [
    "1. Two-Sample F-Test (Variance)"
   ]
  },
  {
   "cell_type": "code",
   "execution_count": 2,
   "id": "31ed5636",
   "metadata": {},
   "outputs": [
    {
     "name": "stdout",
     "output_type": "stream",
     "text": [
      "                           0         1\n",
      "Mean                9.060000  7.940000\n",
      "Std Dev             0.403733  0.270185\n",
      "Size                5.000000  5.000000\n",
      "Degrees of Freedom  4.000000  4.000000\n",
      "F-statistic         2.232877       NaN\n",
      "F-critical          9.604530  0.104118\n",
      "p-value             0.455697       NaN\n"
     ]
    }
   ],
   "source": [
    "def f_test_variances(x1, x2, sides, alpha):\n",
    "    # Convert input to NumPy arrays\n",
    "    a1 = np.array(x1)\n",
    "    a2 = np.array(x2)\n",
    "\n",
    "    # Initialize results array\n",
    "    result = np.full((7, 2), None, dtype=float)\n",
    "    \n",
    "    # Calculate basic statistics\n",
    "    result[0] = [np.mean(a1), np.mean(a2)]                    # Means\n",
    "    result[1] = [np.std(a1, ddof=1), np.std(a2, ddof=1)]      # Sample standard deviations\n",
    "    result[2] = [a1.size, a2.size]                            # Sample sizes\n",
    "\n",
    "    # Degrees of freedom\n",
    "    dfn, dfd = a1.size - 1, a2.size - 1\n",
    "    result[3] = [dfn, dfd]\n",
    "\n",
    "    # F-statistic: ratio of sample variances\n",
    "    f_stat = np.var(a1, ddof=1) / np.var(a2, ddof=1)\n",
    "    result[4, 0] = f_stat\n",
    "\n",
    "    # Critical F-values\n",
    "    if sides > 1:\n",
    "        result[5] = [\n",
    "            stats.f.isf(alpha / 2, dfn, dfd),  # Upper critical value\n",
    "            stats.f.ppf(alpha / 2, dfn, dfd)   # Lower critical value\n",
    "        ]\n",
    "    else:\n",
    "        result[5] = [\n",
    "            stats.f.isf(alpha, dfn, dfd),      # One-sided critical value\n",
    "            stats.f.ppf(alpha, dfn, dfd)\n",
    "        ]\n",
    "\n",
    "    # P-value calculation\n",
    "    if f_stat > 1:\n",
    "        p_value = 1 - stats.f.cdf(f_stat, dfn, dfd)\n",
    "    else:\n",
    "        p_value = stats.f.cdf(f_stat, dfn, dfd)\n",
    "    if sides > 1:\n",
    "        p_value *= 2\n",
    "    result[6, 0] = p_value\n",
    "\n",
    "    # Create labeled DataFrame\n",
    "    labels = ['Mean', 'Std Dev', 'Size', 'Degrees of Freedom', 'F-statistic', 'F-critical', 'p-value']\n",
    "    df = pd.DataFrame(result, index=labels)\n",
    "\n",
    "    return df\n",
    "\n",
    "\"\"\" Testcase \"\"\"\n",
    "x1 = [9.2, 8.5, 9.6, 8.9, 9.1]   # Sample 1\n",
    "x2 = [8.3, 7.8, 7.6, 8.1, 7.9]   # Sample 2\n",
    "sides = 2                        # Two-tailed test\n",
    "alpha = 0.05                     # 5% significance level\n",
    "\n",
    "# Run the test\n",
    "result_df = f_test_variances(x1, x2, sides, alpha)\n",
    "\n",
    "# Display the result\n",
    "print(result_df)\n"
   ]
  },
  {
   "cell_type": "raw",
   "id": "1a393aa2",
   "metadata": {
    "vscode": {
     "languageId": "raw"
    }
   },
   "source": [
    "2. Two-Sample T-Test Assuming Unequal Variance (Mean Difference)"
   ]
  },
  {
   "cell_type": "code",
   "execution_count": 3,
   "id": "a111a2a6",
   "metadata": {},
   "outputs": [
    {
     "name": "stdout",
     "output_type": "stream",
     "text": [
      "                            0          1\n",
      "Mean                12.300000  10.900000\n",
      "Variance             0.200000   0.050000\n",
      "Size                 5.000000   5.000000\n",
      "H0 Diff              0.000000        NaN\n",
      "Degrees of Freedom   5.882353        NaN\n",
      "t-statistic          6.260990        NaN\n",
      "t-critical           2.458824  -2.458824\n",
      "p-value              0.000831        NaN\n"
     ]
    }
   ],
   "source": [
    "def t_test_two_means_unequal_variance(x1, x2, sides, alpha, H0_diff):\n",
    "    # Convert inputs to NumPy arrays\n",
    "    a1 = np.array(x1)\n",
    "    a2 = np.array(x2)\n",
    "\n",
    "    # Initialize results array\n",
    "    result = np.full((8, 2), None, dtype=float)\n",
    "\n",
    "    # Basic statistics\n",
    "    mean1, mean2 = np.mean(a1), np.mean(a2)\n",
    "    var1, var2 = np.var(a1, ddof=1), np.var(a2, ddof=1)\n",
    "    n1, n2 = a1.size, a2.size\n",
    "\n",
    "    result[0] = [mean1, mean2]  # Means\n",
    "    result[1] = [var1, var2]    # Variances\n",
    "    result[2] = [n1, n2]        # Sample sizes\n",
    "\n",
    "    # Mean difference and its variance\n",
    "    mean_diff = mean1 - mean2\n",
    "    diff_var = var1 / n1 + var2 / n2\n",
    "\n",
    "    # Hypothesized difference under H0\n",
    "    result[3, 0] = H0_diff\n",
    "\n",
    "    # Degrees of freedom (Welch-Satterthwaite equation)\n",
    "    numerator = diff_var ** 2\n",
    "    denominator = (var1**2 / (n1**2 * (n1 - 1))) + (var2**2 / (n2**2 * (n2 - 1)))\n",
    "    df = numerator / denominator\n",
    "    result[4, 0] = df\n",
    "\n",
    "    # t-statistic\n",
    "    t_stat = (mean_diff - H0_diff) / np.sqrt(diff_var)\n",
    "    result[5, 0] = t_stat\n",
    "\n",
    "    # Critical t-values\n",
    "    if sides > 1:\n",
    "        result[6] = [stats.t.isf(alpha / 2, df), stats.t.ppf(alpha / 2, df)]\n",
    "    else:\n",
    "        result[6] = [stats.t.isf(alpha, df), stats.t.ppf(alpha, df)]\n",
    "\n",
    "    # p-value\n",
    "    if t_stat > 0:\n",
    "        p_value = 1 - stats.t.cdf(t_stat, df)\n",
    "    else:\n",
    "        p_value = stats.t.cdf(t_stat, df)\n",
    "    if sides > 1:\n",
    "        p_value *= 2\n",
    "    result[7, 0] = p_value\n",
    "\n",
    "    # Create labeled DataFrame\n",
    "    labels = [\n",
    "        'Mean', 'Variance', 'Size', 'H0 Diff',\n",
    "        'Degrees of Freedom', 't-statistic', 't-critical', 'p-value'\n",
    "    ]\n",
    "    df = pd.DataFrame(result, index=labels)\n",
    "\n",
    "    return df\n",
    "\n",
    "\"\"\" Testcase \"\"\"\n",
    "x1 = [12.3, 11.7, 12.9, 12.5, 12.1]\n",
    "x2 = [11.0, 10.6, 10.8, 11.2, 10.9]\n",
    "sides = 2        # Two-tailed test\n",
    "alpha = 0.05     # 5% significance level\n",
    "H0_diff = 0      # Null hypothesis: means are equal\n",
    "\n",
    "# Run the t-test\n",
    "result_df = t_test_two_means_unequal_variance(x1, x2, sides, alpha, H0_diff)\n",
    "\n",
    "# Print the result\n",
    "print(result_df)\n"
   ]
  },
  {
   "cell_type": "raw",
   "id": "dac1f6a0",
   "metadata": {
    "vscode": {
     "languageId": "raw"
    }
   },
   "source": [
    "3. Two-Sample T-Test Assuming Equal Variance (Mean Difference)"
   ]
  },
  {
   "cell_type": "code",
   "execution_count": 4,
   "id": "1398b77e",
   "metadata": {},
   "outputs": [
    {
     "name": "stdout",
     "output_type": "stream",
     "text": [
      "                          Test for equality of means                          \n",
      "==============================================================================\n",
      "                 coef    std err          t      P>|t|      [0.025      0.975]\n",
      "------------------------------------------------------------------------------\n",
      "subset #1      0.5000      0.122      4.082      0.004       0.218       0.782\n",
      "==============================================================================\n"
     ]
    }
   ],
   "source": [
    "\n",
    "def run_t_test_summary(df, col1, col2, usevar='pooled', alpha=0.05):\n",
    "    \"\"\"\n",
    "    Runs a t-test using statsmodels' CompareMeans and prints a summary.\n",
    "\n",
    "    Parameters:\n",
    "    - df: DataFrame containing the columns\n",
    "    - col1, col2: Column names to compare\n",
    "    - usevar: 'pooled' (equal variances) or 'unequal' (Welch)\n",
    "    - alpha: Significance level\n",
    "    \"\"\"\n",
    "    group1 = sms.DescrStatsW(df[col1].values)\n",
    "    group2 = sms.DescrStatsW(df[col2].values)\n",
    "    t_test = sms.CompareMeans(group1, group2)\n",
    "    \n",
    "    return t_test.summary(usevar=usevar, alpha=alpha)\n",
    "\n",
    "\"\"\" Testcase \"\"\"\n",
    "# Create mock data\n",
    "df_test = pd.DataFrame({\n",
    "    'Method A': [10.2, 9.8, 10.0, 10.1, 10.4],\n",
    "    'Method B': [9.5, 9.6, 9.7, 9.4, 9.8]\n",
    "})\n",
    "\n",
    "# Run t-test summary\n",
    "print(run_t_test_summary(df_test, 'Method A', 'Method B', usevar='pooled', alpha=0.05))"
   ]
  },
  {
   "cell_type": "raw",
   "id": "264bc09a",
   "metadata": {
    "vscode": {
     "languageId": "raw"
    }
   },
   "source": [
    "4. Oneway ANOVA-Test"
   ]
  },
  {
   "cell_type": "code",
   "execution_count": 5,
   "id": "09b04c60",
   "metadata": {},
   "outputs": [
    {
     "name": "stdout",
     "output_type": "stream",
     "text": [
      "\n",
      "ANOVA Table:\n"
     ]
    },
    {
     "data": {
      "text/html": [
       "<div>\n",
       "<style scoped>\n",
       "    .dataframe tbody tr th:only-of-type {\n",
       "        vertical-align: middle;\n",
       "    }\n",
       "\n",
       "    .dataframe tbody tr th {\n",
       "        vertical-align: top;\n",
       "    }\n",
       "\n",
       "    .dataframe thead th {\n",
       "        text-align: right;\n",
       "    }\n",
       "</style>\n",
       "<table border=\"1\" class=\"dataframe\">\n",
       "  <thead>\n",
       "    <tr style=\"text-align: right;\">\n",
       "      <th></th>\n",
       "      <th>sum_sq</th>\n",
       "      <th>df</th>\n",
       "      <th>F</th>\n",
       "      <th>PR(&gt;F)</th>\n",
       "    </tr>\n",
       "  </thead>\n",
       "  <tbody>\n",
       "    <tr>\n",
       "      <th>C(factor)</th>\n",
       "      <td>17.555556</td>\n",
       "      <td>2.0</td>\n",
       "      <td>6.076923</td>\n",
       "      <td>0.036103</td>\n",
       "    </tr>\n",
       "    <tr>\n",
       "      <th>Residual</th>\n",
       "      <td>8.666667</td>\n",
       "      <td>6.0</td>\n",
       "      <td>NaN</td>\n",
       "      <td>NaN</td>\n",
       "    </tr>\n",
       "  </tbody>\n",
       "</table>\n",
       "</div>"
      ],
      "text/plain": [
       "              sum_sq   df         F    PR(>F)\n",
       "C(factor)  17.555556  2.0  6.076923  0.036103\n",
       "Residual    8.666667  6.0       NaN       NaN"
      ]
     },
     "metadata": {},
     "output_type": "display_data"
    }
   ],
   "source": [
    "def oneway_anova(df, response_col, factor_col):\n",
    "    \"\"\"\n",
    "    Runs a one-way ANOVA on the given dataframe.\n",
    "    \n",
    "    Parameters:\n",
    "    - df: pandas DataFrame containing the data\n",
    "    - response_col: name of the numeric response variable\n",
    "    - factor_col: name of the categorical factor\n",
    "\n",
    "    Returns:\n",
    "    - ANOVA summary table (DataFrame)\n",
    "    \"\"\"\n",
    "    \n",
    "    formula = f'{response_col} ~ C({factor_col})'\n",
    "    model = smf.ols(formula, data=df).fit()\n",
    "    aov_table = sms.anova_lm(model, typ=2)\n",
    "    \n",
    "    print(\"\\nANOVA Table:\")\n",
    "    display(aov_table)\n",
    "    \n",
    "    return aov_table\n",
    "\n",
    "\"\"\" Testcase \"\"\"\n",
    "# Create mock data\n",
    "df_test = pd.DataFrame({\n",
    "    'sale': [10, 12, 13, 14, 15, 16, 15, 14, 13],\n",
    "    'factor': ['A', 'A', 'A', 'B', 'B', 'B', 'C', 'C', 'C']\n",
    "})\n",
    "\n",
    "# Run ANOVA\n",
    "result = oneway_anova(df_test, 'sale', 'factor')"
   ]
  },
  {
   "cell_type": "raw",
   "id": "7850eea3",
   "metadata": {
    "vscode": {
     "languageId": "raw"
    }
   },
   "source": [
    "5. Shapiro-Wilk Test (Normality of the Groups)"
   ]
  },
  {
   "cell_type": "code",
   "execution_count": 6,
   "id": "8b6d4ecf",
   "metadata": {},
   "outputs": [
    {
     "name": "stdout",
     "output_type": "stream",
     "text": [
      "Shapiro-Wilk Test for Normality (alpha = 0.05):\n",
      "\n",
      "For factor = convnce\n",
      "  Shapiro statistic = 1.000000, p-value = 1.000000 → Likely Normal\n",
      "For factor = quality\n",
      "  Shapiro statistic = 1.000000, p-value = 1.000000 → Likely Normal\n",
      "For factor = price\n",
      "  Shapiro statistic = 0.759145, p-value = 0.020294 → Not Normal\n"
     ]
    }
   ],
   "source": [
    "def shapiro_wilk_test(df, response_col, factor_col, alpha=0.05):\n",
    "    \"\"\"\n",
    "    Runs Shapiro-Wilk test for normality on each group defined by a factor column.\n",
    "\n",
    "    Parameters:\n",
    "    - df: pandas DataFrame\n",
    "    - response_col: Name of the response variable\n",
    "    - factor_col: Name of the factor variable\n",
    "    - alpha: Significance level for the Shapiro-Wilk test\n",
    "\n",
    "    Returns:\n",
    "    - A dictionary of test results per group\n",
    "    \"\"\"\n",
    "    results = {}\n",
    "    print(f\"Shapiro-Wilk Test for Normality (alpha = {alpha}):\\n\")\n",
    "\n",
    "    for level in df[factor_col].unique():\n",
    "        group_data = df[response_col][df[factor_col] == level]\n",
    "        stat, p = stats.shapiro(group_data)\n",
    "        results[level] = {'Shapiro Statistic': stat, 'p-value': p}\n",
    "        \n",
    "        print(f\"For factor = {level}\")\n",
    "        print(f\"  Shapiro statistic = {stat:.6f}, p-value = {p:.6f}\", end=\" \")\n",
    "        if p > alpha:\n",
    "            print(\"→ Likely Normal\")\n",
    "        else:\n",
    "            print(\"→ Not Normal\")\n",
    "    \n",
    "    return results\n",
    "\n",
    "\"\"\" Testcase \"\"\"\n",
    "# Example DataFrame\n",
    "df_test = pd.DataFrame({\n",
    "    'sale': [10, 11, 9, 13, 14, 15, 18, 19, 100],\n",
    "    'factor': ['convnce', 'convnce', 'convnce', 'quality', 'quality', 'quality', 'price', 'price', 'price']\n",
    "})\n",
    "\n",
    "# Run normality test\n",
    "normality_results = shapiro_wilk_test(df_test, 'sale', 'factor')\n"
   ]
  },
  {
   "cell_type": "raw",
   "id": "67bcfd80",
   "metadata": {
    "vscode": {
     "languageId": "raw"
    }
   },
   "source": [
    "6. Bartlett's Test (Equal Variances)"
   ]
  },
  {
   "cell_type": "code",
   "execution_count": 7,
   "id": "bbe8fb3d",
   "metadata": {},
   "outputs": [
    {
     "name": "stdout",
     "output_type": "stream",
     "text": [
      "Bartlett’s Test for Equal Variances:\n",
      "  Test statistic = 0.000000, p-value = 1.000000 → Equal variances assumed\n"
     ]
    }
   ],
   "source": [
    "def bartlett_test(df, response_col, factor_col, alpha=0.05):\n",
    "    \"\"\"\n",
    "    Performs Bartlett's test for equal variances across groups.\n",
    "\n",
    "    Parameters:\n",
    "    - df: pandas DataFrame\n",
    "    - response_col: Name of the numeric response variable\n",
    "    - factor_col: Name of the categorical factor variable\n",
    "    - alpha: Significance level for the test\n",
    "\n",
    "    Returns:\n",
    "    - (statistic, p-value)\n",
    "    \"\"\"\n",
    "    groups = df[factor_col].unique()\n",
    "    data_by_group = [df[response_col][df[factor_col] == group] for group in groups]\n",
    "\n",
    "    stat, p = stats.bartlett(*data_by_group)\n",
    "    print(\"Bartlett’s Test for Equal Variances:\")\n",
    "    print(f\"  Test statistic = {stat:.6f}, p-value = {p:.6f}\", end=\" \")\n",
    "\n",
    "    if p > alpha:\n",
    "        print(\"→ Equal variances assumed\")\n",
    "    else:\n",
    "        print(\"→ Variances differ significantly\")\n",
    "\n",
    "    return stat, p\n",
    "\n",
    "\"\"\" Testcase \"\"\"\n",
    "# Example dataset\n",
    "df_test = pd.DataFrame({\n",
    "    'sale': [10, 11, 9, 13, 14, 15, 18, 19, 17],\n",
    "    'factor': ['convnce', 'convnce', 'convnce', 'quality', 'quality', 'quality', 'price', 'price', 'price']\n",
    "})\n",
    "\n",
    "# Run Bartlett’s test\n",
    "stat, p = bartlett_test(df_test, 'sale', 'factor')"
   ]
  },
  {
   "cell_type": "raw",
   "id": "01784ac6",
   "metadata": {
    "vscode": {
     "languageId": "raw"
    }
   },
   "source": [
    "7. Tukey's HSD"
   ]
  },
  {
   "cell_type": "code",
   "execution_count": 9,
   "id": "6e0a39b5",
   "metadata": {},
   "outputs": [
    {
     "name": "stdout",
     "output_type": "stream",
     "text": [
      "Q critical value = 4.334134\n",
      "Tukey Omega = 2.502314\n",
      " Multiple Comparison of Means - Tukey HSD, FWER=0.05  \n",
      "======================================================\n",
      " group1  group2 meandiff p-adj   lower   upper  reject\n",
      "------------------------------------------------------\n",
      "convnce   price      9.0 0.0001  6.4948 11.5052   True\n",
      "convnce quality      3.0 0.0242  0.4948  5.5052   True\n",
      "  price quality     -6.0 0.0008 -8.5052 -3.4948   True\n",
      "------------------------------------------------------\n"
     ]
    },
    {
     "data": {
      "image/png": "[encoded data removed]",
      "text/plain": [
       "<Figure size 1000x600 with 1 Axes>"
      ]
     },
     "metadata": {},
     "output_type": "display_data"
    },
    {
     "data": {
      "image/png": "[encoded data removed]",
      "text/plain": [
       "<Figure size 1000x600 with 1 Axes>"
      ]
     },
     "metadata": {},
     "output_type": "display_data"
    }
   ],
   "source": [
    "def tukey_hsd(df, response_col, factor_col, alpha=0.05, comparison_focus=None):\n",
    "    \"\"\"\n",
    "    Performs Tukey's HSD test and plots confidence intervals.\n",
    "\n",
    "    Parameters:\n",
    "    - df: pandas DataFrame\n",
    "    - response_col: Dependent variable\n",
    "    - factor_col: Categorical independent variable\n",
    "    - alpha: Significance level (default 0.05)\n",
    "    - comparison_focus: Optional group name to center the plot on\n",
    "\n",
    "    Returns:\n",
    "    - Tuple of (summary table, omega)\n",
    "    \"\"\"\n",
    "    # Number of groups and total degrees of freedom (from ANOVA)\n",
    "    group_sizes = df.groupby(factor_col).size()\n",
    "    k = len(group_sizes)\n",
    "    df_within = df.shape[0] - k\n",
    "    \n",
    "    # Harmonic mean of group sizes (used in omega calculation)\n",
    "    ng = k / np.sum(1 / group_sizes)\n",
    "\n",
    "    # Get residual sum of squares from ANOVA\n",
    "    model = smf.ols(f\"{response_col} ~ C({factor_col})\", data=df).fit()\n",
    "    aov_table = sms.anova_lm(model, typ=2)\n",
    "    mse = aov_table.loc[\"Residual\", \"sum_sq\"] / aov_table.loc[\"Residual\", \"df\"]\n",
    "\n",
    "    # Q critical value\n",
    "    q_crit = qsturng(1 - alpha, k, df_within)\n",
    "    omega = q_crit * np.sqrt(mse / ng)\n",
    "\n",
    "    # Run Tukey HSD\n",
    "    tukey = MultiComparison(df[response_col], df[factor_col])\n",
    "    tukey_result = tukey.tukeyhsd(alpha=alpha)\n",
    "\n",
    "    # Print results\n",
    "    print(f\"Q critical value = {q_crit:.6f}\")\n",
    "    print(f\"Tukey Omega = {omega:.6f}\")\n",
    "    print(tukey_result.summary())\n",
    "\n",
    "    # Plot\n",
    "    _ = tukey_result.plot_simultaneous()\n",
    "    plt.title(\"Tukey HSD Confidence Intervals\")\n",
    "    plt.show()\n",
    "\n",
    "    if comparison_focus:\n",
    "        _ = tukey_result.plot_simultaneous(comparison_name=comparison_focus)\n",
    "        plt.title(f\"Tukey HSD Focused on: {comparison_focus}\")\n",
    "        plt.show()\n",
    "\n",
    "    return tukey_result.summary(), omega\n",
    "\n",
    "# Simulated example\n",
    "df_test = pd.DataFrame({\n",
    "    'sale': [10, 12, 11, 15, 13, 14, 20, 19, 21],\n",
    "    'factor': ['convnce']*3 + ['quality']*3 + ['price']*3\n",
    "})\n",
    "\n",
    "summary, omega = tukey_hsd(df_test, response_col='sale', factor_col='factor', alpha=0.05, comparison_focus='quality')\n"
   ]
  }
 ],
 "metadata": {
  "kernelspec": {
   "display_name": ".venv",
   "language": "python",
   "name": "python3"
  },
  "language_info": {
   "codemirror_mode": {
    "name": "ipython",
    "version": 3
   },
   "file_extension": ".py",
   "mimetype": "text/x-python",
   "name": "python",
   "nbconvert_exporter": "python",
   "pygments_lexer": "ipython3",
   "version": "3.13.2"
  }
 },
 "nbformat": 4,
 "nbformat_minor": 5
}
